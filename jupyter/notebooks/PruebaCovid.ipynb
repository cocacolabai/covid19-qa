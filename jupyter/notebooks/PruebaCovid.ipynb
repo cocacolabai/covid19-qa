{
 "cells": [
  {
   "cell_type": "code",
   "execution_count": 4,
   "metadata": {},
   "outputs": [],
   "source": [
    "# packages to store and manipulate data\n",
    "import pandas as pd\n",
    "import numpy as np\n",
    "\n",
    "# plotting packages\n",
    "import matplotlib.pyplot as plt\n",
    "# model building package\n",
    "import sklearn\n",
    "import os\n",
    "# package to clean text\n",
    "import re\n",
    "from datetime import datetime\n",
    "from elasticsearch import Elasticsearch\n",
    "es = Elasticsearch([{'host': 'elasticsearch-covid', 'port': 9200}])"
   ]
  },
  {
   "cell_type": "markdown",
   "metadata": {},
   "source": [
    "Elasticsearch tiene varios tipos de query en la que se calcula el score de diferentes maneras, hay que buscar la que mejor se ajusta al problema."
   ]
  },
  {
   "cell_type": "code",
   "execution_count": 69,
   "metadata": {},
   "outputs": [],
   "source": [
    "def serch_query_string(query,\n",
    "                         index_pattern='covid*',\n",
    "                         size=10,\n",
    "                         fragments=0,\n",
    "                         text_field='html'):\n",
    "    return es.search(\n",
    "        index=index_pattern,\n",
    "        body={\n",
    "            \"from\": 0, \"size\": size,         \n",
    "            \"query\": {\n",
    "                    \"query_string\" : {\n",
    "                        \"query\" : query,\n",
    "                        \"default_field\" : text_field,\n",
    "                        \"minimum_should_match\": 1\n",
    "                    }\n",
    "                },\n",
    "             \"highlight\": {\n",
    "                \"fields\": {\n",
    "                    \"*\": {}\n",
    "                },\n",
    "                \"number_of_fragments\": fragments,\n",
    "                 \"fragment_size\": 500,\n",
    "                 \"pre_tags\":[\"<strong><u>\"],\n",
    "                 \"post_tags\":[\"</u></strong>\"]\n",
    "            }\n",
    "        })['hits']['hits']"
   ]
  },
  {
   "cell_type": "code",
   "execution_count": 74,
   "metadata": {},
   "outputs": [],
   "source": [
    "from IPython.core.display import display, HTML\n",
    "def get(fragments,text):\n",
    "    for result in serch_query_string(text,fragments=fragments):\n",
    "        print('Score: {}'.format(result['_score']))\n",
    "        for fragment in result['highlight']['html']:\n",
    "            display(HTML(fragment))\n",
    "            print('__')\n",
    "        print()"
   ]
  },
  {
   "cell_type": "markdown",
   "metadata": {},
   "source": [
    "Además del score puede indicar donde hizo el match. Puede develver cierto número de fragmentos que contienen el match o el documento completo"
   ]
  },
  {
   "cell_type": "code",
   "execution_count": 76,
   "metadata": {
    "scrolled": true
   },
   "outputs": [
    {
     "name": "stdout",
     "output_type": "stream",
     "text": [
      "Score: 30.528679\n"
     ]
    },
    {
     "data": {
      "text/html": [
       "También se señala que “el uso de este <strong><u>test</u></strong> diagnóstico <strong><u>desarrollado</u></strong> a nivel nacional permitirá no depender completamente de la compra de <em>kits</em> desde el exterior”."
      ],
      "text/plain": [
       "<IPython.core.display.HTML object>"
      ]
     },
     "metadata": {},
     "output_type": "display_data"
    },
    {
     "name": "stdout",
     "output_type": "stream",
     "text": [
      "__\n"
     ]
    },
    {
     "data": {
      "text/html": [
       "</p><p>El texto, además, deja constancia de que la <strong><u>Udelar</u></strong> y el <strong><u>Institut</u></strong> Pasteur destinaron 70.000 dólares “para la compra de los insumos necesarios para el inicio de las actividades en el marco de este acuerdo” y para la etapa de inicio de los <strong><u>test</u></strong> en los centros antes mencionados -marcando el compromiso de la comunidad científica y académica ante la pandemia-."
      ],
      "text/plain": [
       "<IPython.core.display.HTML object>"
      ]
     },
     "metadata": {},
     "output_type": "display_data"
    },
    {
     "name": "stdout",
     "output_type": "stream",
     "text": [
      "__\n"
     ]
    },
    {
     "data": {
      "text/html": [
       "</p><p>Con la firma de este acuerdo, la <strong><u>Udelar</u></strong> y el <strong><u>Institut</u></strong> Pasteur hacen la trasferencia del <strong><u>test</u></strong> que desarrollaron y podrá entonces realizarse en las instituciones mencionadas, aumentando así, antes de esperar a que se termine el <strong><u>proceso</u></strong> de <strong><u>registro</u></strong> del procedimiento, la capacidad de detección de casos de Covid-19 en el país."
      ],
      "text/plain": [
       "<IPython.core.display.HTML object>"
      ]
     },
     "metadata": {},
     "output_type": "display_data"
    },
    {
     "name": "stdout",
     "output_type": "stream",
     "text": [
      "__\n",
      "\n",
      "Score: 20.767653\n"
     ]
    },
    {
     "data": {
      "text/html": [
       "DOCTYPE html><html lang=\"es-uy\"><head>  <meta http-equiv=\"Content-Type\" content=\"text/html; charset=utf-8\"/>  <title><strong><u>Udelar</u></strong> y el <strong><u>Institut</u></strong> Pasteur desarrollaron <strong><u>test</u></strong> de diagnóstico del nuevo coronavirus</title></head><body>  <div class=\"article-header\">    <h1 class=\"article-title after_foto\">  <strong><u>Udelar</u></strong> y el <strong><u>Institut</u></strong> Pasteur desarrollaron <strong><u>test</u></strong> de diagnóstico del nuevo coronavirus      </h1>      <div class=\"article-date-author\">    <span class=\"date small\"><time datetime=\"2020-03-18T10:43:01\">18 De"
      ],
      "text/plain": [
       "<IPython.core.display.HTML object>"
      ]
     },
     "metadata": {},
     "output_type": "display_data"
    },
    {
     "name": "stdout",
     "output_type": "stream",
     "text": [
      "__\n"
     ]
    },
    {
     "data": {
      "text/html": [
       "Marzo De 2020</time> | </span>    <span class=\"small\">      <a href=\"https://ladiaria.com.uy/seccion/ciencia-y-coronavirus/\">Ciencia y coronavirus</a>  </span>  </div>    </div>    <div class=\"article-body paywalled-content\">      <p>Un equipo de científicos concretó <a href=\"https://ciencia.ladiaria.com.uy/articulo/2020/3/diagnostico-de-covid-19-que-desarrollan-la-<strong><u>udelar</u></strong>-y-el-<strong><u>institut</u></strong>-pasteur-de-montevideo-ciencia-para-construir-soberania/\">un ensayo de <strong><u>test</u></strong> que permitirá diagnosticar si las personas"
      ],
      "text/plain": [
       "<IPython.core.display.HTML object>"
      ]
     },
     "metadata": {},
     "output_type": "display_data"
    },
    {
     "name": "stdout",
     "output_type": "stream",
     "text": [
      "__\n"
     ]
    },
    {
     "data": {
      "text/html": [
       "</p><p>Según explicó Cristina se trata de un ensayo de diagnóstico para <a href=\"https://salud.ladiaria.com.uy/seccion/coronavirus/\">el nuevo coronavirus</a> <strong><u>desarrollado</u></strong> a partir de trabajos y metodologías de otras universidades del mundo, que pusieron a disposición sus protocolos. La investigación, agregó, había comenzado cuando la pandemia tuvo inicio en China. Tras este avance, la <strong><u>Udelar</u></strong> “está lista para contribuir con el sistema”, dijo Cristina."
      ],
      "text/plain": [
       "<IPython.core.display.HTML object>"
      ]
     },
     "metadata": {},
     "output_type": "display_data"
    },
    {
     "name": "stdout",
     "output_type": "stream",
     "text": [
      "__\n",
      "\n",
      "Score: 19.442581\n"
     ]
    },
    {
     "data": {
      "text/html": [
       "DOCTYPE html><html lang=\"es-uy\"><head>  <meta http-equiv=\"Content-Type\" content=\"text/html; charset=utf-8\"/>  <title>Diagnóstico de Covid-19 que desarrollan la <strong><u>Udelar</u></strong> y el <strong><u>Institut</u></strong> Pasteur de Montevideo: ciencia para construir soberanía</title></head><body>  <div class=\"article-header\">    <h1 class=\"article-title after_foto\">  Diagnóstico de Covid-19 que desarrollan la <strong><u>Udelar</u></strong> y el <strong><u>Institut</u></strong> Pasteur de Montevideo: ciencia para construir soberanía      </h1>      <div class=\"article-date-author\">"
      ],
      "text/plain": [
       "<IPython.core.display.HTML object>"
      ]
     },
     "metadata": {},
     "output_type": "display_data"
    },
    {
     "name": "stdout",
     "output_type": "stream",
     "text": [
      "__\n"
     ]
    },
    {
     "data": {
      "text/html": [
       "</p><ul><li>Leé más sobre esto: <a href=\"https://ladiaria.com.uy/articulo/2020/3/<strong><u>udelar</u></strong>-y-el-<strong><u>institut</u></strong>-pasteur-desarrollaron-<strong><u>test</u></strong>-de-diagnostico-del-nuevo-coronavirus/\"><strong><u>Udelar</u></strong> y el <strong><u>Institut</u></strong> Pasteur desarrollaron <strong><u>test</u></strong> de diagnóstico del nuevo coronavirus</a></li></ul><h3 id=\"tiempo-seriedad-y-responsabilidad\">Tiempo, seriedad y responsabilidad</h3><p>En tiempos de pandemia todos queremos tener cuando antes soluciones y respuestas. Pero la ciencia no trabaja de esa manera."
      ],
      "text/plain": [
       "<IPython.core.display.HTML object>"
      ]
     },
     "metadata": {},
     "output_type": "display_data"
    },
    {
     "name": "stdout",
     "output_type": "stream",
     "text": [
      "__\n"
     ]
    },
    {
     "data": {
      "text/html": [
       "Esa transferencia, ese pasar del laboratorio a la sociedad no suele ser un <strong><u>proceso</u></strong> sencillo y, por lo general, lleva su tiempo."
      ],
      "text/plain": [
       "<IPython.core.display.HTML object>"
      ]
     },
     "metadata": {},
     "output_type": "display_data"
    },
    {
     "name": "stdout",
     "output_type": "stream",
     "text": [
      "__\n",
      "\n",
      "Score: 18.45873\n"
     ]
    },
    {
     "data": {
      "text/html": [
       "</p><p>Sobre el primer punto, Arim informó que la <strong><u>Udelar</u></strong> “está en condiciones de desarrollar <strong><u>test</u></strong> de diagnóstico a partir de investigaciones ubicadas en las facultades de Ciencias, Medicina y el <strong><u>Institut</u></strong> Pasteur, trabajando en forma conjunta”, y el lunes el Ministerio de Salud Pública (MSP) “aceptó trabajar en esta dirección”."
      ],
      "text/plain": [
       "<IPython.core.display.HTML object>"
      ]
     },
     "metadata": {},
     "output_type": "display_data"
    },
    {
     "name": "stdout",
     "output_type": "stream",
     "text": [
      "__\n"
     ]
    },
    {
     "data": {
      "text/html": [
       "Todavía no está claro cómo se concretará el acuerdo entre la <strong><u>Udelar</u></strong> y el MSP, pero el rector señaló: “Veremos las formas, pero la voluntad de la Universidad es colaborar con el país en esta situación, para que esté al alcance de la sociedad y que no implique un <strong><u>proceso</u></strong> de privatización del diagnóstico, cosa que ya está sucediendo hoy."
      ],
      "text/plain": [
       "<IPython.core.display.HTML object>"
      ]
     },
     "metadata": {},
     "output_type": "display_data"
    },
    {
     "name": "stdout",
     "output_type": "stream",
     "text": [
      "__\n"
     ]
    },
    {
     "data": {
      "text/html": [
       "</p><p>El comité de crisis estará integrado por Juan Arbiza (Grado 5 de Virología Facultad de Ciencias), Otto Pristch (Director Académico <strong><u>Institut</u></strong> Pasteur de Montevideo y Grado 5 del Departamento de Inmunobiología), Carlos Batthyany (Director Ejecutivo <strong><u>Institut</u></strong> Pasteur de Montevideo), Cecilia Fernández (Prorrectora de Investigación de la <strong><u>Udelar</u></strong>), Andrés Gil (Médico Veterinario, Epidemiólogo y Asistente Académico de Facultad de Veterinaria), Álvaro Mombrú (decano de Facultad de Química), Robert Pérez"
      ],
      "text/plain": [
       "<IPython.core.display.HTML object>"
      ]
     },
     "metadata": {},
     "output_type": "display_data"
    },
    {
     "name": "stdout",
     "output_type": "stream",
     "text": [
      "__\n",
      "\n",
      "Score: 10.97562\n"
     ]
    },
    {
     "data": {
      "text/html": [
       "Lo que se daba a entender, en síntesis, es que el DLSP dejaría de hacer los <strong><u>test</u></strong> diagnósticos de quienes tuvieran síntomas (no graves) y creyeran haber tenido contacto con personas con Covid-19 durante los 14 días previos. Pero según Salinas, el cambio no es como se interpretó. Por el contrario, afirmó que ahora se testeará a “todos aquellos casos que tienen una sintomatología florida y que el médico determine”. “Un caso positivo es el demostrado por el <strong><u>test</u></strong> diagnóstico”, ilustró."
      ],
      "text/plain": [
       "<IPython.core.display.HTML object>"
      ]
     },
     "metadata": {},
     "output_type": "display_data"
    },
    {
     "name": "stdout",
     "output_type": "stream",
     "text": [
      "__\n"
     ]
    },
    {
     "data": {
      "text/html": [
       "</p><p>La demanda de <strong><u>test</u></strong> diagnósticos superó las capacidades del laboratorio del MSP, que estaba en condiciones de procesar entre 80 y 100 muestras diarias. Según informó la semana pasada Jorge Facal, infectólogo e integrante del comité de expertos que reunió el MSP, hasta el 16 de marzo el laboratorio sólo estaba pudiendo responder a 10% de las solicitudes. Otros laboratorios privados comenzaron a hacer el <strong><u>test</u></strong>, y también se habilitó a tres mutualistas."
      ],
      "text/plain": [
       "<IPython.core.display.HTML object>"
      ]
     },
     "metadata": {},
     "output_type": "display_data"
    },
    {
     "name": "stdout",
     "output_type": "stream",
     "text": [
      "__\n"
     ]
    },
    {
     "data": {
      "text/html": [
       "</p><p>Como alternativa a la importación de <strong><u>test</u></strong> diagnósticos, una de las grandes apuestas son los que están elaborando los investigadores del <strong><u>Institut</u></strong> Pasteur y de la Universidad de la República (<strong><u>Udelar</u></strong>). Según publicó ayer <em>El Observador</em>, Salinas aprobó el lunes la técnica creada por los científicos, y se estima que a partir de la próxima semana puedan hacerse 1.000 diagnósticos por día.</p>    </div></body></html>"
      ],
      "text/plain": [
       "<IPython.core.display.HTML object>"
      ]
     },
     "metadata": {},
     "output_type": "display_data"
    },
    {
     "name": "stdout",
     "output_type": "stream",
     "text": [
      "__\n",
      "\n",
      "Score: 10.096092\n"
     ]
    },
    {
     "data": {
      "text/html": [
       "En otros países se realiza uno o incluso dos <strong><u>test</u></strong> de diagnóstico antes de calificar a una persona como recuperada."
      ],
      "text/plain": [
       "<IPython.core.display.HTML object>"
      ]
     },
     "metadata": {},
     "output_type": "display_data"
    },
    {
     "name": "stdout",
     "output_type": "stream",
     "text": [
      "__\n"
     ]
    },
    {
     "data": {
      "text/html": [
       "</p><p>Salinas volvió a destacar que la capacidad de diagnóstico en Uruguay seguirá aumentando hasta llegar a 800 o 900 a fines de esta semana y recordó que se habilitó al <strong><u>Institut</u></strong> Pasteur a realizar diagnósticos con una capacidad de elaboración de 360 <strong><u>test</u></strong> a partir del quinto día. También señaló que siguen siendo ocho los departamentos afectados y que alrededor de 90% de los casos se concentran en Montevideo y Canelones."
      ],
      "text/plain": [
       "<IPython.core.display.HTML object>"
      ]
     },
     "metadata": {},
     "output_type": "display_data"
    },
    {
     "name": "stdout",
     "output_type": "stream",
     "text": [
      "__\n"
     ]
    },
    {
     "data": {
      "text/html": [
       "</p><p>Además, Jodal explicó que Uruguay implementará un segundo mecanismo para la realización de los <strong><u>test</u></strong> ordenados por el médico. Consistirá en un sistema de “estaciones” para que las muestras para el <strong><u>test</u></strong> de coronavirus se puedan tomar sin que las personas desciendan de sus autos, lo que acelera el <strong><u>proceso</u></strong> y aumenta la bioseguridad."
      ],
      "text/plain": [
       "<IPython.core.display.HTML object>"
      ]
     },
     "metadata": {},
     "output_type": "display_data"
    },
    {
     "name": "stdout",
     "output_type": "stream",
     "text": [
      "__\n",
      "\n",
      "Score: 10.031465\n"
     ]
    },
    {
     "data": {
      "text/html": [
       "Reconoció que en el laboratorio de virología del MSP, que centralizó al comienzo los análisis, “se puede generar transitoriamente algún cuello de botella” y que por eso se está coordinando para que, a partir de este martes, el laboratorio del MSP autorice y valide al laboratorio del <strong><u>Institut</u></strong> Pasteur de Montevideo a hacer los análisis. Además, Salinas anunció que tres mutualistas empezarán a hacer los <strong><u>test</u></strong>."
      ],
      "text/plain": [
       "<IPython.core.display.HTML object>"
      ]
     },
     "metadata": {},
     "output_type": "display_data"
    },
    {
     "name": "stdout",
     "output_type": "stream",
     "text": [
      "__\n"
     ]
    },
    {
     "data": {
      "text/html": [
       "Ninguna de ellas está en el norte del país, por lo que, por el momento, los análisis seguirán centralizados en la capital, lo que implica una <strong><u>demora</u></strong> extra para quienes viven en el norte del país (las muestras deben enviarse refrigeradas y tardan varias horas en llegar)."
      ],
      "text/plain": [
       "<IPython.core.display.HTML object>"
      ]
     },
     "metadata": {},
     "output_type": "display_data"
    },
    {
     "name": "stdout",
     "output_type": "stream",
     "text": [
      "__\n",
      "\n",
      "Score: 9.740364\n"
     ]
    },
    {
     "data": {
      "text/html": [
       "</p><p>10) Si comienza a presentar síntomas y estos son leves, se sugiere hacer la consulta médica en el domicilio, utilizar alternativas como la videoconsulta o la consulta médica telefónica de orientación, evitando concurrir a centros asistenciales; considere que en una situación de eventual sobredemanda de consultas, puede existir una <strong><u>demora</u></strong> en la evaluación médica de estos casos."
      ],
      "text/plain": [
       "<IPython.core.display.HTML object>"
      ]
     },
     "metadata": {},
     "output_type": "display_data"
    },
    {
     "name": "stdout",
     "output_type": "stream",
     "text": [
      "__\n"
     ]
    },
    {
     "data": {
      "text/html": [
       "[endif]-->      <img class=\"responsive-img landscape\"   data-caption=\"Foto del artículo ''\"   alt=\"Foto del artículo ''\" />    </picture>    </figure></div><p>El documento fue elaborado por la Sociedad de Infectología Clínica del Uruguay, Sociedad Uruguaya de Medicina Intensiva, cátedras de Enfermedades Infecciosas y de Medicina Intensiva (Facultad de Medicina, Universidad de la República -<strong><u>Udelar</u></strong>-), Sociedad Uruguaya de Emergencistas, Sociedad de Medicina Interna del Uruguay, Departamento de Medicina"
      ],
      "text/plain": [
       "<IPython.core.display.HTML object>"
      ]
     },
     "metadata": {},
     "output_type": "display_data"
    },
    {
     "name": "stdout",
     "output_type": "stream",
     "text": [
      "__\n"
     ]
    },
    {
     "data": {
      "text/html": [
       "Familiar y Comunitaria (Facultad de Medicina, <strong><u>Udelar</u></strong>), Sociedad Uruguaya de Medicina Familiar y Comunitaria, Sociedad Uruguaya de Enfermería en Cuidados Intensivos, Clínica Médica C (Hospital de Clínicas), Sociedad Uruguaya de Neumología, Asociación Latinoamericana para el Control de Infecciones, Facultad de Enfermería (<strong><u>Udelar</u></strong>), Departamento de Anestesiología (Hospital de Clínicas, Facultad de Medicina, <strong><u>Udelar</u></strong>)."
      ],
      "text/plain": [
       "<IPython.core.display.HTML object>"
      ]
     },
     "metadata": {},
     "output_type": "display_data"
    },
    {
     "name": "stdout",
     "output_type": "stream",
     "text": [
      "__\n",
      "\n",
      "Score: 9.19537\n"
     ]
    },
    {
     "data": {
      "text/html": [
       "</p><h4 id=\"se-podria-decir-que-esta-emergencia-agarro-a-uruguay-bien-parado-en-<strong><u>cuanto</u></strong>-a-educacion-virtual-por-el-trabajo-hecho-por-plan-ceibal-sin-embargo-esa-no-es-la-situacion-de-muchos-otros-paises-de-la-region\">Se podría decir que esta emergencia agarró a Uruguay bien parado en <strong><u>cuanto</u></strong> a educación virtual, por el trabajo hecho por Plan Ceibal. Sin embargo, esa no es la situación de muchos otros países de la región.</h4><p>Me parece súper importante hacer esa primera distinción."
      ],
      "text/plain": [
       "<IPython.core.display.HTML object>"
      ]
     },
     "metadata": {},
     "output_type": "display_data"
    },
    {
     "name": "stdout",
     "output_type": "stream",
     "text": [
      "__\n"
     ]
    },
    {
     "data": {
      "text/html": [
       "Incluso en los países con mayor porcentaje de conexión, hay una parte de la población que no tiene posibilidad de acceder a los recursos pedagógicos que se están ofreciendo, y es ese grupo el que tenemos que mirar con mayor precisión para que no queden afuera del <strong><u>proceso</u></strong> educativo."
      ],
      "text/plain": [
       "<IPython.core.display.HTML object>"
      ]
     },
     "metadata": {},
     "output_type": "display_data"
    },
    {
     "name": "stdout",
     "output_type": "stream",
     "text": [
      "__\n"
     ]
    },
    {
     "data": {
      "text/html": [
       "Pero la pregunta es ¿han <strong><u>desarrollado</u></strong> esas capacidades en el contexto del <strong><u>proceso</u></strong> pedagógico? Es decir, ¿pueden seguir una clase online, participar en un foro, hacer retroalimentación con otros? No tengo una respuesta. Se suele pensar que es el docente el que tiene que desarrollar competencias, pero también son los estudiantes los que deben desarrollar un conjunto de competencias para poder sacarles provecho a las tecnologías."
      ],
      "text/plain": [
       "<IPython.core.display.HTML object>"
      ]
     },
     "metadata": {},
     "output_type": "display_data"
    },
    {
     "name": "stdout",
     "output_type": "stream",
     "text": [
      "__\n",
      "\n",
      "Score: 8.554329\n"
     ]
    },
    {
     "data": {
      "text/html": [
       "DOCTYPE html><html lang=\"es-uy\"><head>  <meta http-equiv=\"Content-Type\" content=\"text/html; charset=utf-8\"/>  <title><strong><u>Udelar</u></strong> ofrece tarjetas de débito para comprar alimentos a los estudiantes que asistían a comedores universitarios</title></head><body>  <div class=\"article-header\">    <h1 class=\"article-title after_foto\">  <strong><u>Udelar</u></strong> ofrece tarjetas de débito para comprar alimentos a los estudiantes que asistían a comedores universitarios      </h1>      <div class=\"article-date-author\">    <span class"
      ],
      "text/plain": [
       "<IPython.core.display.HTML object>"
      ]
     },
     "metadata": {},
     "output_type": "display_data"
    },
    {
     "name": "stdout",
     "output_type": "stream",
     "text": [
      "__\n"
     ]
    },
    {
     "data": {
      "text/html": [
       "Uno de los objetivos principales es trabajar con la generación de ingreso, porque tuvieron muy pocas clases antes de que se tomara la medida de suspenderlas: “El estudiante de la generación 2020 iba a empezar su vida universitaria y se paró, para nosotros es muy importante que ese estudiante no pierda el vínculo con la <strong><u>Udelar</u></strong>”, agregó."
      ],
      "text/plain": [
       "<IPython.core.display.HTML object>"
      ]
     },
     "metadata": {},
     "output_type": "display_data"
    },
    {
     "name": "stdout",
     "output_type": "stream",
     "text": [
      "__\n"
     ]
    },
    {
     "data": {
      "text/html": [
       "</p><p>El área cultura también está planificando actividades para realizar de forma remota, aunque, según dijo Pacci, por ahora prefieren “no agobiar con las opciones; a la vez que es un <strong><u>proceso</u></strong> de exploración institucional, esta situación da una oportunidad para explorar otras estrategias de trabajo, otras formas de relacionamiento y, sobre todo, pensar en el rol de la <strong><u>Udelar</u></strong> en este contexto”.</p>    </div></body></html>"
      ],
      "text/plain": [
       "<IPython.core.display.HTML object>"
      ]
     },
     "metadata": {},
     "output_type": "display_data"
    },
    {
     "name": "stdout",
     "output_type": "stream",
     "text": [
      "__\n",
      "\n"
     ]
    }
   ],
   "source": [
    "get(3,'¿Cuánto demora el proceso de registro del test desarrollado por Udelar y el Institut Pasteur?')"
   ]
  },
  {
   "cell_type": "code",
   "execution_count": 77,
   "metadata": {
    "scrolled": true
   },
   "outputs": [
    {
     "name": "stdout",
     "output_type": "stream",
     "text": [
      "Score: 30.528679\n"
     ]
    },
    {
     "data": {
      "text/html": [
       "<!DOCTYPE html><html lang=\"es-uy\"><head>  <meta http-equiv=\"Content-Type\" content=\"text/html; charset=utf-8\"/>  <title><strong><u>Udelar</u></strong>, <strong><u>Institut</u></strong> Pasteur y MSP firmaron el acuerdo de cooperación que aumenta la capacidad de testeo de Covid-19 a unas 1.000 muestras diarias</title></head><body>  <div class=\"article-header\">    <h1 class=\"article-title after_foto\">  <strong><u>Udelar</u></strong>, <strong><u>Institut</u></strong> Pasteur y MSP firmaron el acuerdo de cooperación que aumenta la capacidad de testeo de Covid-19 a unas 1.000 muestras diarias      </h1>      <div class=\"article-date-author\">    <span class=\"date small\"><time datetime=\"2020-03-27T17:49:06\">27 De Marzo De 2020</time> | </span>    <span class=\"small\">      <a href=\"https://ladiaria.com.uy/seccion/en-uruguay/\">En Uruguay</a>  </span>  </div>    </div>    <div class=\"article-body paywalled-content\">      <p>El acuerdo permite poner en marcha el diagnóstico en varios centros públicos con el método <strong><u>desarrollado</u></strong> por los investigadores, antes de su validación final y de la fabricación de <em>kits</em>, lo que redundará en un inmediato aumento de la capacidad de detección de <a href=\"https://ladiaria.com.uy/seccion/coronavirus/\">Covid-19</a>.</p><p>El Ministro de Salud Pública, Daniel Salinas, el director del <strong><u>Institut</u></strong> Pasteur de Montevideo, Carlos Batthyány, y el rector de la Universidad de la República, Rodrigo Arim, firmaron finalmente el acuerdo que permitirá avanzar en la capacidad de diagnóstico de Covid-19 gracias al desarrollo de investigadoras e investigadoras del Laboratorio de Virología Molecular de la Facultad de Ciencias de la <strong><u>Udelar</u></strong> y del Laboratorio de Evolución y Experimentación de Virus del <strong><u>Institut</u></strong> Pasteur.</p><p>En el acuerdo, se reconoce que ambos laboratorios “ajustaron un procedimiento para detectar SARS-CoV-2 en muestras clínicas humanas, de acuerdo a estándares internacionales y con menor costo que reactivos disponibles comercialmente, con resultados exitosos a nivel de ensayos de laboratorio”. También se señala que “el uso de este <strong><u>test</u></strong> diagnóstico <strong><u>desarrollado</u></strong> a nivel nacional permitirá no depender completamente de la compra de <em>kits</em> desde el exterior”.</p><p>Dado el interés del Ministerio de Salud Pública (MSP) “en el uso del procedimiento de detección mencionado” y en “el desarrollo de un <em>kit</em> diagnóstico para el estudio del agente causal de la enfermedad COovid-19”, y dado que “la <strong><u>Udelar</u></strong> y el IP Montevideo están dispuestos a realizar todos los esfuerzos necesarios para desarrollar, validar y registrar el mencionado <em>kit</em>” es que se firma el acuerdo de las condiciones para dicha colaboración.</p><p>En el documento se reconoce que “el procedimiento de diagnóstico fue <strong><u>desarrollado</u></strong> por <strong><u>Udelar</u></strong> y el IP Montevideo” y describe que tiene dos grandes pasos: “1) Extracción de ARN a partir de las muestras de pacientes y 2) Transcripción reversa y amplificación de genes virales blancos en tiempo real”. </p><p>También se establece que “en tanto se obtenga el <strong><u>registro</u></strong> del <em>kit</em>, el <strong><u>Institut</u></strong> Pasteur y la <strong><u>Udelar</u></strong> se comprometen a suministrar el Procedimiento de diagnóstico para su uso a los laboratorios clínicos del Hospital de Clínicas y el Laboratorio de Virología Molecular - Centro Universitario Regional Litoral Norte - sede Salto de la <strong><u>Udelar</u></strong>; Hospital Maciel y Hospital Pasteur, a efectos de que los mismos realicen los ensayos de diagnóstico de Covid-19 en muestras de la población uruguaya” y también a realizarlo.</p><p>El texto, además, deja constancia de que la <strong><u>Udelar</u></strong> y el <strong><u>Institut</u></strong> Pasteur destinaron 70.000 dólares “para la compra de los insumos necesarios para el inicio de las actividades en el marco de este acuerdo” y para la etapa de inicio de los <strong><u>test</u></strong> en los centros antes mencionados -marcando el compromiso de la comunidad científica y académica ante la pandemia-.</p><p>Por su parte, el MSP se compromete a “articular entre el Laboratorio Central del MSP y la <strong><u>Udelar</u></strong> - IP Montevideo para validar el Procedimiento de diagnóstico de Covid-19 así como las evaluaciones necesarias hasta su <strong><u>registro</u></strong> y/o autorización”, “autorizar transitoriamente la utilización del Procedimiento de diagnóstico en los laboratorios mencionados hasta tanto se obtenga el <strong><u>registro</u></strong> del <em>kit</em>” y a “autorizar al Laboratorio de Virología Molecular de la sede Salto de la <strong><u>Udelar</u></strong> para realizar los ensayos de diagnóstico de Covid-19 en muestras de la población uruguaya”.</p><p>Con la firma de este acuerdo, la <strong><u>Udelar</u></strong> y el <strong><u>Institut</u></strong> Pasteur hacen la trasferencia del <strong><u>test</u></strong> que desarrollaron y podrá entonces realizarse en las instituciones mencionadas, aumentando así, antes de esperar a que se termine el <strong><u>proceso</u></strong> de <strong><u>registro</u></strong> del procedimiento, la capacidad de detección de casos de Covid-19 en el país. Para ello, se han organizado turnos de estudiantes de posgrado e investigadores jóvenes de la Facultad de Ciencias y del <strong><u>Institut</u></strong> Pasteur que permitirán procesar en el país aproximadamente unas 1.000 muestras diarias al sumarse las realizadas en el <strong><u>Institut</u></strong> Pasteur, el laboratorio de Salto y el Hospital de Clínicas de la <strong><u>Udelar</u></strong> y los hospitales Maciel y Pasteur.</p>    </div></body></html>"
      ],
      "text/plain": [
       "<IPython.core.display.HTML object>"
      ]
     },
     "metadata": {},
     "output_type": "display_data"
    },
    {
     "name": "stdout",
     "output_type": "stream",
     "text": [
      "__\n",
      "\n",
      "Score: 20.767653\n"
     ]
    },
    {
     "data": {
      "text/html": [
       "<!DOCTYPE html><html lang=\"es-uy\"><head>  <meta http-equiv=\"Content-Type\" content=\"text/html; charset=utf-8\"/>  <title><strong><u>Udelar</u></strong> y el <strong><u>Institut</u></strong> Pasteur desarrollaron <strong><u>test</u></strong> de diagnóstico del nuevo coronavirus</title></head><body>  <div class=\"article-header\">    <h1 class=\"article-title after_foto\">  <strong><u>Udelar</u></strong> y el <strong><u>Institut</u></strong> Pasteur desarrollaron <strong><u>test</u></strong> de diagnóstico del nuevo coronavirus      </h1>      <div class=\"article-date-author\">    <span class=\"date small\"><time datetime=\"2020-03-18T10:43:01\">18 De Marzo De 2020</time> | </span>    <span class=\"small\">      <a href=\"https://ladiaria.com.uy/seccion/ciencia-y-coronavirus/\">Ciencia y coronavirus</a>  </span>  </div>    </div>    <div class=\"article-body paywalled-content\">      <p>Un equipo de científicos concretó <a href=\"https://ciencia.ladiaria.com.uy/articulo/2020/3/diagnostico-de-covid-19-que-desarrollan-la-<strong><u>udelar</u></strong>-y-el-<strong><u>institut</u></strong>-pasteur-de-montevideo-ciencia-para-construir-soberania/\">un ensayo de <strong><u>test</u></strong> que permitirá diagnosticar si las personas son portadoras de coronavirus</a>.</p><p>La información fue confirmada a <em>Subrayado</em> por el prorrector de Enseñanza de la Universidad de la República (<strong><u>Udelar</u></strong>), Juan Cristina, que junto con <a href=\"https://ladiaria.com.uy/articulo/2017/6/el-hombre-que-hacia-aikido-con-los-virus/\">Gonzalo Moratorio</a>  dirige el Laboratorio de Virología Molecular de la Facultad de Ciencias, donde en conjunto con el <strong><u>Institut</u></strong> Pasteur se desarrollaron las investigaciones.</p><p>Según explicó Cristina se trata de un ensayo de diagnóstico para <a href=\"https://salud.ladiaria.com.uy/seccion/coronavirus/\">el nuevo coronavirus</a> <strong><u>desarrollado</u></strong> a partir de trabajos y metodologías de otras universidades del mundo, que pusieron a disposición sus protocolos. La investigación, agregó, había comenzado cuando la pandemia tuvo inicio en China. Tras este avance, la <strong><u>Udelar</u></strong> “está lista para contribuir con el sistema”, dijo Cristina.</p><div class=\"extension extension-M\" style=\"background:#ffffff;\">    <div class=\"extension__body\"><blockquote class=\"twitter-tweet\" data-partner=\"tweetdeck\"><p lang=\"es\" dir=\"ltr\">Tremendo orgullo esta equipo. Faltan los que están apoyando desde su casa: Naty Echeverria, Diego Simón, Diego Ferla, Rodrigo Arce y Ana Dubra <a href=\"https://twitter.com/FcienUdelar?ref_src=twsrc%5Etfw\">@FcienUdelar</a> <a href=\"https://twitter.com/IPMontevideo?ref_src=twsrc%5Etfw\">@IPMontevideo</a> <a href=\"https://t.co/ZS5uGJ8cOM\">pic.twitter.com/ZS5uGJ8cOM</a></p>&mdash; Virologia Molecular (@viromol) <a href=\"https://twitter.com/viromol/status/1240091044437544972?ref_src=twsrc%5Etfw\">March 18, 2020</a></blockquote><script async src=\"https://platform.twitter.com/widgets.js\" charset=\"utf-8\"></script>    </div><p></div>El rector de la Universidad, Rodrigo Arim, será quien coordine con el Ministerio de Salud Pública (MSP) cómo se concretará la colaboración de la <strong><u>Udelar</u></strong>. Se trata de un avance clave, en la medida que la dificultad para acceder a los <strong><u>test</u></strong> puede ser un obstáculo para luchar contra esta pandemia. </p><p>Arim había sostenido que el MSP había aceptado <a href=\"https://educacion.ladiaria.com.uy/articulo/2020/3/<strong><u>udelar</u></strong>-reunio-a-su-comite-de-crisis-academico-para-determinar-su-colaboracion-ante-la-emergencia-sanitaria/\">“trabajar en esa dirección”</a>, aunque todavía no estaba claro cómo sería el acuerdo entre las partes.</p>    </div></body></html>"
      ],
      "text/plain": [
       "<IPython.core.display.HTML object>"
      ]
     },
     "metadata": {},
     "output_type": "display_data"
    },
    {
     "name": "stdout",
     "output_type": "stream",
     "text": [
      "__\n",
      "\n",
      "Score: 19.442581\n"
     ]
    },
    {
     "data": {
      "text/html": [
       "<!DOCTYPE html><html lang=\"es-uy\"><head>  <meta http-equiv=\"Content-Type\" content=\"text/html; charset=utf-8\"/>  <title>Diagnóstico de Covid-19 que desarrollan la <strong><u>Udelar</u></strong> y el <strong><u>Institut</u></strong> Pasteur de Montevideo: ciencia para construir soberanía</title></head><body>  <div class=\"article-header\">    <h1 class=\"article-title after_foto\">  Diagnóstico de Covid-19 que desarrollan la <strong><u>Udelar</u></strong> y el <strong><u>Institut</u></strong> Pasteur de Montevideo: ciencia para construir soberanía      </h1>      <div class=\"article-date-author\">    <span class=\"date small\"><time datetime=\"2020-03-18T22:09:41\">18 De Marzo De 2020</time> | </span>      Escribe:  <span class=\"small\"><a href=\"https://ladiaria.com.uy/periodista/836/\">    Leo Lagos</a></span> <span class=\"small\">en </span>    <span class=\"small\">      <a href=\"https://ladiaria.com.uy/seccion/comunidad-cientifica/\">Comunidad científica</a>  </span>  </div>    </div>    <div class=\"article-body paywalled-content\">      <p>“Esto es netamente pasional, yo no soy un crack con la pelota. Soy más un <em>Ruso</em> Pérez que un [Lionel] Messi. Yo voy a ir a todas y te voy a laburar lo que sea si tengo el ambiente para poder hacer lo que quiera”, decía Gonzalo Moratorio hace unos años cuando aún estaba en el <strong><u>Institut</u></strong> Pasteur de París, Francia. Hoy Moratorio trabaja en el Laboratorio de Virología Molecular de la Facultad de Ciencias de la Universidad de la República (<strong><u>Udelar</u></strong>) y en el Laboratorio de Evolución y Experimentación de Virus del <strong><u>Institut</u></strong> Pasteur. Y ese ir a todas es lo que llevó a que él y sus colegas de ambas instituciones se pusieran a buscar la forma de desarrollar en el país kits de diagnóstico para el Covid-19.</p><p>Su trabajo en estos días es frenético –como el de los demás integrantes del laboratorio, Juan Cristina, Pilar Moreno, Álvaro Fajardo, Natalia Echeverría, Martín Soñora, Fabiana Gambaro y Gabriela Bentancour, y otros tantos en el <strong><u>Institut</u></strong> Pasteur–, pero aun así, trabajando a contrarreloj contra <a href=\"https://ladiaria.com.uy/seccion/coronavirus/\">la pandemia que llegó a Uruguay</a>, cree necesario excusarse por atender poco el teléfono: “Queremos usar el tiempo para trabajar. No esperábamos que la noticia sobre el desarrollo del kit tuviera esta explosión”, arranca diciendo, para luego agregar que lo que más quieren ahora “es poder transferir esto al sector salud <strong><u>cuanto</u></strong> antes”. “Por eso no estamos dando notas”, concluye.</p><p>De todos modos, Moratorio, que se especializó en el estudio de virus ARN, como el de la influenza H1N1 y el actual SARS-Cov-2, encuentra en una breve pausa unos minutos para contar un poco sobre este <em>kit</em> de detección en el que trabajan.</p><h3 id=\"desarrollo-local\">Desarrollo local</h3><p>“Nosotros no inventamos nada, sólo adaptamos tecnología, la abaratamos y logramos hacerla funcionar con los reactivos disponibles en Uruguay”, dice Moratorio a manera de respuesta a algunos titulares rimbombantes que han circulado. “Existe la posibilidad de que los aviones sigan parados, con lo que se cortaría el suministro de reactivos”, señala. De esta manera apunta a la importancia de este desarrollo local, a lo que agrega que se busca “independizarse de las marcas que, además, requieren que se utilicen equipos específicos para hacer los análisis”. La modestia con la que habla –no deja de destacar que el trabajo es en equipo– contrasta enormemente con la relevancia del trabajo que tienen entre manos.</p><p>Dado el avance del coronavirus en Uruguay, Moratorio afirma: “Estamos en preguerra. Lo que hagamos ahora es fundamental para no estar como en otros lugares del mundo y poder diagnosticar mucho, mucho, mucho”. La estrategia de la mayor cantidad de diagnósticos posible fue llevada con éxito por Corea del Sur, un país que ostenta fama científica en virtud de sus laboratorios de análisis veloces, eficientes y económicos, que logró tener tasas de expansión y mortalidad mucho más bajas que las de China.</p><h3 id=\"al-alcance-de-todos\">Al alcance de todos</h3><p>Moratorio no sólo es un científico hiperactivo. También le gusta que se entienda bien lo que hace con sus colegas, así que pone un ejemplo: “Lo que hicimos fue intentar –en un momento en el que el primer mundo se lleva todos los respiradores y todos los <em>kits</em> de diagnóstico, que acá vienen de a poco y diagnostican poco y lento cuando hay que diagnosticar mucho y rápido– hacer un auto a partir de repuestos que había en plaza y hacerlo andar”. Para seguir con la analogía agrega: “Esos repuestos fueron publicados por universidades que lidiaron antes con el problema. Nosotros los ensamblamos, los optimizamos, hacemos que funcionen con menos energía, porque ahorramos ya que estamos acostumbrados a atar las cosas con alambre, y en algunos casos cambiamos hasta la matriz química de la reacción para hacerla aún más barata”.</p><p>El científico señala que todo esto es el resultado “del trabajo mancomunado de la comunidad científica internacional. Aquí lo que se ha hecho es adaptar y hacer funcionar esas tecnologías, siguiendo los criterios y las recomendaciones de la Organización Mundial de la Salud, y se siguieron protocolos de universidades que trabajaron antes”. Como no le gusta saludar con sombrero ajeno, sentencia: “Se adaptaron esos repuestos y los reactivos, pero no es un descubrimiento <em>per se</em>”.</p><p>Si bien muchas veces se dice, con una ligereza que asusta, que los científicos y científicas de Uruguay hacen ciencia guiados por la curiosidad y se olvidan de los problemas del país (ambos enfoques son necesarios y enfrentarlos o quedarse sólo con uno es un error que evidencia una grave miopía), este es uno de los tantos ejemplos de por qué es necesario invertir en ciencia y en tener una comunidad científica insertada en instituciones y dignamente remunerada. “Esto parte de la necesidad de tener una solución a un eventual, y quizás real, corte de suministros, o de la posibilidad de enfrentar un sobreprecio en el diagnóstico por persona. La idea es poder poner el <em>kit</em> a disposición de Salud Pública y que pueda ser usado en el sector público” dice Moratorio, que cuenta que inicialmente se está trabajando con el Hospital de Clínicas y el Maciel para que “puedan independizarse y utilizar esto”.</p><ul><li>Leé más sobre esto: <a href=\"https://ladiaria.com.uy/articulo/2020/3/<strong><u>udelar</u></strong>-y-el-<strong><u>institut</u></strong>-pasteur-desarrollaron-<strong><u>test</u></strong>-de-diagnostico-del-nuevo-coronavirus/\"><strong><u>Udelar</u></strong> y el <strong><u>Institut</u></strong> Pasteur desarrollaron <strong><u>test</u></strong> de diagnóstico del nuevo coronavirus</a></li></ul><h3 id=\"tiempo-seriedad-y-responsabilidad\">Tiempo, seriedad y responsabilidad</h3><p>En tiempos de pandemia todos queremos tener cuando antes soluciones y respuestas. Pero la ciencia no trabaja de esa manera. Moratorio dijo que no estaban dando notas porque querían dedicarse al desafío de que el desarrollo de los científicos pueda ser transferido al sistema de salud. Esa transferencia, ese pasar del laboratorio a la sociedad no suele ser un <strong><u>proceso</u></strong> sencillo y, por lo general, lleva su tiempo.</p><p>Ante las expectativas exageradas desatadas por la noticia de que el <strong><u>test</u></strong> estaba pronto, en un comunicado ambas instituciones afirman que “los científicos de la Universidad de la República y el <strong><u>Institut</u></strong> Pasteur de Montevideo trabajan desde hace tres semanas en la producción local de un <strong><u>test</u></strong> que ayude a las autoridades nacionales a aumentar la capacidad de diagnóstico de coronavirus siguiendo los estándares internacionales y con menor costo”. Tras describir lo que Moratorio explica líneas arriba –de lo que se trata es de la adaptación de una tecnología existente en otras partes–, los científicos agregan que “en estos días, el <strong><u>test</u></strong> local se probó con éxito en ensayos de laboratorio con muestras previamente procesadas (que ya se sabía que eran positivas), pero aún falta probar con muestras de pacientes sin procesar. Después, habrá que transferirlo a diferentes instituciones de atención médica nacional y garantizar que puedan procesar muestras con esta nueva herramienta”.</p><p>En el comunicado también señalan que ambas instituciones aspiran a “que el <strong><u>test</u></strong> esté disponible para uso de Salud Pública a la brevedad, teniendo en cuenta la emergencia nacional”, y destacan “especialmente la importancia de la rápida y efectiva articulación interinstitucional entre el sector científico académico, asistencial y las autoridades nacionales”. El comunicado, sin decirlo, pide paciencia, al tiempo que deja claro que se trabaja sin prisa pero sin pausa.</p>    </div></body></html>"
      ],
      "text/plain": [
       "<IPython.core.display.HTML object>"
      ]
     },
     "metadata": {},
     "output_type": "display_data"
    },
    {
     "name": "stdout",
     "output_type": "stream",
     "text": [
      "__\n",
      "\n",
      "Score: 18.45873\n"
     ]
    },
    {
     "data": {
      "text/html": [
       "<!DOCTYPE html><html lang=\"es-uy\"><head>  <meta http-equiv=\"Content-Type\" content=\"text/html; charset=utf-8\"/>  <title><strong><u>Udelar</u></strong> reunió a su comité de crisis académico para determinar su colaboración ante la emergencia sanitaria</title></head><body>  <div class=\"article-header\">    <h1 class=\"article-title after_foto\">  <strong><u>Udelar</u></strong> reunió a su comité de crisis académico para determinar su colaboración ante la emergencia sanitaria      </h1>      <div class=\"article-date-author\">    <span class=\"date small\"><time datetime=\"2020-03-16T22:14:18\">16 De Marzo De 2020</time> | </span>    <span class=\"small\">      <a href=\"https://ladiaria.com.uy/seccion/terciaria/\">Terciaria</a>  </span>    <span class=\"small\">| Foto:Ernesto Ryan</span>    </div>    </div>    <div class=\"article-body paywalled-content\">      <p>La Universidad de la República (<strong><u>Udelar</u></strong>) reunió en la tarde del lunes un comité de crisis académico, integrado por autoridades e investigadores de las facultades de Medicina, Ciencias, Química, Enfermería y el <strong><u>Institut</u></strong> Pasteur, para determinar las formas de colaboración desde la institución en relación con la emergencia nacional decretada a raíz del brote de Covid-19. Según explicó el rector de la <strong><u>Udelar</u></strong>, Rodrigo Arim, a <em>la diaria</em>, la institución está trabajando en tres direcciones: el desarrollo de un <strong><u>test</u></strong> de diagnóstico para detectar el SARS-Cov-2, la ampliación de las capacidades de internación del Hospital de Clínicas y el desarrollo, en clave de extensión, de mecanismos de contención ante las medidas de aislamiento social.</p><p>Sobre el primer punto, Arim informó que la <strong><u>Udelar</u></strong> “está en condiciones de desarrollar <strong><u>test</u></strong> de diagnóstico a partir de investigaciones ubicadas en las facultades de Ciencias, Medicina y el <strong><u>Institut</u></strong> Pasteur, trabajando en forma conjunta”, y el lunes el Ministerio de Salud Pública (MSP) “aceptó trabajar en esta dirección”. Todavía no está claro cómo se concretará el acuerdo entre la <strong><u>Udelar</u></strong> y el MSP, pero el rector señaló: “Veremos las formas, pero la voluntad de la Universidad es colaborar con el país en esta situación, para que esté al alcance de la sociedad y que no implique un <strong><u>proceso</u></strong> de privatización del diagnóstico, cosa que ya está sucediendo hoy. Es en un sentido de política pública: la disponibilidad de <strong><u>test</u></strong> cuando los médicos lo consideren pertinente tiene que ser un bien público, y acordamos con el MSP avanzar rápidamente en esto”. Esto podría implicar un acuerdo con el conglomerado brasileño Fiocruz, una institución pública de desarrollo científico y tecnológico.</p><p>También este lunes hubo reuniones entre el rector y la dirección del Hospital de Clínicas para determinar planes de contingencia para “expandir rápidamente nuestras capacidades de internación”, expresó Arim, y contemplar la posibilidad de aumentar la internación, con distintos niveles de severidad, de pacientes con Covid-19, la enfermedad que desarrolla este nuevo coronavirus.</p><p>La tercera línea de trabajo de la <strong><u>Udelar</u></strong> implica “desarrollar desde una lógica de extensión universitaria mecanismos de contención que vayan al encuentro de situaciones sociales que son complejas, que tienen que ver con el aislamiento”, contó el rector, que añadió que esta pandemia “puede generar vínculos societales más débiles, y la <strong><u>Udelar</u></strong> puede también colaborar en el sentido de mitigar o ayudar a procesar la situación de una manera más sana y razonable en todos los estratos, en particular entre aquellos que están en situación de vulnerabilidad”, por ejemplo, la población envejecida.</p><p>Arim recordó, además, que la <strong><u>Udelar</u></strong> suspendió sus clases y todas las actividades que puedan implicar aglomeraciones, y que se está trabajando en la reprogramación de cursos y en la habilitación de plataformas digitales “para desarrollar aprendizajes en una hipótesis de no reinicio inmediato de las clases”. El rector mencionó que “no es de esperar que en las próximas dos semanas se resuelva la situación en un sentido de reintegrarnos a las actividades universitarias”, pero añadió que “tampoco hay que pensar en un escenario terrible en que no nos reintegremos en todo el año, más bien en procesos de adaptación a la situación y que, progresivamente, a medida que se logre ir conteniendo y mitigando la expansión del coronavirus, podamos ir también normalizando estos procesos de aprendizaje e investigación”.</p><p>El comité de crisis estará integrado por Juan Arbiza (Grado 5 de Virología Facultad de Ciencias), Otto Pristch (Director Académico <strong><u>Institut</u></strong> Pasteur de Montevideo y Grado 5 del Departamento de Inmunobiología), Carlos Batthyany (Director Ejecutivo <strong><u>Institut</u></strong> Pasteur de Montevideo), Cecilia Fernández (Prorrectora de Investigación de la <strong><u>Udelar</u></strong>), Andrés Gil (Médico Veterinario, Epidemiólogo y Asistente Académico de Facultad de Veterinaria), Álvaro Mombrú (decano de Facultad de Química), Robert Pérez (Grado 5 Instituto de Psicología Social de la Facultad de Psicología). Nicolás Rodríguez (Salud Colectiva), el rector Rodrigo Arim,  Juan Cristina (Grado 5 de Virología de la Facultad de Ciencias y prorrector de Enseñanza de la <strong><u>Udelar</u></strong>),  Luis Leopold (Grado 5 Instituto de Psicología Social y prorrector de Gestión de la <strong><u>Udelar</u></strong>), Mercedes Pérez (Decana de Facultad de Enfermería), Miguel Martínez (Decano de Facultad de Medicina), Zaida Arteta (Especialista en Enfermedades Infecciosas del Hospital de Clínicas), María Simon (Decana de Facultad de Ingeniería), Gualberto González (grado 5 Inmunología de la Facultad de Química), Rodney Colina (Grado 5 Virología Molecular,  Centro Regional Litoral Norte y presidente de la Comisión Cordinadora del Interior, <strong><u>Udelar</u></strong>).</p>    </div></body></html>"
      ],
      "text/plain": [
       "<IPython.core.display.HTML object>"
      ]
     },
     "metadata": {},
     "output_type": "display_data"
    },
    {
     "name": "stdout",
     "output_type": "stream",
     "text": [
      "__\n",
      "\n",
      "Score: 10.97562\n"
     ]
    },
    {
     "data": {
      "text/html": [
       "<!DOCTYPE html><html lang=\"es-uy\"><head>  <meta http-equiv=\"Content-Type\" content=\"text/html; charset=utf-8\"/>  <title>Salinas aseguró que los cambios en los diagnósticos de casos de Covid-19 darán “más garantías”</title></head><body>  <div class=\"article-header\">    <h1 class=\"article-title after_foto\">  Salinas aseguró que los cambios en los diagnósticos de casos de Covid-19 darán “más garantías”      </h1>      <div class=\"article-date-author\">    <span class=\"date small\"><time datetime=\"2020-03-25T01:03:09\">25 De Marzo De 2020</time> | </span>    <span class=\"small\">      <a href=\"https://ladiaria.com.uy/seccion/en-uruguay/\">En Uruguay</a>  </span>    <span class=\"small\">| Foto:Ernesto Ryan</span>    </div>    </div>    <div class=\"article-body paywalled-content\">      <p>“Lo que estamos dando es más garantías: más estudios y más garantías; eso es lo que cambió, en definitiva”, resumió el ministro de Salud Pública, Daniel Salinas, respecto del cambio en los sistemas de medición que su cartera comenzará a llevar adelante a partir de ahora.</p><p>Lo de Salinas fue la respuesta a una pregunta en la conferencia de prensa en la que se presentaron los datos sobre los casos de <a href=\"https://ladiaria.com.uy/seccion/coronavirus/\">Covid-19</a> en Uruguay, luego de que ayer circulara un documento de la División Epidemiología del Ministerio de Salud Pública (MSP), al cual accedió <em>la diaria</em>. “Dada la situación epidemiológica actual en referencia a Covid-19, con demostración de circulación comunitaria y múltiples cadenas de transmisión, se hace necesario un cambio en la estrategia de vigilancia”, decía el texto, y agregaba que esta estaría “dirigida a la identificación de los casos que requieran internación y casos graves, la identificación de cambios en el comportamiento del evento y la identificación y caracterización de brotes”; también recordaba la importancia de “dirigir esfuerzos para la preservación de quienes desempeñan tareas para la respuesta nacional multisectorial coordinada”: personal de la salud, policías, bomberos y militares.</p><p>Según el documento, si bien el Departamento de Laboratorios de Salud Pública (DLSP) continuará admitiendo muestras de personas que presenten una “infección respiratoria aguda grave, fiebre, síntomas de enfermedad respiratoria baja (tos, disnea, aumento de frecuencia respiratoria)” y requieran internación sin etiología conocida, se dedicará a fortalecer la “vigilancia centinela” que hace el DLSP desde 2015 en tres centros de Montevideo y tres del interior para monitorear los casos de IRAG y enfermedades tipo influenza. A ellos sí se les hará confirmación laboratorial (es una forma de corroborar qué virus circulan).</p><p>Ese documento fue enviado a los prestadores de salud y llegó a la prensa. Lo que se daba a entender, en síntesis, es que el DLSP dejaría de hacer los <strong><u>test</u></strong> diagnósticos de quienes tuvieran síntomas (no graves) y creyeran haber tenido contacto con personas con Covid-19 durante los 14 días previos. Pero según Salinas, el cambio no es como se interpretó. Por el contrario, afirmó que ahora se testeará a “todos aquellos casos que tienen una sintomatología florida y que el médico determine”. “Un caso positivo es el demostrado por el <strong><u>test</u></strong> diagnóstico”, ilustró.</p><p>El ministro dijo que el gobierno se ha preparado para duplicar esta misma semana los tests y triplicarlos la que viene.</p><p>La demanda de <strong><u>test</u></strong> diagnósticos superó las capacidades del laboratorio del MSP, que estaba en condiciones de procesar entre 80 y 100 muestras diarias. Según informó la semana pasada Jorge Facal, infectólogo e integrante del comité de expertos que reunió el MSP, hasta el 16 de marzo el laboratorio sólo estaba pudiendo responder a 10% de las solicitudes. Otros laboratorios privados comenzaron a hacer el <strong><u>test</u></strong>, y también se habilitó a tres mutualistas. Una es el CASMU, pero, según explicó a <em>la diaria</em> Juan José Areosa, secretario del Consejo Directivo de la institución, la limitación son los reactivos. “Tenemos la tecnología para hacer el diagnóstico; lo que nos falta son los reactivos”, dijo, y transmitió que tiene entendido que llegarán a fin de mes.</p><p>Carlos Cardoso, presidente de la Federación de Prestadores Médicos del Interior (Fepremi), declaró a <em>la diaria</em> que estos diagnósticos comenzarán a hacerse mañana en el Sanatorio Americano. A su vez, días atrás Salinas había dicho que el MSP estaba haciendo gestiones con ASSE para que los laboratorios de los hospitales Pereira Rossell y Maciel pudieran incorporar estos análisis. Por tanto, es de suponer que las instituciones del Sistema Nacional Integrado de Salud asumirán la tarea de diagnosticar a sus usuarios.</p><p>Como alternativa a la importación de <strong><u>test</u></strong> diagnósticos, una de las grandes apuestas son los que están elaborando los investigadores del <strong><u>Institut</u></strong> Pasteur y de la Universidad de la República (<strong><u>Udelar</u></strong>). Según publicó ayer <em>El Observador</em>, Salinas aprobó el lunes la técnica creada por los científicos, y se estima que a partir de la próxima semana puedan hacerse 1.000 diagnósticos por día.</p>    </div></body></html>"
      ],
      "text/plain": [
       "<IPython.core.display.HTML object>"
      ]
     },
     "metadata": {},
     "output_type": "display_data"
    },
    {
     "name": "stdout",
     "output_type": "stream",
     "text": [
      "__\n",
      "\n",
      "Score: 10.096092\n"
     ]
    },
    {
     "data": {
      "text/html": [
       "<!DOCTYPE html><html lang=\"es-uy\"><head>  <meta http-equiv=\"Content-Type\" content=\"text/html; charset=utf-8\"/>  <title>Hay circulación comunitaria de coronavirus y se hará el <strong><u>test</u></strong> a pedido del médico tratante</title></head><body>  <div class=\"article-header\">    <h1 class=\"article-title after_foto\">  Hay circulación comunitaria de coronavirus y se hará el <strong><u>test</u></strong> a pedido del médico tratante      </h1>      <div class=\"article-date-author\">    <span class=\"date small\"><time datetime=\"2020-03-30T21:15:52\">30 De Marzo De 2020</time> | </span>    <span class=\"small\">      <a href=\"https://ladiaria.com.uy/seccion/en-uruguay/\">En Uruguay</a>  </span>    <span class=\"small\">| Foto:Mariana Greif</span>    </div>    </div>    <div class=\"article-body paywalled-content\">      <p>En Uruguay 25 personas se recuperaron de Covid-19, informó en la conferencia de este lunes el titular del Ministerio de Salud Pública (MSP), Daniel Salinas, quien también precisó que se considera recuperada a una persona cuando pasaron 14 días desde que comenzó a manifestar síntomas. En otros países se realiza uno o incluso dos <strong><u>test</u></strong> de diagnóstico antes de calificar a una persona como recuperada. Incluyendo estas recuperaciones y <a href=\"https://ladiaria.com.uy/articulo/2020/3/fallecio-la-primera-persona-por-coronavirus-en-uruguay/\">el hombre de 71 años que falleció el sábado</a>, en Uruguay se diagnosticaron 320 casos positivos de <a href=\"https://ladiaria.com.uy/seccion/coronavirus/\">coronavirus</a>, diez en las últimas 24 horas, cuando se hicieron 299 <strong><u>test</u></strong>. 27 de esas personas trabajan en la salud, y se está investigando si contrajeron la enfermedad por el contacto con los pacientes o al viajar al exterior.</p><p>Salinas volvió a destacar que la capacidad de diagnóstico en Uruguay seguirá aumentando hasta llegar a 800 o 900 a fines de esta semana y recordó que se habilitó al <strong><u>Institut</u></strong> Pasteur a realizar diagnósticos con una capacidad de elaboración de 360 <strong><u>test</u></strong> a partir del quinto día. También señaló que siguen siendo ocho los departamentos afectados y que alrededor de 90% de los casos se concentran en Montevideo y Canelones. Agregó que 91% de los pacientes cursan la enfermedad en sus domicilios y que hay 11 en CTI, diez en cuidados moderados y uno en intermedios.</p><p>Si bien venía utilizando un tono optimista, el ministro también dijo que hay evidencia de que hay “circulación del virus a nivel comunitario”, lo que implica que el contagio ya no se produce exclusivamente al estar en contacto con un caso positivo o con alguien que viajó al exterior. “Ya hay una transmisión dentro de la sociedad, muy baja, porque son muy pocos”, explicó antes de precisar que de los 320 casos 20% eran importados, 68% por contacto y alrededor de 10% por circulación comunitaria. “Eso significa que hay que cuidarse más, porque [contagiarse] ya no depende de que viajes al extranjero o de que hayas estado en contacto”, dijo exhortando a cumplir con el distanciamiento social.</p><p>Hace al menos una semana que el MSP maneja esa información: hay “demostración de circulación comunitaria y múltiples cadenas de transmisión del virus”, expresaba la División de Epidemiología del MSP el lunes 23 de marzo <a href=\"https://ladiaria.com.uy/articulo/2020/3/salinas-aseguro-que-los-cambios-en-los-diagnosticos-de-casos-de-covid-19-daran-mas-garantias/\">en el comunicado que la Dirección General de la Salud le envió a los prestadores de salud</a> anunciándoles el cambio de estrategia de vigilancia epidemiológica. La modificación implicaba que el laboratorio del MSP sólo pasaría a hacerle estudios diagnósticos a los casos graves de infecciones respiratorias y al personal esencial para combatir la epidemia (trabajadores de la salud, bomberos, policías y militares). Al día siguiente, Salinas negó que se fueran a restringir los <strong><u>test</u></strong> diagnósticos, y el miércoles 25 el MSP resolvió que <a href=\"https://salud.ladiaria.com.uy/articulo/2020/3/ministerio-de-salud-incorporo-el-diagnostico-confirmatorio-de-covid-19-al-pias/\">los prestadores del Sistema Nacional Integrado de Salud se encarguen de hacer los <strong><u>test</u></strong> diagnósticos a todos los casos sospechosos</a> (aunque no hayan tenido contacto con casos positivos ni hayan viajado al exterior y no cursen un cuadro de gravedad), algo que quedará plasmado en un decreto que se enviará este martes, adelantó el ministro en la conferencia de prensa.</p><h3 id=\"diagnostico-desde-el-auto\">Diagnóstico desde el auto</h3><div class=\"inline-image-wrap article_body_image-BG\">  <figure class=\"principal\">    <picture class=\"materialboxed\">      <!--[if IE 9]><video style=\"display: none;\"><![endif]-->      <source srcset=\"/media/photologue/photos/cache/0037499196_1200w.jpg\" media=\"(min-width: 480px)\">      <source srcset=\"/media/photologue/photos/cache/0037499196_700w.jpg\" media=\"(min-width: 260px)\">      <source srcset=\"/media/photologue/photos/cache/0037499196_250w.jpg\" media=\"(min-width: 0px)\">      <!--[if IE 9]></video><![endif]-->      <img class=\"responsive-img landscape\"   data-caption=\"Foto del artículo ''\"   alt=\"Foto del artículo ''\" />    </picture>    </figure></div><p>Nicolás Jodal, CEO de Artech, participó en la conferencia e informó que este martes habrá una actualización de la aplicación Coronavirus.uy, presentada hace diez días como un recurso novedoso para articular la información sobre la salud de los uruguayos con los servicios de los prestadores de salud pública para agilizar las consultas y la atención médica presencial si fuera necesaria.</p><p>Jodal dijo que 200.000 personas se descargaron la aplicación y 750 de ellas recibieron la visita del médico porque tenían síntomas y requerían un contacto directo con los profesionales.</p><p>La actualización incorporará aspectos de la telemedicina, a partir del proyecto de ley que aprobó la semana pasada el Parlamento (y se sacó de la ley de urgente consideración). En concreto, a través de la aplicación los médicos podrán hacer el monitoreo remoto de los enfermos de Covid-19, comunicándose por videollamada. Jodal indicó que esto no solo agiliza la atención sino que también implica un cuidado para los trabajadores de la salud, que disminuirán la cantidad de contactos directos con los casos positivos.</p><p>Además, Jodal explicó que Uruguay implementará un segundo mecanismo para la realización de los <strong><u>test</u></strong> ordenados por el médico. Consistirá en un sistema de “estaciones” para que las muestras para el <strong><u>test</u></strong> de coronavirus se puedan tomar sin que las personas desciendan de sus autos, lo que acelera el <strong><u>proceso</u></strong> y aumenta la bioseguridad. Jodal dijo que se definirá dónde se instalarán esas estaciones (a las que se acudirá con día y hora acordados previamente) y que eso se determinará en función de los focos de contagio. El resultado demorará entre 48 y 72 horas y se creará una línea prioritaria para el personal de la salud.</p>    </div></body></html>"
      ],
      "text/plain": [
       "<IPython.core.display.HTML object>"
      ]
     },
     "metadata": {},
     "output_type": "display_data"
    },
    {
     "name": "stdout",
     "output_type": "stream",
     "text": [
      "__\n",
      "\n",
      "Score: 10.031465\n"
     ]
    },
    {
     "data": {
      "text/html": [
       "<!DOCTYPE html><html lang=\"es-uy\"><head>  <meta http-equiv=\"Content-Type\" content=\"text/html; charset=utf-8\"/>  <title>Coronavirus en Uruguay: 29 casos confirmados y cierre de fronteras con Argentina</title></head><body>  <div class=\"article-header\">    <h1 class=\"article-title after_foto\">  Coronavirus en Uruguay: 29 casos confirmados y cierre de fronteras con Argentina      </h1>      <div class=\"article-date-author\">    <span class=\"date small\"><time datetime=\"2020-03-16T20:39:03\">16 De Marzo De 2020</time> | </span>    <span class=\"small\">      <a href=\"https://ladiaria.com.uy/seccion/coronavirus/\">Coronavirus</a>  </span>    <span class=\"small\">| Foto:Ernesto Ryan</span>    </div>    </div>    <div class=\"article-body paywalled-content\">      <p>En la conferencia de prensa brindada este lunes, el gobierno informó que los casos en Uruguay de Covid-19, la enfermedad que causa el nuevo coronavirus, se elevaron a 29 después de que se confirmara que un laboratorio privado estaba haciendo exámenes de detección.</p><p>El ministro de Salud Pública, Daniel Salinas, explicó que en la conferencia de este domingo se informó de ocho casos pero en realidad había 12, ya que otros cuatro habían sido confirmados en un laboratorio privado sin que el Ministerio de Salud Pública (MSP) estuviera al tanto. Los análisis realizados en ambos laboratorios indican que en la tarde de este lunes había 29 casos. El ministro agregó que quienes lo deseen podrán hacerse el análisis de detección en este laboratorio privado, a un costo de 3.000 pesos. Reconoció que en el laboratorio de virología del MSP, que centralizó al comienzo los análisis, “se puede generar transitoriamente algún cuello de botella” y que por eso se está coordinando para que, a partir de este martes, el laboratorio del MSP autorice y valide al laboratorio del <strong><u>Institut</u></strong> Pasteur de Montevideo a hacer los análisis. Además, Salinas anunció que tres mutualistas empezarán a hacer los <strong><u>test</u></strong>. Ninguna de ellas está en el norte del país, por lo que, por el momento, los análisis seguirán centralizados en la capital, lo que implica una <strong><u>demora</u></strong> extra para quienes viven en el norte del país (las muestras deben enviarse refrigeradas y tardan varias horas en llegar).</p><ul><li>Leé más sobre esto: <a href=\"https://salud.ladiaria.com.uy/articulo/2020/3/msp-mutualistas-y-sindicatos-de-la-salud-acordaron-la-creacion-de-comite-intersectorial-de-crisis-por-el-coronavirus/\">MSP, mutualistas y sindicatos de la salud acordaron la creación de Comité Intersectorial de Crisis por el coronavirus</a></li></ul><p>El presidente Luis Lacalle Pou explicó que a la hora de la conferencia de prensa el gobierno no contaba con toda la información de los nuevos casos porque priorizó darla a la hora de los informativos televisivos, alegó. Salinas comentó que todas las personas con coronavirus se encuentran estables, “varios” tienen pocos síntomas y “una enorme mayoría” está en domicilio. “En principio no hay ningún caso en CTI”, añadió. Según el ministro, la mayoría de los nuevos casos están vinculados a los originales, pero no pudo precisar qué proporción ocupan los casos autóctonos ni en qué departamentos están. </p><h3 id=\"cierre-de-fronteras\">Cierre de fronteras</h3><p>Por su parte, Lacalle relató que este lunes de tarde se comunicó mediante una teleconferencia con “la mayoría de los presidentes de América del Sur”, con los que se habló sobre los procedimientos que está aplicando cada país. En el marco de ese encuentro, Uruguay decidió cerrar la frontera terrestre, fluvial y aérea con Argentina a partir de esta medianoche, excepto para uruguayos o extranjeros residentes en Uruguay (la medida no comprende el transporte de mercadería). Aclaró que “no es un cierre total”, sino que es “un cierre de ingreso y no de egreso”, y explicó que se tomó esa resolución porque estaban llegando de Argentina personas de otros países, algunas de ellas europeas, para irse a su país. Agregó que el presidente de Colombia “se ofreció para hacer de tránsito, de <em>hub</em>, para que puedan ingresar nacionales, desde el momento en que estamos perdiendo tránsito para que vuelvan los uruguayos”. Dijo que la cancillería está trabajando en ese tema y que “los uruguayos que están afuera tienen hasta el viernes habilitado para hacerlo”.</p><ul><li>Leé más sobre esto: <a href=\"https://ladiaria.com.uy/articulo/2020/3/gobierno-estudia-planes-especiales-de-internet-para-fomentar-el-teletrabajo/\">Gobierno estudia “planes especiales” de internet para fomentar el teletrabajo</a></li></ul><p>El cierre de fronteras no incluye a Brasil porque “es más difícil cuando es frontera seca”, indicó Lacalle Pou, aunque se hará un trabajo conjunto entre las cancillerías para implementar algunos controles sanitarios, por lo menos en los pasos de frontera en los que está presente la aduana.</p><p>El secretario de Presidencia, Álvaro Delgado, enumeró otra serie de medidas adoptadas en las últimas horas: se clausuran los puertos deportivos, se implementará un protocolo para el pase de fronteras, se adoptarán medidas para moderar el impacto económico que pueda tener la epidemia, en particular con respecto a los trabajadores. También dijo que el Área de Defensa al Consumidor del Ministerio de Economía y Finanzas “publicará los precios de distintos productos” vinculados a la prevención de Covid-19, sin que esto implique que se lleve a cabo un control de precios. Además, esa cartera analiza “la importación directa de varios de estos insumos”.</p><ul><li>Leé más sobre esto: <a href=\"https://ladiaria.com.uy/articulo/2020/3/personas-privadas-de-libertad-de-la-carcel-de-salto-confeccionan-tapabocas-ante-avance-del-coronavirus/\">Personas privadas de libertad de la cárcel de Salto confeccionan tapabocas ante avance del coronavirus</a></li></ul><p>Lacalle Pou llamó a tomar conciencia frente a esta situación. “Miles de uruguayos todavía no han tomado conciencia”, aseguró. Pidió que los mayores de 65 años se queden en sus casas, porque son los más expuestos a los contagios. Asimismo, exhortó a los empleadores a “buscar la posibilidad de trabajo” a distancia y señaló que el gobierno ya ha adoptado medidas en ese sentido.</p>    </div></body></html>"
      ],
      "text/plain": [
       "<IPython.core.display.HTML object>"
      ]
     },
     "metadata": {},
     "output_type": "display_data"
    },
    {
     "name": "stdout",
     "output_type": "stream",
     "text": [
      "__\n",
      "\n",
      "Score: 9.740364\n"
     ]
    },
    {
     "data": {
      "text/html": [
       "<!DOCTYPE html><html lang=\"es-uy\"><head>  <meta http-equiv=\"Content-Type\" content=\"text/html; charset=utf-8\"/>  <title>Consejos para prevenir el coronavirus</title></head><body>  <div class=\"article-header\">    <h1 class=\"article-title after_foto\">  Consejos para prevenir el coronavirus      </h1>      <div class=\"article-date-author\">    <span class=\"date small\"><time datetime=\"2020-03-13T15:17:31\">13 De Marzo De 2020</time> | </span>    <span class=\"small\">      <a href=\"https://ladiaria.com.uy/seccion/coronavirus/\">Coronavirus</a>  </span>    <span class=\"small\">| Foto:Ramiro Alonso</span>    </div>    </div>    <div class=\"article-body paywalled-content\">      <p>Un equipo de integrantes de diversas organizaciones médicas uruguayas elaboró una serie de recomendaciones para prevenir la expansión del coronavirus.</p><p>De acuerdo al documento que elaboraron, la población en general debe tomar los siguientes cuidados:</p><p>1) Higiene de manos mediante el lavado con agua y jabón o fricciones con alcohol en gel, enforma frecuente, en particular luego de toser o estornudar. El uso de alcohol en gel puedesustituir el lavado de manos en caso de que estén visiblemente limpias.</p><p>2) Evitar tocarse la cara y la mucosa de los ojos, la nariz o la boca.</p><p>3) Hacer una buena higiene respiratoria, es decir, al toser o estornudar cubrirse la boca y las fosas nasales con el pliegue del codo o utilizando pañuelos descartables.</p><p>4) Sólo deben utilizar mascarillas las personas con síntomas respiratorios o queasistan a personas sintomáticas o con diagnóstico confirmado de la enfermedad.</p><p>5) Mantener una distancia de uno a dos metros respecto de personas sintomáticas, no saludar con la mano, beso o abrazo; en el mismo sentido, evitar concurrir a sitios donde pueda haber aglomeraciones de personas.</p><p>6) No compartir utensilios de uso personal para bebidas y alimentos, como sorbitos, vasos,cubiertos, mate, etcétera.</p><p>7) Mantener los ambientes ventilados y con buena higiene.</p><p>8) Evaluar los riesgos que implican viajes innecesarios a países o ciudades donde está ocurriendo transmisión sostenida (actualización en páginas oficiales).</p><p>9) Distanciamiento social voluntario con aislamiento y cuarentena de las personas sintomáticas.</p><p>10) Si comienza a presentar síntomas y estos son leves, se sugiere hacer la consulta médica en el domicilio, utilizar alternativas como la videoconsulta o la consulta médica telefónica de orientación, evitando concurrir a centros asistenciales; considere que en una situación de eventual sobredemanda de consultas, puede existir una <strong><u>demora</u></strong> en la evaluación médica de estos casos.</p><p>11) Además, se recomienda la vacunación anual para influenza y, de ser necesaria, lavacunación antineumocócica, en particular en población de riesgo por comorbilidades y en personal sanitario.</p><div class=\"inline-image-wrap article_body_image-BG\">  <figure class=\"principal\">    <picture class=\"materialboxed\">      <!--[if IE 9]><video style=\"display: none;\"><![endif]-->      <source srcset=\"/media/photologue/photos/cache/prevencioncorona_1200w.jpeg\" media=\"(min-width: 480px)\">      <source srcset=\"/media/photologue/photos/cache/prevencioncorona_700w.jpeg\" media=\"(min-width: 260px)\">      <source srcset=\"/media/photologue/photos/cache/prevencioncorona_250w.jpeg\" media=\"(min-width: 0px)\">      <!--[if IE 9]></video><![endif]-->      <img class=\"responsive-img landscape\"   data-caption=\"Foto del artículo ''\"   alt=\"Foto del artículo ''\" />    </picture>    </figure></div><p>El documento fue elaborado por la Sociedad de Infectología Clínica del Uruguay, Sociedad Uruguaya de Medicina Intensiva, cátedras de Enfermedades Infecciosas y de Medicina Intensiva (Facultad de Medicina, Universidad de la República -<strong><u>Udelar</u></strong>-), Sociedad Uruguaya de Emergencistas, Sociedad de Medicina Interna del Uruguay, Departamento de Medicina Familiar y Comunitaria (Facultad de Medicina, <strong><u>Udelar</u></strong>), Sociedad Uruguaya de Medicina Familiar y Comunitaria, Sociedad Uruguaya de Enfermería en Cuidados Intensivos, Clínica Médica C (Hospital de Clínicas), Sociedad Uruguaya de Neumología, Asociación Latinoamericana para el Control de Infecciones, Facultad de Enfermería (<strong><u>Udelar</u></strong>), Departamento de Anestesiología (Hospital de Clínicas, Facultad de Medicina, <strong><u>Udelar</u></strong>).</p>    </div></body></html>"
      ],
      "text/plain": [
       "<IPython.core.display.HTML object>"
      ]
     },
     "metadata": {},
     "output_type": "display_data"
    },
    {
     "name": "stdout",
     "output_type": "stream",
     "text": [
      "__\n",
      "\n",
      "Score: 9.19537\n"
     ]
    },
    {
     "data": {
      "text/html": [
       "<!DOCTYPE html><html lang=\"es-uy\"><head>  <meta http-equiv=\"Content-Type\" content=\"text/html; charset=utf-8\"/>  <title>Dante Castillo: “La tecnología ayuda a la educación en momentos como este, pero también excluye a otros que no tienen acceso”</title></head><body>  <div class=\"article-header\">    <h1 class=\"article-title after_foto\">  Dante Castillo: “La tecnología ayuda a la educación en momentos como este, pero también excluye a otros que no tienen acceso”      </h1>      <div class=\"article-date-author\">    <span class=\"date small\"><time datetime=\"2020-03-28T01:14:47\">28 De Marzo De 2020</time> | </span>      Escribe:  <span class=\"small\"><a href=\"https://ladiaria.com.uy/periodista/833/\">    Leticia Castro</a></span> <span class=\"small\">en </span>    <span class=\"small\">      <a href=\"https://ladiaria.com.uy/seccion/en-comun/\">En común</a>  </span>    <span class=\"small\">| Foto:s/d de autor</span>    </div>    </div>    <div class=\"article-body paywalled-content\">      <p>La relación entre las herramientas tecnológicas y la educación ya era tema de debate desde hacía tiempo, pero la coyuntura mundial puso el tema sobre la mesa. En Uruguay docentes y estudiantes de la educación pública y privada tuvieron que sumergirse de lleno en el tema, porque es la única solución posible en tiempos de aislamiento social, y lo mismo hicieron otros países. Para tener una mirada comparada de Uruguay con la región, <em>la diaria</em> conversó con Dante Castillo, un investigador chileno, director de Políticas y Prácticas Innovadoras del Laboratorio de Investigación e Innovación en Educación para América Latina y el Caribe (SUMMA).</p><p>Castillo es líder del proyecto Plataforma de Prácticas Educativas Efectivas en SUMMA, sociólogo de la Universidad de Chile y magíster en Cultura y Sociedad por la Escuela de Londres de Economía y Ciencia Política. Se ha especializado en temas de tecnología educativa y asegura que el potencial no está en el dispositivo sino en cómo se usa. Advirtió que “tradicionalmente estuvo la idea de que el solo acceso a la tecnología iba a mejorar los aprendizajes, pero eso no fue tan lineal. Se empieza a avanzar hacia la comprensión de que hay que trabajar en cómo se incorpora la tecnología al <strong><u>proceso</u></strong> pedagógico, ahí es donde se le puede sacar mejor provecho”. Castillo habló, además, sobre los primeros puntos a tener en cuenta al abrir un aula virtual, los beneficios de incorporar tecnología y los desafíos que eso trae consigo.</p><h4 id=\"se-podria-decir-que-esta-emergencia-agarro-a-uruguay-bien-parado-en-<strong><u>cuanto</u></strong>-a-educacion-virtual-por-el-trabajo-hecho-por-plan-ceibal-sin-embargo-esa-no-es-la-situacion-de-muchos-otros-paises-de-la-region\">Se podría decir que esta emergencia agarró a Uruguay bien parado en <strong><u>cuanto</u></strong> a educación virtual, por el trabajo hecho por Plan Ceibal. Sin embargo, esa no es la situación de muchos otros países de la región.</h4><p>Me parece súper importante hacer esa primera distinción. El caso de Uruguay es bien particular, no es lo que pasa en el resto de América Latina, porque ustedes tienen el Plan Ceibal y una buena cobertura de acceso a internet, eso no pasa en toda la región. A veces tendemos a olvidar ese dato, si lo miramos en perspectiva comparada hay que tenerlo en cuenta. Pensando en términos comparativos, hay países que están más avanzados en algunas dimensiones que otros; en términos de tecnología, si uno mira el panorama digital, cerca de 45% de los hogares de la región tienen acceso a internet, según el último informe de la Comisión Económica para América Latina y el Caribe. Esto es relevante desde la perspectiva de la equidad. Hay países donde no todos los estudiantes y sus familias tienen acceso a internet, el uso de las tecnologías de la información y la comunicación se ve limitado y deja gente afuera, y probablemente esos estudiantes son los que están en condiciones socioeconómicas más vulnerables. Es interesante ver que la tecnología ayuda y contribuye en momentos como este, en que los estudiantes deben desarrollar su <strong><u>proceso</u></strong> educativo a distancia, pero también excluye a otros que no tienen acceso. Países como Argentina, Brasil, Chile y Uruguay tienen 70% de hogares con conexión, pero en Centroamérica hay países con menos de 20%. Incluso en los países con mayor porcentaje de conexión, hay una parte de la población que no tiene posibilidad de acceder a los recursos pedagógicos que se están ofreciendo, y es ese grupo el que tenemos que mirar con mayor precisión para que no queden afuera del <strong><u>proceso</u></strong> educativo.</p><h4 id=\"mas-alla-de-la-brecha-en-el-acceso-cuales-son-los-desafios-para-incorporar-la-tecnologia-en-la-educacion\">Más allá de la brecha en el acceso, ¿cuáles son los desafíos para incorporar la tecnología en la educación?</h4><p>Hay dos desafíos: uno tiene que ver con los profesores y otro con los estudiantes. Creo que en el caso de los profesores se requiere una comprensión del rol que juegan en estos contextos. El docente comienza a pensarse como un articulador entre el conocimiento de todo el mundo digital y su aula, empieza a jugar un rol de curador, si se quiere, de contenidos digitales. Lo podemos pensar en relación al coronavirus: si hacemos una lectura pedagógica, hay muchas cuestiones que un docente podría usar, por ejemplo, las curvas de crecimiento exponencial, para trabajar conceptos matemáticos, o los mapas de visualización, para trabajar geografía. Eso significa que los docentes deben evaluar eso que está ocurriendo en el entorno, qué es relevante para los estudiantes y qué puede ser puesto en formato pedagógico. Esto es una competencia que muchos docentes ya tienen, pero otros deben comenzar a desarrollarla. Los docentes deben ir trabajando cada vez de mejor manera con los recursos educativos abiertos, y no sólo es saber usarlos, sino saber hacerlos. Empieza a aparecer un conjunto de competencias relacionadas al mundo tecnológico que se deben incorporar a la profesión docente.</p><div class=\"extension extension-R\" style=\"background:#eaeaea;\">    <div class=\"extension__body\"><h3>“Se suele pensar que es el docente el que tiene que desarrollar competencias, pero también son los estudiantes los que deben desarrollar un conjunto de competencias para poder sacarles provecho a las tecnologías”.</h3>    </div></div><h4 id=\"y-cuales-son-los-desafios-para-los-estudiantes\">¿Y cuáles son los desafíos para los estudiantes?</h4><p>Hay un desafío que está menos investigado y tiene que ver con la idea del nativo digital, falta conocer mejor cómo los estudiantes están haciendo uso de las tecnologías. Se suele decir que las nuevas generaciones naturalmente saben manejar las tecnologías. Probablemente lo saben hacer, sobre todo las redes sociales. Pero la pregunta es ¿han <strong><u>desarrollado</u></strong> esas capacidades en el contexto del <strong><u>proceso</u></strong> pedagógico? Es decir, ¿pueden seguir una clase online, participar en un foro, hacer retroalimentación con otros? No tengo una respuesta. Se suele pensar que es el docente el que tiene que desarrollar competencias, pero también son los estudiantes los que deben desarrollar un conjunto de competencias para poder sacarles provecho a las tecnologías.</p><h4 id=\"los-estudiantes-mas-pequenos-que-no-tienen-la-capacidad-de-participar-en-foros-y-debates-como-sacan-provecho-de-la-tecnologia-educativa\">Los estudiantes más pequeños que no tienen la capacidad de participar en foros y debates, ¿cómo sacan provecho de la tecnología educativa?</h4><p>Cada vez se trabaja más en <em>tablets</em> con juegos asociados a su edad, problemas básicos que deben solucionar en forma de juego. Hay mucho desarrollo de aplicaciones con funciones básicas como sumas, restas, identificación de colores, de formas, que están en los primeros años del <strong><u>proceso</u></strong> educativo. Una de las ventajas de las tecnologías es que permiten jugar y construir sistemas, interfaces, y contenidos que son mucho más customizables al grupo al que se quiere llegar, hay una potencialidad gigantesca.</p><h4 id=\"cuales-son-los-siguientes-pasos-que-deben-dar-los-paises-para-incorporar-la-tecnologia-de-la-mejor-forma-posible\">¿Cuáles son los siguientes pasos que deben dar los países para incorporar la tecnología de la mejor forma posible?</h4><p>Es importante que en este tipo de conversaciones estén involucrados los docentes; muchas veces ellos tienen la percepción de que en el ministerio de educación se decide y desde ahí se imponen nuevas formas de trabajo, eso no debería ser así. Deberíamos avanzar en programas de formación docente, definir agendas nacionales con ellos para incorporar las herramientas y las competencias a los currículums. Por otro lado, se podría repensar la evaluación punitiva a los estudiantes, que ellos avancen en el desarrollo de esa competencia y que su trabajo no esté asociado a un castigo por hacerlo mal; creo que si eso cambia en algunos países se descomprimiría la conversación en torno a las tecnologías educativas.</p><h4 id=\"y-cuales-serian-los-primeros-pasos-que-debe-dar-un-docente-para-incorporar-la-tecnologia-en-su-propia-practica\">¿Y cuáles serían los primeros pasos que debe dar un docente para incorporar la tecnología en su propia práctica?</h4><p>Lo primero es la colaboración, evitar hacer las cosas solos, entender que lo colaborativo puede tomar un poco más de tiempo pero sus resultados van a ser mucho más efectivos, porque grupos de colegas pueden evaluar mucho mejor los recursos disponibles, pueden compartir experiencias, y eso hace a un <strong><u>proceso</u></strong> más rico. En segundo lugar, los docentes deberían incorporar una evaluación del procedimiento, como una investigación-acción, evaluar si la práctica está generando los resultados esperados. Es distinta a la evaluación que hacen de los estudiantes, se trata de cuestionar los resultados de las herramientas que está usando para poder ajustarlos si es necesario. Lo otro es saber usar las herramientas: mucha gente pensó que digitalizar el libro de texto es una manera adecuada de acercar el libro al ámbito digital, y eso es porque no se está entendiendo el contexto virtual. Interactuar con las tecnologías en plataformas virtuales requiere una dinámica y formatos específicos, no es colgar el libro en PDF.</p>    </div></body></html>"
      ],
      "text/plain": [
       "<IPython.core.display.HTML object>"
      ]
     },
     "metadata": {},
     "output_type": "display_data"
    },
    {
     "name": "stdout",
     "output_type": "stream",
     "text": [
      "__\n",
      "\n",
      "Score: 8.554329\n"
     ]
    },
    {
     "data": {
      "text/html": [
       "<!DOCTYPE html><html lang=\"es-uy\"><head>  <meta http-equiv=\"Content-Type\" content=\"text/html; charset=utf-8\"/>  <title><strong><u>Udelar</u></strong> ofrece tarjetas de débito para comprar alimentos a los estudiantes que asistían a comedores universitarios</title></head><body>  <div class=\"article-header\">    <h1 class=\"article-title after_foto\">  <strong><u>Udelar</u></strong> ofrece tarjetas de débito para comprar alimentos a los estudiantes que asistían a comedores universitarios      </h1>      <div class=\"article-date-author\">    <span class=\"date small\"><time datetime=\"2020-03-26T01:25:55\">26 De Marzo De 2020</time> | </span>    <span class=\"small\">      <a href=\"https://ladiaria.com.uy/seccion/terciaria/\">Terciaria</a>  </span>  </div>    </div>    <div class=\"article-body paywalled-content\">      <p>Dentro de las áreas de trabajo de Bienestar Universitario de la Universidad de la República (<strong><u>Udelar</u></strong>) están las becas sociales que incluyen, entre otras, becas de alimentaciones en los comedores universitarios de las distintas regiones. La <strong><u>Udelar</u></strong> suspendió todas las actividades hasta el 13 de abril debido a la emergencia sanitaria, y eso incluye los comedores. Según explicó a <em>la diaria</em> la presidenta de Bienestar, Gabriela Pacci, se hizo un relevamiento de los estudiantes que necesitaban mantener el servicio de comedor, y a ellos se les ofrecerá una tarjeta de débito alimentaria que contará con un monto de 9.000 pesos para utilizar solamente en productos de alimentación durante un período de 30 días. Son 163 los universitarios que podrán acceder a la tarjeta en los próximos días, luego se hará un segundo relevamiento para aumentar el alcance.</p><p>Estos universitarios no son todos los que ya accedían al servicio, ya que según el relevamiento “muchos de los estudiantes volvieron a sus hogares y resuelven la situación alimentaria con su familia”, comentó Pacci.</p><p>Al mismo tiempo que se ofrece la tarjeta se realizará una campaña sobre alimentación saludable. “Estamos fortaleciendo la estrategia de trabajo con respecto a las políticas de alimentación en general. Por un lado, tenemos la parte asistencial, que es la tarjeta, pero también nos importa la promoción de la alimentación saludable. En los próximos días vamos a fortalecer una campaña relacionada con la buena alimentación, junto con la Escuela de Nutrición, que también difunde recomendaciones para una alimentación sana y balanceada”, detalló Pacci.</p><h3 id=\"deporte-y-cultura-virtual\">Deporte y cultura virtual</h3><p>Otras áreas de trabajo de Bienestar Universitario incluyen el desarrollo del deporte y la cultura. Para paliar la situación que conlleva el aislamiento social “los profesores del área deporte que realizan actividades asociadas al tiempo libre, a la recreación, así como el deporte competitivo, están empezando a desarrollar estrategias remotas <em>online</em> que permitan mantener un vínculo con nuestra comunidad”, señaló Pacci. Uno de los objetivos principales es trabajar con la generación de ingreso, porque tuvieron muy pocas clases antes de que se tomara la medida de suspenderlas: “El estudiante de la generación 2020 iba a empezar su vida universitaria y se paró, para nosotros es muy importante que ese estudiante no pierda el vínculo con la <strong><u>Udelar</u></strong>”, agregó.</p><p>Para eso se ofrecen, en las redes sociales Facebook (<a href=\"https://www.facebook.com/bienestar.udelar/\">bienestar.udelar</a>) e Instagram (<a href=\"https://www.instagram.com/deportesbienestaruniversitario/\">deportesbienestaruniversitario</a>), clases en vivo de pilates, gimnasia laboral, fitness, gimnasia para adultos mayores y gimnasia familiar, en diversos días y horarios. Según destacó Pacci, este servicio crece más allá de la comunidad universitaria de la <strong><u>Udelar</u></strong>, ya que las clases han sido visualizadas por personas de todas las edades e incluso de otros países.</p><p>La respuesta hasta el momento ha sido “muy buena”, según la presidenta de Bienestar Universitario. Este martes la clase de fitness de las 17.00 tuvo 108 espectadores en vivo, mientras que en diferido alcanzó a 4.211 personas. La clase de gimnasia laboral de las 16.00 tuvo un máximo de 40 personas conectadas en vivo y 2.088 personas en total; mientras que la clase de gimnasia para adultos mayores tuvo hasta 43 participantes en vivo y un alcance de 1.558 personas.</p><p>El área cultura también está planificando actividades para realizar de forma remota, aunque, según dijo Pacci, por ahora prefieren “no agobiar con las opciones; a la vez que es un <strong><u>proceso</u></strong> de exploración institucional, esta situación da una oportunidad para explorar otras estrategias de trabajo, otras formas de relacionamiento y, sobre todo, pensar en el rol de la <strong><u>Udelar</u></strong> en este contexto”.</p>    </div></body></html>"
      ],
      "text/plain": [
       "<IPython.core.display.HTML object>"
      ]
     },
     "metadata": {},
     "output_type": "display_data"
    },
    {
     "name": "stdout",
     "output_type": "stream",
     "text": [
      "__\n",
      "\n"
     ]
    }
   ],
   "source": [
    "get(0,'¿Cuánto demora el proceso de registro del test desarrollado por Udelar y el Institut Pasteur?')"
   ]
  },
  {
   "cell_type": "code",
   "execution_count": 78,
   "metadata": {},
   "outputs": [
    {
     "name": "stdout",
     "output_type": "stream",
     "text": [
      "Score: 9.967554\n"
     ]
    },
    {
     "data": {
      "text/html": [
       "<!DOCTYPE html><html lang=\"es-uy\"><head>  <meta http-equiv=\"Content-Type\" content=\"text/html; charset=utf-8\"/>  <title>¿Qué nos permiten decir los datos actuales de la Covid-19 sobre lo que nos espera?</title></head><body>  <div class=\"article-header\">    <h1 class=\"article-title after_foto\">  ¿Qué nos permiten decir los datos actuales de la Covid-19 sobre lo que nos espera?      </h1>      <div class=\"article-date-author\">    <span class=\"date small\"><time datetime=\"2020-03-28T01:11:07\">28 De Marzo De 2020</time> | </span>      Escribe:  <span class=\"small\"><a href=\"https://ladiaria.com.uy/periodista/gonzalo-tancredi/\">    Gonzalo Tancredi</a></span> <span class=\"small\">en </span>    <span class=\"small\">      <a href=\"https://ladiaria.com.uy/seccion/comunidad-cientifica/\">Comunidad científica</a>  </span>  </div>    </div>    <div class=\"article-body paywalled-content\">      <blockquote><p>Ciencia en primera persona es un espacio abierto para que científicos y científicas reflexionen sobre el mundo y sus particularidades. Los esperamos en ciencia@ladiaria.com.uy.</p></blockquote><p>Primero, una advertencia. Quien escribe estas notas no es epidemiólogo, infectólogo o siquiera un bioestadístico, sino un investigador en Astronomía, con experiencia en el tratamiento y modelización de datos de diverso tipo. Tengo un profuso trabajo y estudio de catástrofes globales, especialmente de origen astronómico, pero no experiencia en el análisis de pandemias. Desde esa perspectiva he querido hacer una contribución que intenta dar visualización a datos disponibles en la red, para poner en evidencia las diferentes tendencias en la evolución de la <a href=\"https://ladiaria.com.uy/seccion/coronavirus/\">Covid-19</a> y utilizar mi experiencia para extraer algo de ellas.</p><p>La epidemia de la Covid-19 comienza a desarrollarse en la ciudad de Wuhan, capital de la provincia de Hubei, China, sobre fines de diciembre de 2019. La primera aparición pública ocurre el 31 de ese mes, cuando funcionarios de salud chinos informaron a la Organización Mundial de la Salud (OMS) sobre un grupo de 41 pacientes con una misteriosa neumonía. La mayoría de los pacientes están conectados al mercado mayorista de mariscos de Huanan. De ahí en más, comenzó una acelerada serie de sucesos: el 7 de enero las autoridades chinas identifican un nuevo tipo de coronavirus (al que luego se denomina SARS-CoV-2); el 11 de enero se registra la primera muerte en Wuhan; el 13 de enero comienza la dispersión de la epidemia a nivel mundial con el primer caso de coronavirus fuera de China, en Tailandia; y el 2 de febrero la primera muerte fuera de China, en Filipinas. El 23 de enero las autoridades chinas adoptan una estricta cuarentena en la ciudad de Wuhan, que se extiende en los <strong><u>días</u></strong> siguientes a toda la provincia de Hubei. El 11 de febrero la OMS anuncia que se ha designado a la nueva epidemia coronavirus como Covid-19. El 19 y 21 de febrero se reportan los primeros casos de Covid-19 en Irán e Italia, respectivamente.</p><p>Según la base de datos de la OMS, desde enero al día de hoy se han publicado más de 2.500 artículos científicos relativos al coronavirus. Varios organismos están recopilando datos estadísticos de la evolución global de casos confirmados de contagio y de muertes asociadas a la Covid-19. Uno de los sitios web más completos y visualmente más amigable es el que proporciona el <a href=\"https://coronavirus.jhu.edu/map.html\">Center for Systems Science and Engineering</a> de la Johns Hopkins University. Se proporciona una información actualizada del número de casos de contagios confirmados, número de muertes y de pacientes recuperados, en el mundo y por país. Hay un mapa de “calor” mundial, con círculos de diverso tamaño según el número de casos confirmados por país. Además, se proporciona un link con los datos que se usan para la confección de las tablas y mapas, donde aparece el detalle día a día desde el 22 de enero de 2020. Es a partir de esos datos que realizo el siguiente análisis.</p><h3 id=\"1-los-casos-confirmados\">1) Los casos confirmados</h3><p>Temporalmente, los primeros datos que aparecen por país se refieren a casos de personas a las que se les ha hecho un test epidemiológico y dan positivo para Covid-19, y figuran como casos confirmados. Con el avance de la epidemia, algunos países cambian la estrategia de confirmación de casos infectados, y en algunos casos sólo se aplica el test epidemiológico a ciertos grupos dentro de la población. Sumado a este problema, está la diversidad y confiabilidad de los test en uso; y como analizamos una evolución temporal, también importan los distintos tiempos de obtención de resultados entre los test más confiables (PCR) y los test rápidos. Por tanto, el primer problema que se presenta para el análisis de estos datos se relaciona con el grado de completitud, representatividad y consistencias de las muestras. El caso positivo aparece luego de testear un mayor número de potenciales casos, ya sea de gente que presenta síntomas compatibles, o una muestra más global. Pero es sabido que el número de casos confirmados es siempre menor al número de casos totales de personas efectivamente contagiadas. No obstante, ante la falta de otras bases de datos más confiables, haremos un análisis estadístico de las series temporales antes mencionadas, que cuentan con la más completa y actualizada base de datos.</p><p>Para la fecha del análisis (26 de marzo) se contabilizaban en el mundo más de medio millón de casos confirmados (510.108) en 174 países, con las salvedades que se comentaban en el párrafo anterior. Se presenta un análisis de la evolución temporal de los casos confirmados para un conjunto seleccionado de países. Se optó por analizar por separado el caso de la provincia de Hubei y no incluir el caso de China en su conjunto, ya que, como se muestra más abajo, la evolución que tuvo la epidemia en esa región fue bien distinta a la del resto del país. Además, para el caso de Hubei se incluyeron datos anteriores al 22 de enero (datos iniciales).</p><p>La evolución temporal se muestra en la figura 2, donde se grafica el número cumulativo de casos desde el inicio de la epidemia y el número de casos por día (suavizados con una ventana  de siete <strong><u>días</u></strong>) en función del tiempo (desde el 1° de enero). Nótese que es un gráfico logarítmico en el eje y. En términos matemáticos, el número de casos por día se puede considerar como la derivada del número cumulativo de casos. Todos los casos muestran un comportamiento aproximadamente lineal al inicio de la epidemia local en el gráfico semilogarítmico; lo que denota un aumento del número de casos de tipo exponencial (N=a exp (-st); donde N es el número cumulativo de casos, a es una constante, t es el tiempo y s es el factor exponencial). Un comportamiento exponencial también se puede interpretar como una duplicación en el número total de casos registrados cada un cierto número de <strong><u>días</u></strong> (ese número de <strong><u>días</u></strong> T se puede calcular como T=ln 2/s, logaritmo neperiano). Lo que nos permiten ver estos datos y gráficos es que el comportamiento exponencial generalmente se mantiene en los primeros diez a 20 <strong><u>días</u></strong> desde la identificación de los primeros casos, mientras que el factor exponencial implica una duplicación de casos cada entre dos y 3,5 <strong><u>días</u></strong> (s tiene un valor entre 0,2 y 0,4).</p><div class=\"inline-image-wrap article_body_image-BG\">  <figure class=\"principal\">    <picture class=\"materialboxed\">      <!--[if IE 9]><video style=\"display: none;\"><![endif]-->      <source srcset=\"/media/photologue/photos/cache/figura-2_CniEUxf_1200w.jpg\" media=\"(min-width: 480px)\">      <source srcset=\"/media/photologue/photos/cache/figura-2_CniEUxf_700w.jpg\" media=\"(min-width: 260px)\">      <source srcset=\"/media/photologue/photos/cache/figura-2_CniEUxf_250w.jpg\" media=\"(min-width: 0px)\">      <!--[if IE 9]></video><![endif]-->      <img class=\"responsive-img landscape\"   data-caption=\"FIGURA 2. a) Número cumulativo de casos confirmados desde el 1° de enero. b) Número de casosconfirmados por día, suavizados con una ventana de siete <strong><u>días</u></strong>. Escala logarítmica en el eje y.\"   alt=\"FIGURA 2. a) Número cumulativo de casos confirmados desde el 1° de enero. b) Número de casosconfirmados por día, suavizados con una ventana de siete <strong><u>días</u></strong>. Escala logarítmica en el eje y.\" />    </picture>    <figcaption class=\"ld-caption\">FIGURA 2. a) Número cumulativo de casos confirmados desde el 1° de enero. b) Número de casosconfirmados por día, suavizados con una ventana de siete <strong><u>días</u></strong>. Escala logarítmica en el eje y.</figcaption>    </figure></div><p>Para los países donde la epidemia ha avanzado más, la curva tiende a aplanarse luego de la primera fase exponencial. El gráfico del número de casos confirmados por día muestra una primera fase incremental, y en los casos más evolucionados, se alcanza un pico, para luego comenzar a disminuir. Esto es lo que se observa claramente para el caso de Hubei, y en cierta forma para Corea del Sur. Pero nótese que en el caso de Corea del Sur, <strong><u>si</u></strong> bien se observa el aplanamiento, no se continúa la tendencia de caída del número de casos por día más allá del día 70. Esto marca un enlentecimiento en la propagación de la epidemia en Corea del Sur, pero no su total anulación. Para el caso de Irán, se observa una clara separación del comportamiento exponencial y una tendencia a alcanzar el pico en el número de casos por día. Italia tiene una incipiente separación del comportamiento exponencial en los últimos <strong><u>días</u></strong>, pero está lejos aún de tender a un achatamiento. El resto de los países europeos todavía continúa en la fase exponencial.</p><p>En los países latinoamericanos la epidemia comenzó a desarrollarse unos 15 <strong><u>días</u></strong> <strong><u>después</u></strong> que en el sur de Europa (principios de marzo). Todos los países en fase exponencial presentan una duplicación de casos entre dos y 3,5 <strong><u>días</u></strong>.</p><p>La fracción de casos confirmados con relación a la población total respectiva presenta grandes variaciones según cada país, como se observa en la figura 3. Las fracciones más altas (del orden de un caso confirmado cada 1.000 habitantes) se alcanzan en Hubei e Italia, con la salvedad de que en Italia esa fracción seguramente será más alta. Se seleccionaron algunos casos para mostrar realidades diversas. Por un lado están los casos con altas fracciones como Hubei, Italia y España. Irán y Corea del Sur se encuentran en una situación intermedia, y en vistas de las tendencias de los últimos <strong><u>días</u></strong>, no es esperable que haya un aumento considerable. Alemania tuvo un inicio en la propagación de la epidemia casi simultáneo con España, con un número similar total de casos en el presente, pero con una fracción de población menor. En América Latina, los casos más comprometidos son los de Chile, Uruguay y Ecuador, con una fracción de casos confirmados respecto de su población que es cuatro o cinco veces superior que la de Argentina, Brasil o Perú. No obstante, este resultado se debe tomar con cautela por el problema de completitud y representatividad de las muestras.</p><div class=\"inline-image-wrap article_body_image-BG\">  <figure class=\"principal\">    <picture class=\"materialboxed\">      <!--[if IE 9]><video style=\"display: none;\"><![endif]-->      <source srcset=\"/media/photologue/photos/cache/figura-3_1200w.jpg\" media=\"(min-width: 480px)\">      <source srcset=\"/media/photologue/photos/cache/figura-3_700w.jpg\" media=\"(min-width: 260px)\">      <source srcset=\"/media/photologue/photos/cache/figura-3_250w.jpg\" media=\"(min-width: 0px)\">      <!--[if IE 9]></video><![endif]-->      <img class=\"responsive-img landscape\"   data-caption=\"FIGURA 3. a) Fracción de casos confirmados con relación a la población total al 27 de marzo.b) Selección de algunos casos. Escala logarítmica en el eje y\"   alt=\"FIGURA 3. a) Fracción de casos confirmados con relación a la población total al 27 de marzo.b) Selección de algunos casos. Escala logarítmica en el eje y\" />    </picture>    <figcaption class=\"ld-caption\">FIGURA 3. a) Fracción de casos confirmados con relación a la población total al 27 de marzo.b) Selección de algunos casos. Escala logarítmica en el eje y</figcaption>    </figure></div><p>El caso de Uruguay merece un detalle especial, por nuestro interés particular, pero también por su peculiaridad. Uruguay tuvo un aumento abrupto del número de casos confirmados en los cinco primeros <strong><u>días</u></strong>, con una pendiente muy superior respecto del resto de los países. La causa de este fenómeno está asociada al gran número de contagios generado a partir del casamiento ocurrido el 6 de marzo. Este efecto, al que podemos denominar “efecto Carmela”, ya que la portadora inicial fue Carmela Hontou, tuvo como consecuencia una fracción de casos confirmados respecto de la población total excepcionalmente alta para la región, lo que implica partir de un piso más alto para la propagación local. <strong><u>Si</u></strong> bien no son públicas las cifras de casos confirmados a partir de este caso, se ha manejado en algunos reportes de prensa que más de 50 casos están asociados directamente a este vector, un número mucho mayor que la tasa promedio de contagio de entre dos y tres personas infectadas por cada portador estimada por la OMS. Luego de esta fase inicial, el ritmo de contagios en Uruguay ha disminuido a una tasa de duplicación cada cerca de cuatro a cinco <strong><u>días</u></strong>.</p><p>Otro dato relevante es una comparación entre la fracción de casos confirmados con respecto a la población entre los países de América del Sur y de África, donde típicamente este parámetro es diez veces superior en los países de nuestra región frente a los países africanos. La llegada más tardía de la epidemia a África respecto de América del Sur está asociada a la mayor conexión de nuestra región con los países europeos más afectados (Italia y España).</p><h3 id=\"2-las-muertes\">2) Las muertes</h3><p>A continuación se analizan las series temporales del número de muertes, que se muestran en la figura 4. Considerando el mecanismo de recolección de reportes, los datos referidos al número de muertes deberían contar con un más alto nivel de completitud. El principal cuestionamiento puede ser la validez de asociar la muerte a un caso de Covid-19 o a otra causa preexistente, como fue el caso de una mujer uruguaya de 82 años fallecida el 19 de marzo, positiva de Covid-19, pero con un cáncer avanzado. Es esperable que este tipo de casos inciertos sea muy menor, por lo que el número de muertes es una estimación más confiable para analizar la evolución temporal de la propagación de la pandemia.</p><p>Para la fecha del análisis (26 de marzo) se contabilizaban en todo el mundo casi 23.000 muertes asociadas a la Covid-19 (22.993) en 102 países.</p><p>El análisis de las muertes permite sacar conclusiones similares a las expuestas para los casos confirmados. Las pendientes de la fase exponencial inicial son similares, con una duplicación de casos entre dos y tres <strong><u>días</u></strong>. Hubei y Corea del Sur presentan un achatamiento de la curva, pero <strong><u>si</u></strong> bien en el caso de Hubei el número de muertes por día tiende a cero, en Corea del Sur se ha observado, luego de un aplanamiento, un nuevo incremento en los últimos diez <strong><u>días</u></strong>. Irán parecería estar entrando en una fase de disminución del número de casos por día. Italia comienza una separación de la fase exponencial, pero todavía está lejos de alcanzar un achatamiento. El resto de los países graficados todavía están en la fase exponencial. En América Latina, el número de muertes todavía es muy bajo.</p><div class=\"inline-image-wrap article_body_image-BG\">  <figure class=\"principal\">    <picture class=\"materialboxed\">      <!--[if IE 9]><video style=\"display: none;\"><![endif]-->      <source srcset=\"/media/photologue/photos/cache/figura-4_ohUthS1_1200w.jpg\" media=\"(min-width: 480px)\">      <source srcset=\"/media/photologue/photos/cache/figura-4_ohUthS1_700w.jpg\" media=\"(min-width: 260px)\">      <source srcset=\"/media/photologue/photos/cache/figura-4_ohUthS1_250w.jpg\" media=\"(min-width: 0px)\">      <!--[if IE 9]></video><![endif]-->      <img class=\"responsive-img landscape\"   data-caption=\"FIGURA 4. a) Número cumulativo de muertes desde el 1° de enero. b) Número de muertes pordía, suavizados con una ventana de siete <strong><u>días</u></strong>. Escala logarítmica en el eje y.\"   alt=\"FIGURA 4. a) Número cumulativo de muertes desde el 1° de enero. b) Número de muertes pordía, suavizados con una ventana de siete <strong><u>días</u></strong>. Escala logarítmica en el eje y.\" />    </picture>    <figcaption class=\"ld-caption\">FIGURA 4. a) Número cumulativo de muertes desde el 1° de enero. b) Número de muertes pordía, suavizados con una ventana de siete <strong><u>días</u></strong>. Escala logarítmica en el eje y.</figcaption>    </figure></div><p>La fracción de muertes sobre la población de cada país se muestra en la figura 5. Los países con fracciones más altas son los mismos que para los casos confirmados. Pero resulta llamativa la baja fracción de muertes de países como Corea del Sur y Alemania, que contaban con altas fracciones de casos confirmados. Este resultado queda más patente <strong><u>si</u></strong> comparamos el número de muertes versus número de casos confirmados para algunos países. Italia se encuentra próximo a la relación de una muerte por cada diez casos confirmados, mientras que España, Irán y Hubei se encuentran un poco por debajo. Otros países como Estados Unidos, Corea del Sur y Alemania están más próximos a una relación de una muerte por cada 100 casos confirmados, o sea un factor cerca de diez veces menor que los países anteriores.</p><p>Argentina y Brasil tienen valores de muertes sobre casos confirmados que son intermedios con respecto a los anteriores; mientras que en Uruguay y Chile los valores están por debajo de los valores más bajos de Alemania y Corea del Sur. Uruguay cuenta con 228 casos confirmados y ninguna muerte a la fecha, lo que da una tasa inferior a una muerte cada 200 casos, y Chile tiene 1.306 casos confirmados y cuatro muertes (tasa inferior a una muerte cada 300 confirmados).</p><div class=\"inline-image-wrap article_body_image-BG\">  <figure class=\"principal\">    <picture class=\"materialboxed\">      <!--[if IE 9]><video style=\"display: none;\"><![endif]-->      <source srcset=\"/media/photologue/photos/cache/figura-5_1200w.jpg\" media=\"(min-width: 480px)\">      <source srcset=\"/media/photologue/photos/cache/figura-5_700w.jpg\" media=\"(min-width: 260px)\">      <source srcset=\"/media/photologue/photos/cache/figura-5_250w.jpg\" media=\"(min-width: 0px)\">      <!--[if IE 9]></video><![endif]-->      <img class=\"responsive-img landscape\"   data-caption=\"FIGURA 5. a) Fracción de muertes con relación a la población total al 26 de marzo. Escalalogarítmica en el eje y. b) Número de muertes versus número de casos confirmados. Lalínea punteada superior corresponde a una relación de una muerte por cada diez casosconfirmados, mientras que la inferior a una cada 100. Escala logarítmica en ambos ejes.\"   alt=\"FIGURA 5. a) Fracción de muertes con relación a la población total al 26 de marzo. Escalalogarítmica en el eje y. b) Número de muertes versus número de casos confirmados. Lalínea punteada superior corresponde a una relación de una muerte por cada diez casosconfirmados, mientras que la inferior a una cada 100. Escala logarítmica en ambos ejes.\" />    </picture>    <figcaption class=\"ld-caption\">FIGURA 5. a) Fracción de muertes con relación a la población total al 26 de marzo. Escalalogarítmica en el eje y. b) Número de muertes versus número de casos confirmados. Lalínea punteada superior corresponde a una relación de una muerte por cada diez casosconfirmados, mientras que la inferior a una cada 100. Escala logarítmica en ambos ejes.</figcaption>    </figure></div><h3 id=\"3-el-caso-de-china\">3) El caso de China</h3><p>Para hacer un primer análisis sobre las estrategias para combatir la propagación del virus en un grupo social, es relevante considerar el caso de China y sus diferentes provincias. La epidemia comienza en la provincia de Hubei, ubicada en la zona central de China. En la figura 6 se muestran las fracciones de casos confirmados y muertes con relación a la población para cada provincia china hasta el 26 de marzo. Es llamativa la enorme diferencia de valores entre las provincias chinas. Los valores para Hubei son más de un orden de magnitud superior que los del resto de las provincias chinas.</p><div class=\"inline-image-wrap article_body_image-BG\">  <figure class=\"principal\">    <picture class=\"materialboxed\">      <!--[if IE 9]><video style=\"display: none;\"><![endif]-->      <source srcset=\"/media/photologue/photos/cache/figura-6_1200w.jpg\" media=\"(min-width: 480px)\">      <source srcset=\"/media/photologue/photos/cache/figura-6_700w.jpg\" media=\"(min-width: 260px)\">      <source srcset=\"/media/photologue/photos/cache/figura-6_250w.jpg\" media=\"(min-width: 0px)\">      <!--[if IE 9]></video><![endif]-->      <img class=\"responsive-img landscape\"   data-caption=\"FIGURA 6. a) Fracción de casos confirmados en relación con la población para cada provinciachina al 27 de marzo. b) Fracción de muertes. Escala logarítmica en el eje y.\"   alt=\"FIGURA 6. a) Fracción de casos confirmados en relación con la población para cada provinciachina al 27 de marzo. b) Fracción de muertes. Escala logarítmica en el eje y.\" />    </picture>    <figcaption class=\"ld-caption\">FIGURA 6. a) Fracción de casos confirmados en relación con la población para cada provinciachina al 27 de marzo. b) Fracción de muertes. Escala logarítmica en el eje y.</figcaption>    </figure></div><p>Como se señaló, las autoridades chinas <strong><u>iniciaron</u></strong> el 23 de enero una estricta cuarentena, primero en la capital Wuhan, y luego extendida a toda la provincia de Hubei. Recién en estos últimos <strong><u>días</u></strong> se están levantando paulatinamente estas <strong><u>medidas</u></strong>. La extensión de la cuarentena por más de 50 <strong><u>días</u></strong> logró que el número de nuevos casos confirmados y muertes se redujera casi a cero. Estos números muestran la efectividad que tuvo esta medida para detener la propagación del virus en el resto del territorio chino, pero sus costos sociales y económicos son difíciles de conocer.</p><h3 id=\"4-la-modelizacion-esta-seccion-es-mas-tecnica-<strong><u>si</u></strong>-prefiere-pase-a-la-siguiente\">4) La modelización (esta sección es más técnica, <strong><u>si</u></strong> prefiere pase a la siguiente)</h3><p>En la modelización de la propagación de enfermedades infecciosas se han usado modelos matemáticos que consideran la interacción entre individuos de una cierta población. Uno de los modelos más usados fue el desarrollado por Kermack y McKendrick (1927), que divide la población en compartimentos: individuos susceptibles (S), infectados (I) y recuperados (R), por lo que se conoce como modelo SIR. Se establecen relaciones entre las variaciones de los diferentes compartimentos y se hace evolucionar el sistema variando diferentes parámetros. Estos parámetros se pueden ajustar con los datos disponibles y hacer una proyección de la evolución futura esperada.</p><p>Aquí hemos optado por trabajar directamente con las series temporales y ajustar las series más completas a funciones conocidas de uso en estudios poblacionales, como la función logística o su versión generalizada. La figura 7 muestra la expresión de la función logística generalizada.</p><div class=\"inline-image-wrap article_body_image-BG\">  <figure class=\"principal\">    <picture class=\"materialboxed\">      <!--[if IE 9]><video style=\"display: none;\"><![endif]-->      <source srcset=\"/media/photologue/photos/cache/figura-7_1200w.jpg\" media=\"(min-width: 480px)\">      <source srcset=\"/media/photologue/photos/cache/figura-7_700w.jpg\" media=\"(min-width: 260px)\">      <source srcset=\"/media/photologue/photos/cache/figura-7_250w.jpg\" media=\"(min-width: 0px)\">      <!--[if IE 9]></video><![endif]-->      <img class=\"responsive-img landscape\"   data-caption=\"FIGURA 7. Expresión de la función logística generalizada. y es el número cumulativo de casos, t es el tiempo, a, s, t0 y d son parámetros. En el inicio de la evolución la función logística se asemeja a un crecimiento exponencial hasta aproximadamente el tiempo t0 , y luego comienza el achatamiento hasta alcanzar el valor asintótico de casos igual a a.\"   alt=\"FIGURA 7. Expresión de la función logística generalizada. y es el número cumulativo de casos, t es el tiempo, a, s, t0 y d son parámetros. En el inicio de la evolución la función logística se asemeja a un crecimiento exponencial hasta aproximadamente el tiempo t0 , y luego comienza el achatamiento hasta alcanzar el valor asintótico de casos igual a a.\" />    </picture>    <figcaption class=\"ld-caption\">FIGURA 7. Expresión de la función logística generalizada. y es el número cumulativo de casos, t es el tiempo, a, s, t0 y d son parámetros. En el inicio de la evolución la función logística se asemeja a un crecimiento exponencial hasta aproximadamente el tiempo t0 , y luego comienza el achatamiento hasta alcanzar el valor asintótico de casos igual a a.</figcaption>    </figure></div><p>El único caso que nos permite hacer un buen ajuste a esta función logística generalizada, ya que prácticamente completa todas las etapas de la evolución, es el caso de Hubei. En la figura 8 se muestra un ajuste de la función logística generalizada al número cumulativo de muertes, y la derivada del ajuste junta el número de casos por día. De este ajuste se extraen los valores para los cuatro parámetros de la función (a, s, t0 , d).</p><div class=\"inline-image-wrap article_body_image-BG\">  <figure class=\"principal\">    <picture class=\"materialboxed\">      <!--[if IE 9]><video style=\"display: none;\"><![endif]-->      <source srcset=\"/media/photologue/photos/cache/figura-8_1200w.JPG\" media=\"(min-width: 480px)\">      <source srcset=\"/media/photologue/photos/cache/figura-8_700w.JPG\" media=\"(min-width: 260px)\">      <source srcset=\"/media/photologue/photos/cache/figura-8_250w.JPG\" media=\"(min-width: 0px)\">      <!--[if IE 9]></video><![endif]-->      <img class=\"responsive-img landscape\"   data-caption=\"Figura 8: a) Número cumulativo de muertes en Hubei y ajuste a función logística generalizada. Se muestra también la pendiente del ajuste lineal (en escala semilogarítmica) para los primeros <strong><u>días</u></strong>. b) Número de muertes por día y la derivada de la función logística generalizada. Escala logarítmica en el eje y.\"   alt=\"Figura 8: a) Número cumulativo de muertes en Hubei y ajuste a función logística generalizada. Se muestra también la pendiente del ajuste lineal (en escala semilogarítmica) para los primeros <strong><u>días</u></strong>. b) Número de muertes por día y la derivada de la función logística generalizada. Escala logarítmica en el eje y.\" />    </picture>    <figcaption class=\"ld-caption\">Figura 8: a) Número cumulativo de muertes en Hubei y ajuste a función logística generalizada. Se muestra también la pendiente del ajuste lineal (en escala semilogarítmica) para los primeros <strong><u>días</u></strong>. b) Número de muertes por día y la derivada de la función logística generalizada. Escala logarítmica en el eje y.</figcaption>    </figure></div><h3 id=\"5-las-estrategias\">5) Las estrategias</h3><p>Se pueden delinear varias estrategias que han seguido los países para el combate a la propagación del virus. En primera instancia tenemos la férrea cuarentena en Hubei por casi dos meses que logró controlar la primera oleada. Las consecuencias sociales y económicas de las restricciones draconianas sobre la libertad de expresión y el movimiento de personas aplicadas por las autoridades chinas en Hubei y el resto de China son desconocidas por el hermetismo con que se maneja la información en ese país. Para evitar el desarrollo de una segunda oleada de propagación del virus en territorio chino, sus autoridades están por imponer un estricto cierre de fronteras para extranjeros que quieran ingresar al país.</p><p>El modelo de combate de Corea del Sur fue diferente y se basa en las siguientes premisas: acción rápida, pruebas generalizadas, rastreo de contactos, <strong><u>aislamiento</u></strong> y vigilancia cercana de los casos infectados, y participación activa de los ciudadanos. Cabe preguntarse <strong><u>si</u></strong> ese modelo es transferible a otras sociedades con menos recursos y comportamientos sociales muy diferentes. No obstante, debemos ser cautos sobre el éxito final de esta estrategia, ya que <strong><u>si</u></strong> bien se enlenteció la curva de propagación, no se ha logrado hacer tender a cero en el número de nuevos contagios y el número de muertes por día sigue en un lento aumento.</p><p>Los casos de Italia y España son claramente los ejemplos a no seguir, por la reacción tardía y el bajo nivel de cumplimiento de las <strong><u>medidas</u></strong> de <strong><u>aislamiento</u></strong> social hasta etapas muy avanzadas de la propagación. Ello ha hecho que ambos países todavía estén en la fase exponencial luego de 30 <strong><u>días</u></strong> de iniciada la propagación y que tengan sólo leves indicios de achatamiento de las curvas.</p><p>Alemania es otro de los ejemplos exitosos, no tanto en detener la propagación del virus, ya que se mantiene en la fase exponencial con un nivel intermedio de casos confirmados sobre su población total, sino más bien por el éxito en mantener bajos niveles de mortandad respecto del número de infectados. En los países de nuestra región, es muy temprano, en cuanto al desarrollo de la epidemia, como para evaluar las diferentes estrategias que están siguiendo los distintos países.</p><h3 id=\"6-cuanto-tiempo\">6) ¿Cuánto tiempo?</h3><p>La proyección de la evolución futura en los casos se puede intentar hacer con los modelos matemáticos antes descriptos, pero los niveles de incertidumbre son muy grandes porque dependen de las acciones que se vayan desarrollando.</p><p>Algunos resultados a tomar en cuenta son los siguientes. El período de incubación de la Covid-19 tiene un rango de entre dos y 14 <strong><u>días</u></strong>, habiéndose detectado algún caso de hasta 27 <strong><u>días</u></strong> de incubación. El valor medio del período de incubación está entre tres y cinco <strong><u>días</u></strong>. El pico en el número de contagios y de muertes en Hubei se dio a los 40 y 45 <strong><u>días</u></strong> de comenzado el brote respectivamente, cero a los 20 y 25 <strong><u>días</u></strong> de haber decretado la cuarentena estricta. En Corea del Sur el pico se alcanzó a los 15 <strong><u>días</u></strong> del primer caso y luego se logró un aplanamiento. Pero en Italia ya van más de 30 <strong><u>días</u></strong> desde el inicio del brote, y 15 <strong><u>días</u></strong> desde el decreto de cuarentena global, y no se ha alcanzado aún el pico.</p><p><strong><u>Si</u></strong> la leve tendencia de apartamiento de la fase exponencial que se observa en Italia se mantiene, y usando los parámetros de la función logística generalizada que se ajustaron al caso de Hubei, se podría estimar que el número de muertes en Italia podría alcanzar un valor final superior a 20.000 (actualmente se han registrado 8.165 muertes). El pico máximo de número de muertes por día se estaría por alcanzar próximamente y no superaría los 800 casos.</p><p>Para los países de nuestra región es muy prematuro poder hacer una extrapolación, porque todavía estamos en la fase exponencial. <strong><u>Si</u></strong> se siguen las tendencias anteriores, y considerando la aplicación estricta de <strong><u>medidas</u></strong> de <strong><u>aislamiento</u></strong> social que tenuemente se <strong><u>iniciaron</u></strong> en Uruguay el 13 de marzo y llevan menos de dos semanas de aplicación, nos esperan del orden de diez a 20 <strong><u>días</u></strong> más con aumento en el número de casos confirmados por día, y recién entonces se podría esperar que comience un descenso.</p><p>Para poder continuar en la tendencia descendente se deberían mantener políticas de <strong><u>aislamiento</u></strong> por un tiempo equivalente a varios períodos de incubación. Eso, siempre y cuando no haya un cambio de comportamiento de nuestra sociedad que levante el <strong><u>aislamiento</u></strong> social y facilite la propagación del virus.</p><p>Un relajamiento de las <strong><u>medidas</u></strong> de <strong><u>aislamiento</u></strong> social al finalizar la semana de Turismo podría resultar prematuro para lograr frenar la propagación local, considerando que para esa fecha <strong><u>habrían</u></strong> transcurridos 31 <strong><u>días</u></strong> desde la aplicación de las primeras <strong><u>medidas</u></strong>. La diversidad de políticas sanitarias en los países limítrofes podría complicar aún más alcanzar el objetivo de controlar la propagación de la epidemia en la región. La evolución en el número de casos confirmados de los próximos <strong><u>días</u></strong> delineará las acciones a seguir. </p><p>El factor estacional podría afectar la evolución de la propagación del virus, ya que los países del hemisferio sur estamos próximos a entrar en la estación invernal donde hay un aumento de los enfermedades respiratorias. No obstante, la gran incógnita es la evolución futura de la pandemia en las distintas sociedades luego de esta primera oleada.</p><p><em>Gonzalo Tancredi es profesor titular del Departamento de Astronomía, Facultad de Ciencias, Universidad de la República. Es investigador grado 5 del PEDECIBA y Nivel II del Sistema Nacional de Investigadores (SNI).</em></p>    </div></body></html>"
      ],
      "text/plain": [
       "<IPython.core.display.HTML object>"
      ]
     },
     "metadata": {},
     "output_type": "display_data"
    },
    {
     "name": "stdout",
     "output_type": "stream",
     "text": [
      "__\n",
      "\n",
      "Score: 9.24989\n"
     ]
    },
    {
     "data": {
      "text/html": [
       "<!DOCTYPE html><html lang=\"es-uy\"><head>  <meta http-equiv=\"Content-Type\" content=\"text/html; charset=utf-8\"/>  <title>Falleció la primera persona por coronavirus en Uruguay</title></head><body>  <div class=\"article-header\">    <h1 class=\"article-title after_foto\">  Falleció la primera persona por coronavirus en Uruguay      </h1>      <div class=\"article-date-author\">    <span class=\"date small\"><time datetime=\"2020-03-28T21:14:45\">28 De Marzo De 2020</time> | </span>    <span class=\"small\">      <a href=\"https://ladiaria.com.uy/seccion/coronavirus/\">Coronavirus</a>  </span>    <span class=\"small\">| Foto:Ernesto Ryan</span>    </div>    </div>    <div class=\"article-body paywalled-content\">      <p><strong><u>Después</u></strong> de que finalizara la conferencia diaria del gobierno, el secretario de la Presidencia, Álvaro Delgado, volvió a salir al encuentro de los micrófonos. Con gesto adusto y claramente angustiado, informó que se produjo en Uruguay el primer fallecimiento por Covid-19, la enfermedad que genera el nuevo coronavirus. </p><p>Delgado indicó que se trata de Rodolfo González Risotto, quien tenía 71 años. González Risotto ocupó distintos cargos durante el gobierno de Luis Alberto Lacalle (1990-1995) y <strong><u>después</u></strong> fue ministro de la Corte Electoral hasta el año 2010 en representación del Partido Nacional. </p><p>El secretario de Presidencia contó que en estos últimos <strong><u>días</u></strong> González Risotto le había mandado un mensaje para brindarle aliento. Allí le transmitía un “mensaje de esperanza” y recordaba que “la humanidad ha sabido superar gravísimas pandemias en el <strong><u>pasado</u></strong>”.</p><p>González Risotto estaba internado en la Asociación Española y era una de las nueve personas que estaba internada en CTI por la Covid-19. </p><p><strong><u>Después</u></strong> de que se conociera la noticia el presidente de la República, Luis Lacalle Pou, envió sus condolencias a la familia.</p><div class=\"extension extension-R\" style=\"background:#ffffff;\">    <div class=\"extension__body\"><div align=\"center\"><blockquote class=\"twitter-tweet\"><p lang=\"es\" dir=\"ltr\">Un fuerte abrazo para la familia y amigos de Rodolfo González Risotto. Amigo y consejero. QEPD.</p>&mdash; Luis Lacalle Pou (@LuisLacallePou) <a href=\"https://twitter.com/LuisLacallePou/status/1244055222349070344?ref_src=twsrc%5Etfw\">March 29, 2020</a></blockquote> <script async src=\"https://platform.twitter.com/widgets.js\" charset=\"utf-8\"></script></div>    </div><p></div>En la conferencia previa, Delgado indicó que Uruguay alcanzó los 304 casos positivos por el nuevo coronavirus, tras registrarse 30 nuevos casos en los últimos 372 test de diagnóstico aplicados.</p><h3 id=\"las-nuevas-<strong><u>medidas</u></strong>-para-la-semana-de-turismo-y-la-violencia-de-genero\">Las nuevas <strong><u>medidas</u></strong> para la Semana de Turismo y la violencia de género</h3><p>“Se viene una semana especial” en la que “hay hábitos que conspiran contra lo que queremos”, que es evitar a aglomeración de gente, dijo Delgado, que adelantó que se emitirá un decreto para cerrar los campings públicos y se exhortará a los privados a hacer lo mismo.  </p><p><a href=\"https://feminismos.ladiaria.com.uy/articulo/2020/3/alerta-feminista-en-cuarentena-llaman-a-caceroleo-para-denunciar-los-cuatro-femicidios-cometidos-en-los-ultimos-<strong><u>dias</u></strong>/\">El aumento de los casos de violencia de género</a> desde que se empezó a exhortar por el <strong><u>aislamiento</u></strong> social ha sido denunciado en los últimos <strong><u>días</u></strong> por varios colectivos feministas, que <a href=\"https://feminismos.ladiaria.com.uy/articulo/2020/3/intersocial-feminista-exige-al-gobierno-acciones-urgentes-para-proteger-a-mujeres-e-infancias-en-situacion-de-violencia/\">han reclamado <strong><u>medidas</u></strong></a>. La semana pasada el presidente, Luis Lacalle Pou, tuvo unas palabras al respecto que <a href=\"https://feminismos.ladiaria.com.uy/articulo/2020/3/feministas-reaccionan-ante-dichos-de-lacalle-pou-que-califican-los-femicidios-como-un-efecto-colateral-del-<strong><u>aislamiento</u></strong>-social-por-el-coronavirus/\">fueron criticadas por estos colectivos</a>. Sin embargo, Delgado opinó que es “un tema que no está en la agenda” y que el gobierno <strong><u>sí</u></strong> quiere que esté, antes de dar la palabra a la presidenta del Instituto Nacional de las Mujeres (Inmujeres), Mónica Bottero, para que anunciara algunas <strong><u>medidas</u></strong>.</p><p>Bottero anunció que, en acuerdo con la vicepresidenta Beatriz Argimón, se decidió llamar al Consejo Consultivo, compuesto por 14 organismos del Estado y organizaciones sociales, para tomar <strong><u>medidas</u></strong> tendientes a atender a las personas que son víctimas de violencia. Se han registrado “aumentos dramáticos” de violencia intrafamiliar en los países que han “transitado la emergencia antes de nosotros”. “Sabemos que una convivencia tan intensa lleva a poner en riesgo la vida de mujeres y menores”, aseguró. </p><p>Una de las <strong><u>medidas</u></strong> que se tomó fue reforzar los teléfonos de apoyo 0800 41 41 (o * 4141 por celular), Bottero llamó a que las personas bajen aplicación de 911 porque en esta hay un botón de pánico al que se puede recurrir en caso de pasar por una situación de violencia. También dijo que se puede llamar el 911 o hacer la denuncia a través de <a href=\"https://denuncia.minterior.gub.uy/\">https://denuncia.minterior.gub.uy/</a>.</p><p>La presidenta de Inmujeres anunció, además, que se está trabajando en un protocolo junto al Ministerio de Salud Pública para que los equipos de salud puedan detectar situaciones de violencia de género. También se está trabajando junto a la División de Violencia de Género del Ministerio del Interior para que el 911 tenga disponibilidad para responder llamados de auxilio.</p><p>Por otra parte, con el Ministerio de Educación y Cultura se acordó disponer un modo de comunicación para pedir auxilio a través de las ceibalitas. Bottero dijo, además, que se puso en contacto con la Suprema Corte de Justicia para verificar las fechas de caducidad de las <strong><u>medidas</u></strong> cautelares de las personas denunciadas por violencia de género.</p>    </div></body></html>"
      ],
      "text/plain": [
       "<IPython.core.display.HTML object>"
      ]
     },
     "metadata": {},
     "output_type": "display_data"
    },
    {
     "name": "stdout",
     "output_type": "stream",
     "text": [
      "__\n",
      "\n",
      "Score: 9.0345\n"
     ]
    },
    {
     "data": {
      "text/html": [
       "<!DOCTYPE html><html lang=\"es-uy\"><head>  <meta http-equiv=\"Content-Type\" content=\"text/html; charset=utf-8\"/>  <title>Los que no hemos vivido de verdad: una historia punk retro rural</title></head><body>  <div class=\"article-header\">    <h1 class=\"article-title after_foto\">  Los que no hemos vivido de verdad: una historia punk retro rural      </h1>      <div class=\"article-date-author\">    <span class=\"date small\"><time datetime=\"2019-10-05T15:52:05\">5 De Octubre De 2019</time> | </span>      Escribe:  <span class=\"small\"><a href=\"https://ladiaria.com.uy/periodista/82/\">    Pedro Peña</a></span> <span class=\"small\">en </span>    <span class=\"small\">      <a href=\"https://ladiaria.com.uy/seccion/ficcion/\">Ficción</a>  </span>  </div>    </div>    <div class=\"article-body paywalled-content\">      <p><strong>En 2018, Pedro Peña ganó el Premio Nacional de Literatura del Ministerio de Educación y Cultura en la categoría literatura infantil y juvenil por <em>El libro de los mitos - Historias del lago</em>, una saga que siguió agregando volúmenes y que tiene cierto parentesco con un cuento, “Los bosques”, que publicamos en febrero de 2016. Antes había escrito la novela de fantasía <em>Eldor</em>, así como varios relatos policiales. Uno de ellos, <em>La noche que no se repite</em>, se volvió película multipremiada en 2018. Cuenta Pedro: “En un festival de novela negra de hace un par de años, los directores de <em>La noche que no se repite</em>, Manuel Berriel y Aparicio García, y yo charlábamos ante un auditorio acerca de cómo había sido realizar la adaptación de la novela al cine. Treinta <strong><u>días</u></strong> de filmación, muchos actores y actrices en papeles significativos, escenas con animales (una araña, gansos, un perro atacando a un hombre), cerca de 20 técnicos y algo más de 100 extras en algunos casos, todo hecho con tres pesos y mucho corazón. Fue en ese contexto que Aparicio acuñó la idea de esa película como la manifestación de un híbrido: lo punk retro rural. Creo que este cuento puede perfectamente ceñirse a esa categoría tan incierta. Comparte, además, la misma localización de la novela, aunque no el mismo tiempo, ya que <em>La noche de los mitos - Historias del lago</em> fue escrita en 2008”. En el momento en que Aparicio planteó eso, aún faltaban varios meses para que saliera la película a los cines.</strong></p><p><em>Para el Apa García</em></p><p>Recuerdo muy claro un momento particular de mi vida en el liceo. La profesora de Literatura nos habló acerca del canto tercero de <em>La divina comedia</em> y de los indiferentes, los que no habían tomado partido nunca por nada, los que no habían vivido de verdad. En su eterno castigo corrían a la orilla del Aqueronte tras una bandera mientras eran aguijoneados por avispas y moscones, y su sangre, esa que nunca habían vertido por ninguna causa, era bebida por gusanos a sus pies. Aquella imagen fue casi lo único que me quedó de tanto libro y tanta fotocopia. Y hacia allí volvió mi pensamiento cuando, hace una semana, el doctor me explicó el resultado de mis estudios.</p><p>—Pueden ser dos meses, cuatro meses, capaz que un año <strong><u>si</u></strong> tenés suerte. Con el páncreas no se sabe nunca. Te voy a coordinar la primera para dentro de diez <strong><u>días</u></strong>.</p><p>Fui a comprar la Beretta nueve milímetros a la ferretería Durán. Debí llenar un formulario y mostrar los papeles del curso que había hecho en el batallón hacía más de diez años. El viejo Durán me hizo subir a su escritorio y me agité un poco. Me dijo que podía perfectamente venderme el arma, pues los papeles estaban bien, pero que acostumbraba hacer el negocio él mismo. En el futuro lo harían sus empleados, pero todavía les faltaba. Fue directo al grano y me preguntó <strong><u>si</u></strong> iba a utilizarla para algún otro asunto que no fuera la defensa propia.</p><p>—No voy a matarme —dije.</p><p>—Bien… usted comprenderá… Según tengo entendido, uno de sus hijos ya está bastante crecido, pero el otro todavía es chico.</p><p>La charla me desenfocó de tal forma que olvidé comprar las balas. Cuando me di cuenta ya me había alejado varias cuadras y no quería volver. Tampoco había apuro, pensé.</p><p>Ahora que ya tenía la pistola sólo podía pensar en mi abuelo. No el paterno, que se había ahorcado en su casa del centro hacía añares, sino el materno, que había tenido una escopeta dieciséis con la que me había enseñado a disparar en los campos de Tranqueras Coloradas.</p><p>Mi abuelo decía que en el campo eran necesarias las armas, pero con criterio. Disparar un arma no podía ser un impulso, algo que no se pensara. Por eso era mejor tenerla a resguardo y lejos de la caja con los cartuchos.</p><p>—Uno piensa por primera vez cuando va a buscar el arma. Piensa por segunda vez cuando va a buscar las balas. Piensa por tercera vez cuando va a cargarla. Y luego piensa de nuevo cuando dispara —repetía.</p><p>Había aprendido aquello de su amigo y mentor, el Viejo Pancho, un hombre que había matado a otro a cuchillo limpio a fines de los sesenta. La anécdota, simple como es, bien vale la pena una digresión. Todo había comenzado en el baile de Ferrou, por la ruta cuarenta y cinco, a la salida de Mundo Azul. Francisco Pérez —así era su nombre, <strong><u>después</u></strong> de todo— tomaba grapa con unos troperos que volvían de La Tablada. La lengua se le soltó de pronto y empezó a hablar de una señorita de aquel paraje sin nombrarla. La conocía bien, dijo. De cuando en cuando habían estado aquí y allá haciendo esto y aquello.</p><p><strong><u>Si</u></strong> bien el nombre de la señorita no apareció en su discurso, y aquello podría tomarse como una honorable muestra de recato, se contaba entre los presentes —sin que lo hubiese advertido el indiscreto— uno de los hermanos de la aludida. Se trataba del Chueco Vicente, un hombre mucho más joven que el Viejo Pancho. El resto de la historia ya la imaginarán ustedes. El Chueco lo esperó en la entrada del rancherío de los Pérez. Cuando el viejo iba a recostarse al poste para abrir la tranquera, salió de la nada con un revólver. Más tarde cundió la suposición de que el arma no estaba amartillada. El tiro no salió y el Viejo Pancho lo ensartó en el pecho y lo tiró a la zanja. <strong><u>Después</u></strong> volvió a lo de Ferrou y pidió que lo llevaran a la comisaría de Rodríguez.</p><p>Ese hombre, antes o <strong><u>después</u></strong> de haber matado a otro, fue el que le enseñó a mi abuelo que para disparar primero hay que pensar.</p><p>Hasta hace poco siempre había tenido miedo de morirme. Supongo que la pulsión de muerte me ha acompañado más de la cuenta, hasta volverse una obsesión. Pero… ¿por qué no se mueren otros en vez de morirme yo?</p><p>Uno asocia esto que me pasa a mí con la mala vida. Te preguntan <strong><u>si</u></strong> tomabas o fumabas, qué tipo de trabajo tenías, qué aire respirabas. Y lo hacen con la única intención de sentirse seguros ellos mismos. <strong><u>Si</u></strong> hay una construcción lógica que los preserve, ya asumen que todo funciona como debe ser y chau. Por eso cuando, como en mi caso, no hay nada parecido a la mala vida, todo es intranquilizador. Hasta acá giró la rueda y punto. No hay nada parecido a la justicia en esto. Aunque parezca extraño, ya no me apena. Deberíamos visualizar los ciclos vitales con cierta perspectiva. Dentro de veinte años, ¿<strong><u>cuántos</u></strong> de nosotros estaremos aún vivos? Yo ya sé que no. Pero ¿usted? ¿Qué chances hay de que para ese entonces esté pisando y respirando en el mundo? ¿Y en cincuenta años? Usted, yo y probablemente la mayoría de las personas que conocemos habremos muerto. ¿Y <strong><u>si</u></strong> pensáramos en doscientos años? No seremos más que un montón de polvo sobre algunos huesos desperdigados en algún campo ancestral.</p><p>Vi la noticia en el portal <em>San José Ahora</em>. Sin dar más que las iniciales —es un pueblo chico y nos conocemos todos—, el diario narraba los sucesos con detalle: le habían cortado la cabeza a una persona. Luego la habían puesto en una bolsa negra junto a los miembros y el tronco. En la misma tarde otros dos cuerpos habían aparecido calcinados en un auto. Todo había sido obra de una banda en su afán de liquidar a la otra. Ahora toda la transa quedaría en manos de una sola. Todo más prolijo y controlable, incluso para las autoridades, que toleran muy bien una, pero ya se complican cuando hay dos.</p><p>El diario concluía con una probable localización de la banda triunfadora: “Las inmediaciones del molino y el INVE 2, en calle Chucarro”, una calle oscurísima llena de casas de bloques techadas con latas, cartones y un largo etcétera de fragilidades. Un lugar aborrecible para una persona que, como yo, siempre ha vivido en el centro. Casualmente, en la casa en la que mi abuelo paterno se ahorcó.</p><p>Reformulo la pregunta: ¿por qué no se mueren tantos hijos de puta que hay por el mundo y me vengo a morir yo?</p><p>A las seis de la tarde estaba sentado en el auto, pensando en cómo iba a utilizar la pistola que había en mi mano. Mi abuelo, y también el Viejo Pancho, se <strong><u>habrían</u></strong> congratulado de que siguiera sus ejemplos. No tenía miedo. Iba a morir.</p><p>Toqué el timbre de la casa a las seis con cero cinco de la mañana. Era la hora en la que podían estar todos, familiares y allegados. El Mosca abrió la puerta y me observó unos segundos.</p><p>—¿Quién sos?</p><p>No alcanzó a percatarse del tiro en el pecho, la vida lo abandonó antes.</p><p>Parece una pavada, pero fue en ese momento cuando me di cuenta de que tenía que haber comprado un silenciador. ¡Cualquiera que haya visto una película de asesinos de verdad sabe lo útiles que son los silenciadores!</p><p>El balazo se había escuchado por toda la casa y de inmediato hubo ajetreo en las habitaciones que daban al largo y oscuro pasillo. Una mujer emergió de entre unas cortinas y le disparé a la cabeza. Cayó inmóvil.</p><p>Tras las cortinas había un hombre desnudo tirado en una cama. Quiso levantarse de apuro. Disparé por tercera vez y un grueso chorro de sangre explotó en su cuello.</p><p>Fue entonces cuando apareció el perro, uno de esos fila de los que usaban los esclavistas brasileros para que castraran con su mordida a los negros escapados de los cafetales. Afortunadamente, pude ofrecerle la rodilla antes de que él mismo eligiera cualquier otra parte.</p><p>Hubo un disparo a mis espaldas. Tuve el reflejo de agacharme, aunque tarde. <strong><u>Si</u></strong> la persona hubiera sido diestra en el manejo del arma, no contaba el cuento. Le disparé al perro en la cruz y sus dientes dejaron de apretar. Recién entonces sentí el dolor en la pierna. Me refugié tras una mesada y estudié la situación. Alguien corría afuera. Detrás de otra cortina que daba hacia un patio interior apareció un gurí con un revólver humeante.</p><p>Yo tengo hijos, como usted sabe. <strong><u>Si</u></strong> aquel muchacho quedaba vivo, sería cuestión de tiempo para que fuera por ellos. Eso no podía pasar. Así que ya se imaginará lo que sucedió.</p><p>No me enorgullezco de nada.</p><p>Los estampidos se habían escuchado en todo el barrio del molino, pero supongo que habrá parecido algo normal. Me senté a esperar en la mesa de la cocina. Aún tenían que llegar el Peca y el Pantufla. Los había observado discretamente durante cinco <strong><u>días</u></strong>, y la regularidad era asombrosa. Sabía que llegarían sobre las seis y media, enseguida de recoger el paquete debajo del puente, un paquete lanzado desde algún camión o alguna camioneta. Tal vez regresaran a la casa familiar con esa hermosa sensación de haber cumplido la tarea por el bien de todos.</p><p>El cuerpo del Mosca no permitió que el Peca abriera la puerta en el primer movimiento. Tuvo que empujarla. Al entrar, lo recibió otra bala.</p><p>El Pantufla se había entretenido en el auto, un auto espantoso, ni viejo ni nuevo, repintado de anaranjado y con unos parlantes aborrecibles a todo volumen. Tenía ínfulas de auto deportivo. <strong><u>Si</u></strong> hubiera tenido vida, con gusto lo habría matado antes que a su dueño.</p><p>—¿Quién sos vos? —preguntó espantado cuando me vio correr hacia él con la Beretta en la mano.</p><p>Otro más que se quedó sin respuesta.</p><p>Y ahora, como no me morí, aquí me tiene. Igual que hizo el Viejo Pancho <strong><u>después</u></strong> de matar al Chueco Vicente.</p><p>Moriré pronto.</p><p>Sólo espero haber eludido el castigo de los indiferentes.</p>    </div></body></html>"
      ],
      "text/plain": [
       "<IPython.core.display.HTML object>"
      ]
     },
     "metadata": {},
     "output_type": "display_data"
    },
    {
     "name": "stdout",
     "output_type": "stream",
     "text": [
      "__\n",
      "\n",
      "Score: 8.0709305\n"
     ]
    },
    {
     "data": {
      "text/html": [
       "<!DOCTYPE html><html lang=\"es-uy\"><head>  <meta http-equiv=\"Content-Type\" content=\"text/html; charset=utf-8\"/>  <title>Mieres anunció régimen de “flexibilidad” en seguros de paro para sectores afectados</title></head><body>  <div class=\"article-header\">    <h1 class=\"article-title after_foto\">  Mieres anunció régimen de “flexibilidad” en seguros de paro para sectores afectados      </h1>      <div class=\"article-date-author\">    <span class=\"date small\"><time datetime=\"2020-03-18T12:24:35\">18 De Marzo De 2020</time> | </span>    <span class=\"small\">      <a href=\"https://ladiaria.com.uy/seccion/politicas-de-empleo/\">Políticas de empleo</a>  </span>    <span class=\"small\">| Foto:Federico Gutiérrez</span>    </div>    </div>    <div class=\"article-body paywalled-content\">      <p>El ministro de Trabajo y Seguridad Social, Pablo Mieres, anunció hoy que a partir de hoy regirá un régimen de “flexibilidad” para que las empresas puedan enviar a sus trabajadores a seguro de paro, tanto de forma parcial como por períodos acotados.</p><p>Tras reunirse con el presidente Luis Lacalle Pou, el jerarca sostuvo que esto regirá para los sectores más afectados por las <strong><u>medidas</u></strong> que se tomaron para frenar el avance del coronavirus: comercios, comercios minoristas, servicios turísticos, agencias de viajes y restaurantes.</p><p>Una posibilidad, dijo Mieres, es que las empresas manden a los trabajadores a un seguro de paro “parcial”: es decir, que se establezca una reducción horaria para los empleados, y el resto del salario lo cubra el Banco de Previsión Social. La otra variante es que el seguro de paro podrá utilizarse por períodos menores a un mes.  </p><p>El ministro explicó que aún no se tienen datos a nivel nacional de <strong><u>cuántos</u></strong> empleos podrían perderse o <strong><u>cuántos</u></strong> trabajadores podrían ser enviados al seguro de paro, pero explicó que la situación laboral ya venía mermando desde antes de que se implementaran las <strong><u>medidas</u></strong> contra el coronavirus, con algo más de 40.000 trabajadores en seguro de paro en enero.  </p><p>Finalmente, añadió que el gobierno todavía no decidió <strong><u>si</u></strong> postergará el inicio de las primeras negociaciones por los Consejos de Salarios.</p>    </div></body></html>"
      ],
      "text/plain": [
       "<IPython.core.display.HTML object>"
      ]
     },
     "metadata": {},
     "output_type": "display_data"
    },
    {
     "name": "stdout",
     "output_type": "stream",
     "text": [
      "__\n",
      "\n",
      "Score: 8.046806\n"
     ]
    },
    {
     "data": {
      "text/html": [
       "<!DOCTYPE html><html lang=\"es-uy\"><head>  <meta http-equiv=\"Content-Type\" content=\"text/html; charset=utf-8\"/>  <title>Sobre virus y política</title></head><body>  <div class=\"article-header\">    <h1 class=\"article-title after_foto\">  Sobre virus y política      </h1>      <div class=\"article-date-author\">    <span class=\"date small\"><time datetime=\"2020-03-27T01:19:06\">27 De Marzo De 2020</time> | </span>      Escribe:  <span class=\"small\"><a href=\"https://ladiaria.com.uy/periodista/jose-stagnaro/\">    José Stagnaro</a></span> <span class=\"small\">en </span>    <span class=\"small\">      <a href=\"https://ladiaria.com.uy/seccion/en-uruguay/\">En Uruguay</a>  </span>  </div>    </div>    <div class=\"article-body paywalled-content\">      <p>El miedo que nos ocupa –y que ocupa el proceso del <a href=\"https://ladiaria.com.uy/seccion/coronavirus/\">coronavirus</a>– es el miedo a la enfermedad; un miedo muy parecido al de la “inseguridad”, en tanto afecta mi integridad personal, corporal, asunto no compartible con otros activamente, más allá de pertenecer al mismo conjunto de individuos “afectados”. Es un miedo que avanza fácilmente sobre las escasas defensas de quienes ya han perdido contención social o comunitaria: algo que, por cierto, ha venido generalizándose a medida que avanzaron las pautas de vida neoliberales pos Ronald Reagan y Margaret Thatcher. Amparo Menéndez Carrión, en su libro <em>Memorias de ciudadanía. Avatares de una polis golpeada. La experiencia uruguaya</em> (Montevideo, 2015), ha dado cuenta de ese largo proceso con la pérdida de buena parte de la vida pública que caracterizó a nuestro país hasta la dictadura. Ella advierte, sin embargo, que estamos, a fin de cuentas, en un “interregno” (un espacio de indefinición) que aún no decide <strong><u>si</u></strong> prevalecerán los largos aprendizajes solidarios y de alta productividad pública que nos caracterizaron como sociedad, o se impondrían a rajatabla las pautas neoliberales del “sálvese quien pueda”.</p><p>Son muchos los uruguayos y los ciudadanos más pobres del mundo que –de pronto sin quererlo, a fuerza de luchar por el sustento mientras se extinguía buena parte de los espacios sociales que los contenían– han hecho un repliegue de su vida social puertas adentro y se comprenden como individuos (o núcleos familiares) amenazados, débiles, acaso haciendo un esfuerzo sobrehumano para afrontar las altas exigencias de productividad, competitividad y “total compromiso” que exigen los nuevos parámetros de trabajo superexplotador que caracteriza nuestro presente. Esa flagrante debilidad contrastaría –haciendo valer ese interregno– con quienes aún llevan adelante una vida socialmente más rica y comunitaria y no han dado por perdida la batalla en el debate público sobre cómo debemos vivir, qué tenemos que cuidar, qué “nosotros” hay aún para sostener más allá de mi casa y mi familia. Parecería, siguiendo ese razonamiento, que son estos y no aquellos quienes están en mejores condiciones de afrontar problemas como la seguridad y la enfermedad; contarían con los “anticuerpos” adecuados, obviamente no para evitar el robo o el contagio de un virus, sino para no ser fácilmente atrapados por el miedo, la impotencia y la desesperanza. Frases como “nadie vendrá a ayudarte” y “cada uno piensa sólo en <strong><u>sí</u></strong> mismo” son expresiones reiteradas de la claudicación de la política, que sólo alimenta el horrendo círculo de sufrimiento-reclusión que caracteriza nuestras formas de vivir. Claro, tienen su contraparte (que acaso produzca más culpa que otra cosa) en el imaginario épico dominante: en las series de Netflix y las películas de Hollywood donde el héroe finalmente sale indemne sin ayuda y sólo a esfuerzo personal. Pero los pueblos también cuentan con otros insumos, acaso más tangibles porque brotaron de su experiencia. Y en ese sentido, muchos sabemos que no significa algo menor –sino determinante– creer en soluciones solidarias, en la vida pública, en la política y, finalmente, en cierta esperanza en un mundo mejor. Es allí, y no en el héroe aislado que nos quieren vender, donde están nuestros mejores recursos para hacer frente al miedo, al completo <strong><u>aislamiento</u></strong>, y, a partir de allí, colaborar en la creación de los caminos de salida que –hoy más que nunca– necesitamos.</p><p>Pero acaso –o seguramente– no sean dos “bandos” de uruguayos o ciudadanos del mundo que se ubican a uno u otro lado de esa distinción, sino una alternancia algo más compleja: ambas formas de comprender las cosas atraviesan nuestros propias vidas y pasamos –la mayor parte de las veces, de forma impensada– de un lado a otro. Eso se ve claramente cuando gobernantes que nunca <strong><u>habrían</u></strong> apelado a la solidaridad comunitaria hoy se ven forzados a hacerlo y pensar, sinceramente, que sin ella no habría salida. <strong><u>Si</u></strong> uno analiza el discurso de asunción del flamante presidente, en el que abundó sobre “libertades”, no aparece allí ninguna referencia a la solidaridad, la responsabilidad social o comunitaria. A eso deberíamos agregar, y vaya como una “autocrítica” aún pendiente de realizarse, que buena parte de la izquierda uruguaya también apeló –durante los últimos años– a la competitividad, a la eficiencia, al emprendedurismo y al pensamiento computacional, mucho más que a la solidaridad, a la sustentabilidad ecológica, al trabajo colectivo y al pensamiento crítico.</p><p>Resulta curioso que los propios discursos gobernantes, finalmente, también expresen esa tradición uruguaya que se niega a ser derrotada: nos enteramos del inmenso valor que tienen buena parte de las empresas públicas (hasta hace poco amenazadas justamente por su carácter público y el imperativo de achicar el Estado) cuando Antel otorga el soporte básico para la nueva aplicación de atención médica, o cuando la Universidad de la República aporta lo necesario para crear los test para diagnosticar el virus; también nos enteramos de que organismos tan denostados como el Ministerio de Desarrollo Social resultan eficaces para asistir al creciente número de personas que pronto no tendrán qué comer. Todo eso es, a fin de cuentas, imprescindible para enfrentar la pandemia. La pregunta se contesta sola: ¿qué sería de nosotros <strong><u>si</u></strong> la institucionalidad que hoy mejor nos protege hubiera cedido totalmente a la privatización y el lucro, empezando por el sistema de salud, al que las políticas neoliberales nunca hubieran adjudicado más que los magros presupuestos que por años tuvieron los hospitales públicos? Y no es que estemos simplemente defendiendo los gobiernos progresistas: estamos defendiendo lo que buena parte del pueblo uruguayo nunca se cansó de defender en plebiscitos, movilizaciones y reclamos para proteger lo público contra el avance inexorable de lo privado, que tan glamorosa y de “última generación” ha vestido los discursos de los partidos tradicionales. A pesar de las modas y la inevitabilidad que quisieron imprimirle los seguidores de nuestra más rancia derecha, hay pueblo que sabe que allí, en lo público, siempre tendrá algo para decir, algo que exigir, que nunca tendrá ante las puertas cerradas de la propiedad privada.</p><p>El gobierno, claro, se encarga de decir que esto forma parte de un gigantesco esfuerzo público-privado. Y en parte tiene razón. Llegado un temor que nos amenaza “a todos por igual”, creo sinceramente que también todos, casi naturalmente, queremos políticas “para todos igual”. El propio liberalismo –claro que no el de Friedrich von Hayek o la escuela de Chicago–, sino el de un pensamiento bastante más sensible a las pérdidas sociales de los más débiles (como, por ejemplo, el de John Rawls), llegó a comprender que la igualdad depende de aplicar un criterio (bastante difícil de poner en funcionamiento por quienes tienen mayor riqueza y poder): un trato desigual que contemple la desigualdad inicial. Y allí entonces <strong><u>sí</u></strong> que aparecen problemas para este gobierno: las <strong><u>medidas</u></strong> de atención a los más necesitados que acaba de anunciar resultan tan débiles que nadie cree, sinceramente, que paliarán las enormes pérdidas de empleo e ingresos de buena parte de la fuerza laboral en suspenso. Algo que se agravará trágicamente pasados los períodos de seguro de paro (que en pocos <strong><u>días</u></strong> ha duplicado a sus beneficiarios) <strong><u>si</u></strong> aún no hay soluciones a la pandemia (algo por demás probable). Parecería que será imposible avanzar en la previsión y solución de los graves problemas que se avecinan sin criterios solidarios, sin empresas y organismos públicos que atiendan la catástrofe y –sobre todo– sin nuevas políticas fiscales que redistribuyan el ingreso, atentas a la máxima de que quienes más tienen paguen más los efectos de la enfermedad.</p><p>Es que la enfermedad ya nos trata a todos como iguales. Creo que, paradójicamente, los ricos deberían exigirlo. Por el bien de su propia salud. Más allá de las salas VIP, los seguros suntuosos, las pretensiones genéticas de vencer la vejez y tanto absurdo que ellos mismos han llevado adelante, descuidando la atención de los más pobres, una salud para todos se impone con fuerza parecida a una bofetada. Así como la tierra, el agua o el aire que respiramos, la salud humana y animal (porque el origen del virus está en la ceguera de aislar una de otra) se imponen por <strong><u>sí</u></strong> y ante <strong><u>sí</u></strong>, casi que sin exigir más discurso que el que sus fuerzas descontroladas nos dictan. Hoy, y en virtud de los peligros que nos acechan, nadie debería tener la suficiente libertad (sólo libertad para algunos, señor presidente) de apropiarse de tales bienes dejando a tantos sin su usufructo.</p><p>Y para muestra sobra un botón. ¿Qué ha <strong><u>pasado</u></strong> en un país como Italia, la nación que ha batido récords en muertes por la enfermedad y que hoy es un espejo en el que ninguna nación quisiera mirarse por, justamente, haber apostado a desarrollar una salud para ricos, bien prendidos los motores de la excelencia, la competitividad, el máximo lucro, etcétera, etcétera, y sin dudas produciendo exorbitantes ingresos para elites médicas y empresariales? Transcribo, a continuación, unos datos aportados por el sitio <a href=\"http://quotidianosanita.it\">quotidianosanita.it</a>, a su vez citados por el filósofo italiano Franco Bifo Berardi en un reciente artículo titulado “Crónica de la psicodeflación”: “En 2007 el Servicio Sanitario Nacional público podía contar con 334 departamentos de emergencia-urgencia (DEA) y 530 de primeros auxilios. Pues bien, diez años <strong><u>después</u></strong> la dieta ha sido drástica: 49 DEA fueron cerrados (-14%) y 116 primeros auxilios ya no existen (-22%). Pero el recorte más evidente está en las ambulancias, tanto las del Tipo A (emergencia) como las del Tipo B (transporte sanitario). En 2017 tenemos que las de Tipo A fueron reducidas 4% en comparación con diez años antes, mientras que las de Tipo B fueron reducidas a la mitad (-52%). También es para tener en cuenta cómo han disminuido drásticamente las ambulancias con médico a bordo: en 2007 el médico estaba presente en 22% de los vehículos, mientras que en 2017 sólo en 14,7%. Las unidades móviles de reanimación también se redujeron en 37% (eran 329 en 2007, son 205 en 2017). El ajuste también ha afectado a los hogares de ancianos privados, que, en cualquier caso, tienen muchas menos estructuras y ambulancias que los hospitales públicos [...] A partir de los datos se puede ver cómo ha habido una contracción progresiva de las camas a escala nacional, mucho más evidente y relevante en el número de camas públicas en comparación con la proporción de camas administradas de forma privada: el recorte de 32.717 camas totales en siete años remite principalmente al servicio público, con 28.832 camas menos que en 2010 (-16,2%), en comparación con 4.335 camas menos que el servicio privado (-6,3%)”.</p><p>La batalla contra el virus ya, antes de comenzar en los hospitales o en las calles, implica también una batalla contra el miedo que sentimos como seres aislados y la anulación de la política. Por eso la inmediatez notera del <em>thriller</em> televisivo, el testimonio “directo” de las redes sociales y el obsceno conteo diario de muertos deben ceder a la reflexión y el debate público: sólo superamos el nivel de la mera corporeidad –la imbecilidad, según Aristóteles– cuando nos volvemos seres políticos. En ese sentido, y ya de cara a la realidad uruguaya –creo, bastante mejor que la italiana– somos conscientes de que, en buena medida, nuestros derechos han podido ser vulnerados toda vez que los sistemas educativos y de salud se han mercantilizado; cuando, por ejemplo, se aceptaban las voraces reivindicaciones de las asociaciones anestésico-quirúrgicas, o cuando debemos aceptar sin chistar pagar miles de dólares por una cirugía de primer nivel porque el pago de 40 años seguidos del seguro mutual sólo nos cubre una opción claramente obsoleta. Sin embargo, como seres políticos y activos en lucha por nuestros derechos, sabemos –a pesar de los pesares– que hemos podido defender en Uruguay uno de los sistemas de salud mejor preparados para soportar emergencias como la que hoy vivimos.</p><p>Algo está sucediendo –algo tan imprevisto como cualquier otra catástrofe natural– que puede hacer cambiar el interregno en el que se ha desenvuelto la política uruguaya de las últimas décadas ante el avance del neoliberalismo. Quienes están en mejores condiciones de hacerlo no pueden haber sucumbido totalmente a la inacción y la sujeción que nos confiere la individualidad de nuestros cuerpos y el reducto familiar; debemos ser lo más fieles posible a una tradición que largamente nos caracteriza de creer en la política –esto es, de lo que incumbe a lo común, a la <em>polis</em>– y alentar creativamente nuevas formas de hacerlo realidad, acaso más radicales y comunitarias que nunca. Esa lucha por lo común, que hasta los propios comunistas no se sentían ya con fuerza siquiera de mencionar, vino a ponerla en el orden del día un virus. Así es la dialéctica, diría Karl Marx.</p><p><em>José Stagnaro es magíster en Ciencias Humanas y docente de Formación en Educación.</em></p>    </div></body></html>"
      ],
      "text/plain": [
       "<IPython.core.display.HTML object>"
      ]
     },
     "metadata": {},
     "output_type": "display_data"
    },
    {
     "name": "stdout",
     "output_type": "stream",
     "text": [
      "__\n",
      "\n",
      "Score: 7.974207\n"
     ]
    },
    {
     "data": {
      "text/html": [
       "<!DOCTYPE html><html lang=\"es-uy\"><head>  <meta http-equiv=\"Content-Type\" content=\"text/html; charset=utf-8\"/>  <title>La UE condena la decisión de Trump de restringir vuelos por el nuevo coronavirus</title></head><body>  <div class=\"article-header\">    <h1 class=\"article-title after_foto\">  La UE condena la decisión de Trump de restringir vuelos por el nuevo coronavirus      </h1>      <div class=\"article-date-author\">    <span class=\"date small\"><time datetime=\"2020-03-12T10:30:42\">12 De Marzo De 2020</time> | </span>    <span class=\"small\">      <a href=\"https://ladiaria.com.uy/seccion/coronavirus/\">Coronavirus</a>  </span>    <span class=\"small\">| Foto:Daniel Roland, AFP</span>    </div>    </div>    <div class=\"article-body paywalled-content\">      <p>La Unión Europea (UE) condenó el jueves la decisión “unilateral” del presidente de Estados Unidos, Donald Trump, de restringir los viajes desde Europa a Estados Unidos debido a la expansión del coronavirus, y desde la entidad se afirmó que la enfermedad no respeta las fronteras. </p><p>“La UE desaprueba el hecho de que la decisión de Estados Unidos de imponer una prohibición a los viajes se tomó de forma unilateral y sin consultas”, indicaron en un comunicado conjunto el presidente del Consejo Europeo, el diplomático belga Charles Michel, y la presidenta de la Comisión Europea, la alemana Ursula von der Leyen. “El coronavirus es una crisis global, no limitada a ningún continente, y requiere cooperación, en lugar de acciones unilaterales”, afirmaron las autoridades del bloque europeo.</p><p>La reacción de la UE se produjo <strong><u>después</u></strong> de que en la noche del miércoles Trump, quien venía soportando una presión interna importante para tomar <strong><u>medidas</u></strong> contra la pandemia, anunciara la suspensión de todos los vuelos procedentes de Europa por 30 <strong><u>días</u></strong> a partir de la medianoche del viernes. Durante el anuncio Trump describió a la novedosa enfermedad como un “virus extranjero” –término que causó gran molestia a nivel internacional– y afirmó que los focos de infección en Estados Unidos fueron “originados” por viajeros europeos. <strong><u>Si</u></strong> bien el mandatario republicano afirmó que se prohibirían todos los viajes desde Europa, posteriormente la Agencia de Seguridad Nacional aclaró que las restricciones se aplicarían concretamente a la mayoría de ciudadanos extranjeros que hubieran <strong><u>pasado</u></strong> por la zona europea de libre circulación de personas en los 14 <strong><u>días</u></strong> previos a su llegada a Estados Unidos, de acuerdo a lo que informó la agencia de noticias <em>EuropaPress</em>. La medida abarca a los 26 países europeos que pertenecen al Espacio Schengen: son Alemania, Austria, Bélgica, Dinamarca, Eslovenia, España, Estonia, Finlandia, Francia, Grecia, Hungría, Islandia, Italia, Letonia, Liechtenstein, Lituania, Luxemburgo, Malta, Noruega, Países Bajos, Polonia, Portugal, República Checa, Eslovaquia, Suecia y Suiza.</p><p>El mandatario justificó su decisión bajo el argumento de que lo más importante es “evitar que nuevos casos entren” en Estados Unidos. “Estas prohibiciones no sólo se aplicarán a la tremenda cantidad de comercio y cargas, sino a varias otras cosas a medida que obtengamos la aprobación”, agregó el mandatario.</p><p>Las personas que están exentas de estas restricciones, como los ciudadanos estadounidenses, serán trasladadas a aeropuertos designados donde se les harán controles específicos, agregó la Casa Blanca. “Estamos reuniendo todo el poder del gobierno federal y del sector privado para proteger al pueblo estadounidense”, afirmó Trump, quien anunció también que tomaría <strong><u>medidas</u></strong> de emergencia para proporcionar ayuda financiera a los trabajadores que están enfermos, en <strong><u>aislamiento</u></strong> o que cuidan a otros debido a la enfermedad.</p><p>Mientras se producen estas fricciones entre Estados Unidos y Europa, desde China, país en el que surgió esta nueva cepa de coronavirus, que causa la enfermedad denominada Covid-19, y en el que se produjo la mayor parte de los casos confirmados y las muertes, se afirmó que el brote a nivel global de este mal terminará antes de junio, cuando esté cerca de llegar el verano en el hemisferio norte. Así lo afirmó este jueves el epidemiólogo Zhong Nanshan, miembro del comité designado por el gobierno de China para combatir el brote, según consignó la agencia de noticias Reuters. Por otra parte, también este jueves, la Comisión Nacional de Salud china aseguró que el país ha superado el punto máximo de la epidemia y que la aparición de casos se sigue desacelerando de manera importante.</p><p>Este miércoles, la Organización Mundial de la Salud declaró el brote del Covid-19 como pandemia y confirmó más de 118.000 casos de la infección en 114 países y 4.291 fallecimientos. La mayoría de los contagios se registraron en China, Italia, Irán y Corea del Sur (80.909, 10.149, 9.000 y 7.755, respectivamente).</p>    </div></body></html>"
      ],
      "text/plain": [
       "<IPython.core.display.HTML object>"
      ]
     },
     "metadata": {},
     "output_type": "display_data"
    },
    {
     "name": "stdout",
     "output_type": "stream",
     "text": [
      "__\n",
      "\n",
      "Score: 7.7043695\n"
     ]
    },
    {
     "data": {
      "text/html": [
       "<!DOCTYPE html><html lang=\"es-uy\"><head>  <meta http-equiv=\"Content-Type\" content=\"text/html; charset=utf-8\"/>  <title>Barrio y solidaridad: crónica de una olla popular en el Club Villa Teresa</title></head><body>  <div class=\"article-header\">    <h1 class=\"article-title after_foto\">  Barrio y solidaridad: crónica de una olla popular en el Club Villa Teresa      </h1>      <div class=\"article-date-author\">    <span class=\"date small\"><time datetime=\"2020-03-28T01:06:41\">28 De Marzo De 2020</time> | </span>      Escribe:  <span class=\"small\"><a href=\"https://ladiaria.com.uy/periodista/marina-santini/\">    Marina Santini</a></span> <span class=\"small\">en </span>    <span class=\"small\">      <a href=\"https://ladiaria.com.uy/seccion/coronavirus/\">Coronavirus</a>  </span>    <span class=\"small\">| Foto:Alessandro Maradei</span>    </div>    </div>    <div class=\"article-body paywalled-content\">      <p>La convocatoria estaba fijada a las 13.00, pero pasadas las 12.00 el tuco y los fideos ya estaban prontos y había empezado a formarse la fila en la puerta del Club Villa Teresa. Laura fue de las primeras en llegar: llevaba un bol grande, de esos blancos que en algún momento tuvieron helado, y en la otra mano un papelito con el número que le dieron los voluntarios en la entrada. La reja estaba abierta, pero los organizadores cortaron el paso con una mesa larga para evitar la aglomeración de gente en el interior. No se trataba de una olla más, sino de la primera del “Villa” en medio de la emergencia sanitaria por <a href=\"https://ladiaria.com.uy/seccion/coronavirus/\">coronavirus</a>, que, a pocos <strong><u>días</u></strong> de haber llegado al país, había empezado a hacer mella en el barrio.</p><p>“Mi cuñada se reía de mí. Yo le dije que no tengo nada que perder. Yo estoy yendo a buscar una comida para mis hijos. No sé de qué se ríen. Que se rían todo lo que quieran. Yo no estoy robando, estoy pidiendo. ¡Otra vez volver a vivir esto!”, se lamentaba Laura, como pensando en voz alta, mientras las vecinas que la rodeaban asentían con la cabeza. Eran, en su mayoría, empleadas domésticas, feriantes, limpiadoras y clasificadoras. También había alguna que “salía a la calle” a hacerse el manguito. Y amas de casa en hogares donde el ingreso principal se cayó. Todas tenían algo en común: el coronavirus les sacó el sustento económico y la olla popular era de las pocas oportunidades que tenían para rescatarles un plato de comida a sus hijos; en algunos casos, el único del día.</p><p>Laura vende ropa usada en ferias de la zona, pero hace tres domingos no puede vender porque el gobierno departamental dispuso que en el contexto de emergencia sanitaria sólo se vendan alimentos y productos de higiene. Tiene siete hijos, todos menores de edad, a los cuales mantiene sola. “A veces, mi hijo de 17 va escondido en el camión a trabajar en el puerto. Porque no hay nada. Yo llevé mi currículum a la empresa donde está trabajando mi nuera y no me tomaron, porque tengo 50 años. Antes por lo menos hacía una feria y venía con una plata, con verduras y cosas para mis hijos. Ahora no. ¿De dónde sacás?”, preguntó en voz alta, pero nadie le pudo responder. “El que tiene se ríe del pobre. El pudiente no tiene que pasar lo que estamos pasando nosotros. Ninguno pasa esto. Dicen ‘no salgas a robar’, pero no ayudan a los pobres”, continuó.</p><p>Laura era chica la última vez que vivió una olla popular. Ahora está viviendo lo mismo, dice, y compara la situación actual con la crisis de 2002. “Estamos pasando necesidades que no estábamos pasando. Vivíamos el día a día, pero teníamos para comer. Ahora no. Ahora tenemos que venir a pedir un poco de comida para llevarles a nuestros hijos. ¿Dónde la ves? <strong><u>Si</u></strong> uno es joven y puede salir a rescatar la plata para darles de comer a sus hijos. Yo no lo veo bien”, se responde, y enfatiza sus palabras con un gesto de negación. La fila avanza rápidamente.</p><blockquote><p>El Club Villa Teresa recibe donaciones de alimentos todos los <strong><u>días</u></strong> de 9.00 a 14.00. La entrega se puede coordinar con el presidente del club, Martín Sierra, a través del 094 951 553.</p></blockquote><p>A unos metros de Laura esperan dos hombres, uno bastante mayor que el otro, con chismosas de las que sobresale la forma de los recipientes de plástico. Son Jorge y Álvaro, tío y sobrino, ambos recientemente desempleados. Jorge vende medias en la feria de Mazangano y Álvaro es portero en una residencial de ancianos. El primero se quedó sin su changa por la misma razón que Laura; el segundo está en el seguro de paro y su esposa también. “Un mes sin hacer feria son 30 <strong><u>días</u></strong> que no tenés ingresos, y te van llegando las cuentas y hay que pagarlas”, dice Jorge. “Los adultos no tendríamos que llegar a esta situación para poder llevarles un plato de comida a los gurises. Pero no tenemos otra opción. Estamos colgados del pincel”, se lamenta.</p><p>Jorge tampoco imaginaba volver a asistir a una olla popular. “Yo tengo 59 años y de niño asistí a ollas populares en La Teja, cuando en la dictadura se cerraron muchísimas fábricas y fuentes de trabajo. No pensé volverlo a vivir. Sé que en 2002 hubo, pero yo no asistí. Y <strong><u>después</u></strong> de eso pensé que no lo iba a volver a vivir”, confesó. Para Jorge, aceptar la ayuda de los vecinos es una forma de agradecimiento. “La gente es muy solidaria, más en esta zona y en este club, que se ha caracterizado por ayudar cuando puede. Mientras se pueda ayudar, hay que ayudar, y el que puede recibir que lo reciba, porque es una manera de agradecer cuando te pueden dar una mano”, manifestó.</p><h3 id=\"barrio-y-solidaridad\">Barrio y solidaridad</h3><p>“A los que nacimos dentro del club siempre nos inculcaron que hay que ser solidario y dar una mano, porque somos todos gente humilde y laburadora; unos más, unos menos. Al que va al seguro de paro se le trata de dar una mano, al que se queda sin trabajo se le hace una colecta entre los vecinos o los que vienen a la cantina. La solidaridad en el club siempre está”, aseguró el presidente del Club Villa Teresa, Martín Sierra, mientras colaboraba en los últimos aprontes, protegido con tapabocas y guantes, como el resto de los voluntarios. “Creo que eso pasa también por la zona en que vivimos. Por ejemplo, en las formativas, tenemos 150 pibes todas las tardes corriendo, que es gente de la vuelta, que lo necesita. Nosotros hacemos este esfuerzo con ganas, para ayudar a las familias de los gurises del barrio”, afirmó. Y la leyenda “Barrio y solidaridad”, escrita con pintura roja en la pared externa de la sede, lo respaldaba.</p><p>Los voluntarios habían previsto 70 porciones de comida, pero no sabían a ciencia cierta <strong><u>cuántos</u></strong> vecinos se iban a arrimar. No fueron más, pero cada uno pedía cuatro o cinco porciones para llevar a los otros miembros de la casa, y al final fueron casi 200 las porciones solicitadas. Una vez que se terminaron las 70 preparadas y se repartieron el pan y las pizzas que donó una panadería de la zona, los demandantes se anotaron para el día siguiente. “Para mañana vamos a ver cómo nos ordenamos mejor, hoy era nuestro primer día y no sabíamos <strong><u>cuántos</u></strong> iban a venir”, explicó uno de los colaboradores a los vecinos que se habían quedado sin su vianda. “¡Arriba el Villa!”, fue una de las respuestas. La decepción, indisimulable, no se convirtió en enojo.</p><p>Rosario fue una de las que llegaron tarde. Se acercó con su hermana, ambas treintañeras, y pidió algo de comida, “aunque sea para los gurises, porque estamos todos desempleados”. Del otro lado, en silencio, los voluntarios se miraban entre <strong><u>sí</u></strong>, esperando que alguno tuviera alguna sobra para dar. No quedaba ni un poco de pan; todo lo habían entregado. Les ofrecieron anotarlas para el día siguiente y así lo hicieron.</p><p>“No sabemos qué hacer, porque somos las dos madres solteras. Yo ahora voy a mi casa y los gurises me están esperando con los platos arriba de la mesa, contentos pensando en la comida. ¿Cómo les digo que no hay? Una puede tomar un mate y arreglarse. Con mi hermana estamos viviendo a mate dulce estos <strong><u>días</u></strong>. Pero los niños no”, señaló Rosario al alejarse de la puerta, conteniendo las lágrimas. Y las hermanas se fueron, con las manos vacías, pero la promesa de volver al otro día.</p><ul><li>Leé más sobre este tema: [Las ollas populares se multiplican en Montevideo para paliar las consecuencias del coronavirus en el empleo](https://ladiaria.com.uy/articulo/2020/3/las-ollas-populares-se-multiplican-en-montevideo-para-paliar-las-consecuencias-del-coronavirus-en-el-empleo/]</li></ul>    </div></body></html>"
      ],
      "text/plain": [
       "<IPython.core.display.HTML object>"
      ]
     },
     "metadata": {},
     "output_type": "display_data"
    },
    {
     "name": "stdout",
     "output_type": "stream",
     "text": [
      "__\n",
      "\n",
      "Score: 7.461256\n"
     ]
    },
    {
     "data": {
      "text/html": [
       "<!DOCTYPE html><html lang=\"es-uy\"><head>  <meta http-equiv=\"Content-Type\" content=\"text/html; charset=utf-8\"/>  <title>Cocineros ayudan en vivo para comer mejor en tiempos de pandemia</title></head><body>  <div class=\"article-header\">    <h1 class=\"article-title after_foto\">  Cocineros ayudan en vivo para comer mejor en tiempos de pandemia      </h1>      <div class=\"article-date-author\">    <span class=\"date small\"><time datetime=\"2020-03-28T01:30:34\">28 De Marzo De 2020</time> | </span>    <span class=\"small\">      <a href=\"https://ladiaria.com.uy/seccion/en-casa/\">En casa</a>  </span>  </div>    </div>    <div class=\"article-body paywalled-content\">      <p>» El chef italiano Massimo Bottura (@massimobottura), dueño de la reputada Osteria Francescana, transita su <em>Kitchen Quartine</em> (cuarentena en la cocina) con un verdadero cuestionario en directo: es el momento Q&amp;A (preguntas y respuestas), ya que las transmisiones en IGTV (en Instagram) son en inglés y su audiencia es invitada a plantear sus dudas mientras un profesional con tres estrellas Michelin pica verduras, gesticula animadamente y desasna.</p><p>» “Dos millones de trabajadores gastronómicos nos quedamos en casa”. Con esa contundente cifra y el dibujo de un delantal con un corazón en el pecho, la Unión Gastronómica Argentina (UGA) se unió a la campaña #quedatencasa. “Esto lo está publicando un grupo de más de trescientos restaurantes, como un primer paso de visibilizar una situación dramática que afecta a muchísima gente en todo el país”, puso en su cuenta de Instagram el periodista de <em>La Nación</em> Rodolfo Reich. Esta situación llevó a que muchos cocineros que antes poblaban la pantalla de El Gourmet o señales televisivas del estilo, desde el sábado <strong><u>pasado</u></strong> y hasta que termine la cuarentena, estén ofreciendo sus saberes al que, como ellos, debe esperar entre cuatro paredes. La cita es diaria, de 17.00 a 19.00, en todas las redes. “Sumate <strong><u>si</u></strong> sabés cocinar y podés ayudar a otro. Ayudanos a contestar. Profesionales, <em>amateurs</em>, abuelas, todos. <strong><u>Cuantos</u></strong> más, mejor. Es para darte soluciones con lo que tenés en tu casa. No salgamos a hacer compras que quizás no necesitás ya”, dicen quienes usan los <em>hashtags</em> #teayudo #teayudamos.</p><p>De ese modo, durante la semana que pasó se pudo ver a Lele Cristóbal, de Café San Juan, preparando un arroz bomba desde su casa, con su perrita dando vueltas por la cocina y su pareja filmándolo mientras le reprocha que no ensucie tantos trastos. Para mayor confianza doméstica, el experto aprovecha el agua del mate para el sofrito, en lugar del caldo de cocción que le gustaría tener a mano. “<strong><u>Si</u></strong> me va a agarrar el virus, que me agarre bien comido”, manda cada tanto.</p><p>“Está bueno que haya olor a casa”, dice con su tono más calmo y medido Juliana López May mientras responde consultas, de cara lavada y acomodada en el living, donde su marido la abraza de repente y anuncia a la pantalla que esa noche él va a prender el fuego. Tomás Kalika, de Mishiguene, también hace equipo con su pareja para mostrar las diferentes posibilidades de la carne en una barbacoa Kamado. Narda Lepes, por su parte, con la velocidad de pensamiento que ha demostrado en una carrera televisiva en paralelo a su trayecto como cocinera, se planta frente al celular para pasar piques con lo que cada cual tenga en la despensa. Alguien habló de berenjenas y Narda detalla preparaciones caseras o exóticas con familiaridad, y la interrumpe su hija para señalar que ella las prefiere con mucha sal.</p><p>» Cada cual sabe qué forma de cocinar y de comunicar lo atrae más, así que basta con seguir al chef favorito para ver cómo encara estas consignas. A nivel local, Lucía Soria y el repostero Lucas Fuente son algunos de los que están ayudando a cocinar desde las redes para aprovechar el tiempo comiendo mejor.</p>    </div></body></html>"
      ],
      "text/plain": [
       "<IPython.core.display.HTML object>"
      ]
     },
     "metadata": {},
     "output_type": "display_data"
    },
    {
     "name": "stdout",
     "output_type": "stream",
     "text": [
      "__\n",
      "\n",
      "Score: 7.3158164\n"
     ]
    },
    {
     "data": {
      "text/html": [
       "<!DOCTYPE html><html lang=\"es-uy\"><head>  <meta http-equiv=\"Content-Type\" content=\"text/html; charset=utf-8\"/>  <title>Bidé</title></head><body>  <div class=\"article-header\">    <h1 class=\"article-title after_foto\">  Bidé      </h1>      <div class=\"article-date-author\">    <span class=\"date small\"><time datetime=\"2018-03-13T12:54:48\">13 De Marzo De 2018</time> | </span>      Escribe:  <span class=\"small\"><a href=\"https://ladiaria.com.uy/periodista/mercedes-estramil/\">    Mercedes Estramil</a></span> <span class=\"small\">en </span>    <span class=\"small\">      <a href=\"https://ladiaria.com.uy/seccion/ficcion/\">Ficción</a>  </span>  </div>    </div>    <div class=\"article-body paywalled-content\">      <p>En 1980 aún no era moda festejar los 15 por todo lo alto. Los padres no se endeudaban durante años por un vestido merengado y una noche con cien invitados hambrientos. El chalet de tejas que mi padre había construido en Nuevo París, a orillas de un pantano de juncos en la parte del fondo y de un cantegril cruzando la calle, tampoco era el lugar indicado para colocar un cortejo de chicas y chicos que esperaran mi descenso de un remise. En todo caso, ese cortejo debería ocupar los diez metros que iban desde el portón hasta el porche y yo no tenía amistades para tantos metros. <strong><u>Si</u></strong> hubiera habido fiesta, era probable que sólo estuvieran las tías de siempre; un hermano de mi padre que había <strong><u>pasado</u></strong> una noche en la comisaría por problemas domésticos; los vecinos de al lado: Raquelita (que se casó enseguida, y contaba entre sus virtudes la de tener alineada la dentadura y no tener caries jamás) y Gaby, que en fija por haber reingresado a Testigos de Jehová no iba a venir; María, que tenía convulsiones epilépticas y capaz que hasta me interrumpía el “Quince primaveras tienes que cumplir” del trío San Javier; y la Yeny.</p><p><strong><u>Si</u></strong> hubiera habido fiesta, además, me <strong><u>habrían</u></strong> comprado medias can-can blancas bien gruesas (en febrero) porque la idea de depilarme de verdad era inadmisible (“cada cual es como es” o “en cuanto te depiles te crecen más”), o a escondidas y <strong><u>si</u></strong> yo me emperraba mamá le hubiera sustraído una Wilkinson a mi padre y me hubiera dicho “arreglate con eso”, y como ya entonces yo tenía un incipiente temblor esencial en fija me habría cortado pantorrillas y muslos. Como sea, no hubo.</p><p>Fue un febrero lluvioso, de borrascas, de truenos. Mamá hizo pizzas y sándwiches con pan de molde, hubo Coca-Cola y cerveza para todos, una prima trajo una torta rellena. Mi padre me regaló un Tissot suizo, de verdad. Pensé que le habría costado semanas de carpintería y me dio miedo perderlo, pero peor era que no tenía buenas notas, ni novio ni una amiga como la gente, y esa confluencia de tener con qué marcar el tiempo y estar detenida era triste. Me lo coloqué en la muñeca izquierda, lo podía mover como una pulsera de tan flaca que estaba. Aplaudieron. Es lo que se espera frente a un regalo caro. Debió oírse el aplauso y el feliz cumpleaños desde el cante de enfrente porque la puerta de entrada ese día estaba abierta. Recién la cerraron cuando la Yeny dijo que el Óscar había salido. No era que le tuviéramos miedo. Se metió con una gurisa, decían por ahí, sin que yo y ni siquiera Yeny (que parecía muy avispada pero era como yo) supiéramos bien qué era eso de meterse con una gurisa. En el momento del brindis mamá dijo que era un cumpleaños sencillo porque yo había elegido un viaje, y todos le preguntaron adónde. Recé por que dijera Europa. Dijo Galicia.</p><p>La Yeny alucinó. Tenía pulsera de hilos rojos contra la envidia, y a veces se ponía el anillo de casada de su madre separada. Los tuyos tendrían que separarse también, decía. Una opción que todavía no me parecía posible. <strong><u>Si</u></strong> se llevan para el culo. Vos qué sabrás, le decía yo. Pero en la noche, del dormitorio de mis padres no venía más sonido que el de un ronquido obtuso o una tos seca.</p><p>Diez <strong><u>días</u></strong> <strong><u>después</u></strong>, el dieciséis de febrero, estábamos en el porche, viendo pasar los COETC —ella saludaba a algunos choferes—, cuando el Óscar se acercó al portón, mansito, a pedir hielo. Era común que le diéramos hielo a los del cante. Me miré en el espejo del living y me vi horrible y las tripas me sonaron. Saqué la cubitera de la Ferrosmalt y volqué los cuadraditos sin hacer ruido —los sábados mi padre dormía siesta— en una bolsa medio sucia. Se la di y murmuró algo, que no fue gracias. Volví corriendo y nos reímos con Yeny. Cuando ella venía yo me ponía el reloj. Mirá que el Óscar te lo va a robar, me dijo. Al rato la llamaron para merendar y cruzó. Me dejaban ser su amiga porque era de esas adolescentes compradoras con los adultos, educadas y tímidas pero que ya saben cómo sonreír. Sin embargo, no me dejaban ir a su casa. Venía impreso en la huella dactilar: mi padre levantaba el índice señalando el cante y ahí decía “las CASAS de verdad no son de chapa”. Seguro <strong><u>si</u></strong> hubiera ido le habría contado que el Óscar había venido a pedir hielo cada día de esa semana con el pretexto de que su hijo menor tenía fiebre. Creo que es sarampión, dijo, y me extrañó que no lo supiera de verdad. Yo había tenido sarampión y estaba claro cuando era eso. Para no dejarlo mal a él —no por otra razón— le pregunté <strong><u>si</u></strong> su esposa no lo sabía. X, me olvidé el nombre, no es mi esposa, dijo, y <strong><u>después</u></strong> dijo que no, no lo sabía. Eso había sido el martes. Tenía ojos celestes chicos y profundos detrás de algo así como cuarenta años. </p><p>La Yeny cruzó la calle corriendo segundos antes que el COETC (una gracia que solían hacer los de enfrente) y se perdió veloz en las galerías del cante.</p><p>Entré en mi casa y fui al baño. Era un baño inmenso de piso negro con vetas, puerta de cármica con arabescos verdes y ocres, y las paredes revestidas de azulejos azul marino que llegaban casi al techo, por donde una claraboya chica dejaba pasar luz y ventilaba. Bañera, pileta, váter y bidé eran blancos y todavía no tenían esa pátina ferrugienta propia del abandono o el tiempo. Era un baño opresivo en su enormidad contrastante. Me veía del cuello para arriba en el espejo en tríptico del botiquín, y de cuerpo entero en los azulejos; me encantaba encerrarme ahí, único lugar de la casa donde podía apretar el botón del pomo de la puerta que cerraba por dentro. Luego supe lo que creían cuando me encerraba largo rato, pero en ese entonces no lo sospechaba porque ni se me había ocurrido. Simplemente me gustaba estar ahí segura de que nadie iba a entrar de repente, y poder revisar a mi antojo el botiquín o el armario de las toallas, o cagar o mear tranquila o imaginar conversaciones, o leer alguna novela policial de las que leía a escondidas, donde siempre había una rubia violada.</p><p>Ese sábado entré con urgencia y no llevé lectura pero igual podía pasar mucho rato ahí, mirando los dibujos del piso, las líneas que formaba el agua, la rejilla bronceada del desagüe, el doble cortinado de la bañera, bichitos de la humedad hechos bolita en un rincón o la bacinilla de mi padre, que no iba hasta el baño por la noche para no enfriarse.</p><p>La casa de Óscar destacaba en el cante porque siempre tenía —en el espacio que hubiera sido jardín— dos o tres autos chocados o pedazos de autos desguazados. Era mecánico. La Yeny decía que no, repitiendo epítetos de la jerga policial y periodística, algo que me sonaba a traición de clase. Total, vos sos o no sos del cante, le decía yo. La avergonzaba ser de ahí, por eso se pasaba cruzando y los choferes de COETC creían que éramos las hermanitas del chalet de tejas. En la casa de Óscar vivía esa mujer que no era su esposa, un hijo anterior de ella, el hijo con sarampión, un hermano menor de Óscar, mongólico, y la madre de ambos. También tenían dos perros feroces y en el invierno los dejaban entrar. Antes del asunto de la gurisa —que nadie sabía o nadie dijo bien cómo fue— la reputación de Óscar era la del típico pobre pero honrado. Fue <strong><u>después</u></strong> de eso que todo se dio vuelta y gente como mi padre lo entró a mirar torcido.</p><p>Ese martes le miré especialmente los dedos para ver <strong><u>si</u></strong> tenía las uñas sucias, pero sólo noté sus manos ásperas, inmensas. Tenía un tatuaje negro en el antebrazo que se tensó cuando lo estiró para tomar la bolsa con hielo. Ese día no vi qué era.</p><p>El bidé de casa tenía agujeritos todo a lo largo del círculo oval para que saliera el agua y un agujero mayor en el centro, en la parte opuesta a los grifos. Siempre lo regulaba en ese modo porque detestaba el chorro central que salía disparado hacia arriba.</p><p>Estaba ahí sentada, lavándome y pensando. Comúnmente cuando me sentaba en el bidé pensaba en que me habían enseñado a ponerme de frente a la grifería y yo en cambio lo hacía de espaldas, para no mirar la pared y por miedo a caerme hacia atrás. Siempre creí que era el artefacto el que estaba al revés. “Feliz cumpleaños atrasado” había dicho el Óscar cuando le entregué el hielo hacía minutos. Todo podía venir con retraso pero iba a llegar. Me hizo el efecto de haber bailado el vals.</p><p>Entonces sentí algo rozándome el muslo en la entrepierna, como <strong><u>si</u></strong> el jabón de glicerina se hubiera deslizado por ella, pero el jabón estaba en mi mano. A veces eran las ondas del agua cuando la grifería seguía abierta. No me había dado tiempo de ver la dentadura de Óscar, <strong><u>si</u></strong> estaba buena o completa; yo tenía un tema con las dentaduras. Lo había visto fumando y parecía atractivo envuelto en humo. El agua se enfría rápidamente en un bidé. Me fui a levantar y creí verla. Vi la sombra y el movimiento encorvado del agua. Fue la imagen del Óscar de vaqueros rotos y fumando para mí en un horizonte cercano lo que me impidió desmayarme. Grité “mamá” con todas mis fuerzas. Del cuarto de costura al baño eran dos pasos. Mamá pensó que me había resbalado en la bañera. Siempre me decían que <strong><u>si</u></strong> me iba a bañar no cerrara por dentro. Pero <strong><u>si</u></strong> uno no cerraba cuando estaba desnudo qué sentido tenía.</p><p>Hay una víbora en el bidé, le dije. A mamá la impresionaban las víboras. Venían del pantano y las veíamos a veces entre los maizales de la quinta, o en el gallinero, o encaramadas a la parra. Pero nunca adentro de casa. Lo imaginaste, me dijo. Podía ser. Dudé un instante y en casa dudar era un problema, era borrar con el codo lo escrito con la mano. Dejate de hacerme perder el tiempo, y se dio vuelta para irse. Le tironeé del vestido, un batón gastado, de entrecasa, y le juré que la había visto. ¡No jures en vano! Con el tiempo sabría que mi madre no era tan religiosa como parecía. Comencé a llorar a gritos y mi padre se levantó y vino a ver qué pasaba. Entró de mal talante y a medio vestir y me ordenó callarme. Mi padre solía pensar que las cosas no ocurrían sino que se las hacían a él. Dice que vio una víbora en el bidé, dijo mi madre. Él preguntó <strong><u>si</u></strong> dejamos las puertas abiertas. No. Preguntó <strong><u>si</u></strong> me picó. Le iba a aclarar que no pican pero mamá me miró y contestó antes. No. ¿La viste nadando?, me preguntó con sorna. La vio meterse en el agujerito, dijo mamá. Entonces él se rio como el padre de Yeny. Se agachó sobre el bidé, lo inspeccionó por todos lados, miró a mi madre como <strong><u>si</u></strong> la hubiera dejado atrás hacía tiempo y sólo comprobara que seguía ahí y me estampó en la cara toda su mano derecha. <strong><u>Si</u></strong> me volvés a interrumpir la siesta te mato, fue su última reflexión.</p><p>Me hice pichí encima, hacía más de un año que no me pasaba.</p><p>Mamá mojó el trapo rejilla y lo pasó con la escoba por todo el piso, moviendo de lugar la bacinilla que vaciaba cada mañana. Arrastró pelos, bichos bolita y restos de una piel extraña.Me miró como volviendo de un largo viaje que la hubiera rejuvenecido y fuimos hasta la cocina.Pusimos al fuego las dos ollas grandes llenas de agua. Tapamos el bidé, abrimos el agua caliente y volcamos también el agua hirviendo y esperamos.</p><p>Medía unos treinta centímetros. Mamá la izó muerta atravesándola con un tenedor de parrilla y en ese momento la luz de la claraboya la iluminó, temblorosa y aguada, y fue la cosa más irisada y bella que había visto en mi vida.</p><p>No se habló más del asunto. Óscar no volvió a pedir hielo, pero aún lo vería muchas veces.</p>    </div></body></html>"
      ],
      "text/plain": [
       "<IPython.core.display.HTML object>"
      ]
     },
     "metadata": {},
     "output_type": "display_data"
    },
    {
     "name": "stdout",
     "output_type": "stream",
     "text": [
      "__\n",
      "\n",
      "Score: 7.117929\n"
     ]
    },
    {
     "data": {
      "text/html": [
       "<!DOCTYPE html><html lang=\"es-uy\"><head>  <meta http-equiv=\"Content-Type\" content=\"text/html; charset=utf-8\"/>  <title>Pablo Mieres informó que el BPS recibió 40.000 solicitudes de seguro de desempleo en lo que va de marzo</title></head><body>  <div class=\"article-header\">    <h1 class=\"article-title after_foto\">  Pablo Mieres informó que el BPS recibió 40.000 solicitudes de seguro de desempleo en lo que va de marzo      </h1>      <div class=\"article-date-author\">    <span class=\"date small\"><time datetime=\"2020-03-23T14:41:45\">23 De Marzo De 2020</time> | </span>    <span class=\"small\">      <a href=\"https://ladiaria.com.uy/seccion/indicadores/\">Indicadores</a>  </span>    <span class=\"small\">| Foto:Federico Gutiérrez</span>    </div>    </div>    <div class=\"article-body paywalled-content\">      <p>En lo que va de marzo, el Banco de Previsión Social (BPS) recibió 40.000 solicitudes de seguro de desempleo, informó este lunes el ministro de Trabajo y Seguridad Social, Pablo Mieres, en el programa <em>Todo pasa</em>, de Océano FM. El ministro aseguró que se trata de una cifra “muy importante”, y añadió que sólo el viernes <strong><u>pasado</u></strong> ingresaron 10.000 solicitudes. <strong><u>Si</u></strong> bien los datos aún no están discriminados, Mieres considera que la mayoría provienen de sectores que tuvieron una caída abrupta de la actividad desde la llegada del coronavirus a Uruguay.</p><p>“Lo que ha ocurrido a partir del 13 de marzo, con las decisiones de cierre de actividades repentinas, es que hay empresas y emprendimientos que pasan de estar a tope a estar en 0% y no facturar nada. Eso lleva también a decisiones abruptas respecto de la situación de los empleados”, explicó el jerarca. Asimismo, el titular de Trabajo indicó que en enero de este año ya había 40.000 personas amparadas en este subsidio y que en febrero hubo unas 10.000 solicitudes, por lo que “el tema seguro de paro ya venía bastante golpeado por razones estructurales”.</p><p>Respecto del <a href=\"https://trabajo.ladiaria.com.uy/articulo/2020/3/mieres-anuncio-regimen-de-flexibilidad-en-seguros-de-paro-para-sectores-afectados/\">régimen de subsidio flexible para los sectores afectados</a>, Mieres afirmó que ya está vigente a nivel jurídico, pero no se ha implementado aún porque los servicios informáticos del BPS requieren un tiempo de adaptación para ingresar las solicitudes. “Nos han dicho que va a estar disponible a mitad de semana”, aseguró, y previó que se va a utilizar mayormente “por parte de los sectores impactados directamente por la emergencia sanitaria, es decir, comercio, agencias de viaje, hoteles y restaurantes”. </p><p>Consultado por la posible implementación de una medida de cuarentena obligatoria, solicitada por el Sindicato Médico del Uruguay y <a href=\"https://ladiaria.com.uy/articulo/2020/3/tabare-vazquez-inevitablemente-tenemos-que-ir-a-una-cuarentena-total-<strong><u>si</u></strong>-queremos-cortar-con-este-ciclo-vicioso/\">actores políticos</a>, Mieres sostuvo que “hoy no está arriba de la mesa como decisión ni está planteada, pero los hechos son dinámicos”, aunque advirtió sobre las complicaciones que una iniciativa de esta magnitud podría traer. “Es bueno mantener ciertos niveles de actividad, porque todo lo que se desmonta <strong><u>después</u></strong> va a costar mucho más que se reactive, e incluso muchas de las actividades, <strong><u>si</u></strong> se desmontan, pueden cesar definitivamente y no recuperarse. Hay que tener un equilibrio para que la destrucción económica que puede producir esta situación compleja sea la menor posible”, explicó.</p><p>Mieres se manifestó “totalmente de acuerdo con lo que se ha venido haciendo” por parte del Poder Ejecutivo y opinó que las iniciativas tomadas “fueron drásticas, y por eso el impacto” en la actividad económica. “Nos parece que es mucho más sensato tener hoy <strong><u>medidas</u></strong> de <strong><u>aislamiento</u></strong> y de distanciamiento, como el teletrabajo, que está funcionando”, apuntó. “La cuarentena obligatoria es una decisión que se ha tomado en varios países y que tiene un problema, que es que hay que sostenerla; hay que hacerla cumplir y mantenerla durante no se sabe cuánto tiempo, entonces parece mucho más razonable manejarse con estos parámetros, que obviamente tienen que estar acompañados de un acatamiento real de la ciudadanía sobre tener el mínimo de salidas y de contacto, y de ese modo ir llevándola”, manifestó el jerarca. “Además, <strong><u>si</u></strong> uno se fija en las decisiones que se han tomado acá y en la cuarentena obligatoria, se termina de exigir el mantenimiento en el hogar, pero igual hay trabajo”, señaló.</p>    </div></body></html>"
      ],
      "text/plain": [
       "<IPython.core.display.HTML object>"
      ]
     },
     "metadata": {},
     "output_type": "display_data"
    },
    {
     "name": "stdout",
     "output_type": "stream",
     "text": [
      "__\n",
      "\n"
     ]
    }
   ],
   "source": [
    "get(0,'¿Cuántos días habrían pasado desde que se iniciaron las medidas de aislamiento si se levantan después de Turismo?')"
   ]
  },
  {
   "cell_type": "code",
   "execution_count": null,
   "metadata": {},
   "outputs": [],
   "source": []
  }
 ],
 "metadata": {
  "kernelspec": {
   "display_name": "Python 3",
   "language": "python",
   "name": "python3"
  },
  "language_info": {
   "codemirror_mode": {
    "name": "ipython",
    "version": 3
   },
   "file_extension": ".py",
   "mimetype": "text/x-python",
   "name": "python",
   "nbconvert_exporter": "python",
   "pygments_lexer": "ipython3",
   "version": "3.7.6"
  }
 },
 "nbformat": 4,
 "nbformat_minor": 4
}
