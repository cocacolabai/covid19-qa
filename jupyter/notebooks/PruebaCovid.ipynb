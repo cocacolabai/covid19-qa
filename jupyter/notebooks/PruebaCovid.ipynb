{
 "cells": [
  {
   "cell_type": "code",
   "execution_count": 5,
   "metadata": {},
   "outputs": [],
   "source": [
    "# packages to store and manipulate data\n",
    "import pandas as pd\n",
    "import numpy as np\n",
    "\n",
    "# plotting packages\n",
    "import matplotlib.pyplot as plt\n",
    "# model building package\n",
    "import sklearn\n",
    "import os\n",
    "# package to clean text\n",
    "import re\n",
    "from datetime import datetime\n",
    "from elasticsearch import Elasticsearch\n",
    "es = Elasticsearch([{'host': 'elasticsearch-covid', 'port': 9200}])"
   ]
  },
  {
   "cell_type": "markdown",
   "metadata": {},
   "source": [
    "Elasticsearch tiene varios tipos de query en la que se calcula el score de diferentes maneras, hay que buscar la que mejor se ajusta al problema."
   ]
  },
  {
   "cell_type": "code",
   "execution_count": 6,
   "metadata": {},
   "outputs": [],
   "source": [
    "def serch_query_string(query,\n",
    "                         index_pattern='covid*',\n",
    "                         size=10,\n",
    "                         fragments=0,\n",
    "                         text_field='article_text'):\n",
    "    return es.search(\n",
    "        index=index_pattern,\n",
    "        body={\n",
    "            \"from\": 0, \"size\": size,         \n",
    "            \"query\": {\n",
    "                    \"query_string\" : {\n",
    "                        \"query\" : query,\n",
    "                        \"default_field\" : text_field,\n",
    "                        \"minimum_should_match\": 1\n",
    "                    }\n",
    "                },\n",
    "             \"highlight\": {\n",
    "                \"fields\": {\n",
    "                    \"*\": {}\n",
    "                },\n",
    "                \"number_of_fragments\": fragments,\n",
    "                 \"fragment_size\": 500,\n",
    "                 \"pre_tags\":[\"<strong><u>\"],\n",
    "                 \"post_tags\":[\"</u></strong>\"]\n",
    "            }\n",
    "        })['hits']['hits']"
   ]
  },
  {
   "cell_type": "code",
   "execution_count": 7,
   "metadata": {},
   "outputs": [],
   "source": [
    "from IPython.core.display import display, HTML\n",
    "def get(fragments,text):\n",
    "    for result in serch_query_string(text,fragments=fragments):\n",
    "        print('Score: {}'.format(result['_score']))\n",
    "        for fragment in result['highlight']['article_text']:\n",
    "            display(HTML(fragment))\n",
    "            print('__')\n",
    "        print()"
   ]
  },
  {
   "cell_type": "markdown",
   "metadata": {},
   "source": [
    "Además del score puede indicar donde hizo el match. Puede develver cierto número de fragmentos que contienen el match o el documento completo"
   ]
  },
  {
   "cell_type": "code",
   "execution_count": 8,
   "metadata": {
    "scrolled": true
   },
   "outputs": [],
   "source": [
    "get(3,'¿Cuánto demora el proceso de registro del test desarrollado por Udelar y el Institut Pasteur?')"
   ]
  },
  {
   "cell_type": "code",
   "execution_count": 9,
   "metadata": {
    "scrolled": true
   },
   "outputs": [],
   "source": [
    "get(0,'¿Cuánto demora el proceso de registro del test desarrollado por Udelar y el Institut Pasteur?')"
   ]
  },
  {
   "cell_type": "code",
   "execution_count": 10,
   "metadata": {},
   "outputs": [],
   "source": [
    "get(0,'¿Cuántos días habrían pasado desde que se iniciaron las medidas de aislamiento si se levantan después de Turismo?')"
   ]
  },
  {
   "cell_type": "code",
   "execution_count": null,
   "metadata": {},
   "outputs": [],
   "source": []
  },
  {
   "cell_type": "code",
   "execution_count": null,
   "metadata": {},
   "outputs": [],
   "source": []
  }
 ],
 "metadata": {
  "kernelspec": {
   "display_name": "Python 3",
   "language": "python",
   "name": "python3"
  },
  "language_info": {
   "codemirror_mode": {
    "name": "ipython",
    "version": 3
   },
   "file_extension": ".py",
   "mimetype": "text/x-python",
   "name": "python",
   "nbconvert_exporter": "python",
   "pygments_lexer": "ipython3",
   "version": "3.7.6"
  }
 },
 "nbformat": 4,
 "nbformat_minor": 4
}
