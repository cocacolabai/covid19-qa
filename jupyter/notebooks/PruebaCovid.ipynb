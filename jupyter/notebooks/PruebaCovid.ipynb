{
 "cells": [
  {
   "cell_type": "code",
   "execution_count": 1,
   "metadata": {},
   "outputs": [],
   "source": [
    "# packages to store and manipulate data\n",
    "import pandas as pd\n",
    "import numpy as np\n",
    "\n",
    "# plotting packages\n",
    "import matplotlib.pyplot as plt\n",
    "# model building package\n",
    "import sklearn\n",
    "import os\n",
    "# package to clean text\n",
    "import re\n",
    "from datetime import datetime\n",
    "from elasticsearch import Elasticsearch\n",
    "es = Elasticsearch([{'host': 'elasticsearch-covid', 'port': 9200}])"
   ]
  },
  {
   "cell_type": "markdown",
   "metadata": {},
   "source": [
    "Elasticsearch tiene varios tipos de query en la que se calcula el score de diferentes maneras, hay que buscar la que mejor se ajusta al problema."
   ]
  },
  {
   "cell_type": "code",
   "execution_count": 2,
   "metadata": {},
   "outputs": [],
   "source": [
    "def serch_query_string(query,\n",
    "                         index_pattern='covid*',\n",
    "                         size=10,\n",
    "                         fragments=0,\n",
    "                         text_field='article_text'):\n",
    "    return es.search(\n",
    "        index=index_pattern,\n",
    "        body={\n",
    "            \"from\": 0, \"size\": size,         \n",
    "            \"query\": {\n",
    "                    \"query_string\" : {\n",
    "                        \"query\" : query,\n",
    "                        \"default_field\" : text_field,\n",
    "                        \"minimum_should_match\": 1\n",
    "                    }\n",
    "                },\n",
    "             \"highlight\": {\n",
    "                \"fields\": {\n",
    "                    \"*\": {}\n",
    "                },\n",
    "                \"number_of_fragments\": fragments,\n",
    "                 \"fragment_size\": 500,\n",
    "                 \"pre_tags\":[\"<strong><u>\"],\n",
    "                 \"post_tags\":[\"</u></strong>\"]\n",
    "            }\n",
    "        })['hits']['hits']"
   ]
  },
  {
   "cell_type": "code",
   "execution_count": 3,
   "metadata": {},
   "outputs": [],
   "source": [
    "from IPython.core.display import display, HTML\n",
    "def get(fragments,text):\n",
    "    for result in serch_query_string(text,fragments=fragments):\n",
    "        print('Score: {}'.format(result['_score']))\n",
    "        for fragment in result['highlight']['article_text']:\n",
    "            display(HTML(fragment))\n",
    "            print('__')\n",
    "        print()"
   ]
  },
  {
   "cell_type": "markdown",
   "metadata": {},
   "source": [
    "Además del score puede indicar donde hizo el match. Puede develver cierto número de fragmentos que contienen el match o el documento completo"
   ]
  },
  {
   "cell_type": "code",
   "execution_count": 4,
   "metadata": {
    "scrolled": true
   },
   "outputs": [
    {
     "name": "stdout",
     "output_type": "stream",
     "text": [
      "Score: 19.320383\n"
     ]
    },
    {
     "data": {
      "text/html": [
       "También se señala que “el uso de este <strong><u>test</u></strong> diagnóstico <strong><u>desarrollado</u></strong> a nivel nacional permitirá no depender completamente de la compra de kits desde el exterior”."
      ],
      "text/plain": [
       "<IPython.core.display.HTML object>"
      ]
     },
     "metadata": {},
     "output_type": "display_data"
    },
    {
     "name": "stdout",
     "output_type": "stream",
     "text": [
      "__\n"
     ]
    },
    {
     "data": {
      "text/html": [
       "El texto, además, deja constancia de que la <strong><u>Udelar</u></strong> y el <strong><u>Institut</u></strong> Pasteur destinaron 70.000 dólares “para la compra de los insumos necesarios para el inicio de las actividades en el marco de este acuerdo” y para la etapa de inicio de los <strong><u>test</u></strong> en los centros antes mencionados -marcando el compromiso de la comunidad científica y académica ante la pandemia-."
      ],
      "text/plain": [
       "<IPython.core.display.HTML object>"
      ]
     },
     "metadata": {},
     "output_type": "display_data"
    },
    {
     "name": "stdout",
     "output_type": "stream",
     "text": [
      "__\n"
     ]
    },
    {
     "data": {
      "text/html": [
       "Con la firma de este acuerdo, la <strong><u>Udelar</u></strong> y el <strong><u>Institut</u></strong> Pasteur hacen la trasferencia del <strong><u>test</u></strong> que desarrollaron y podrá entonces realizarse en las instituciones mencionadas, aumentando así, antes de esperar a que se termine el <strong><u>proceso</u></strong> de <strong><u>registro</u></strong> del procedimiento, la capacidad de detección de casos de Covid-19 en el país."
      ],
      "text/plain": [
       "<IPython.core.display.HTML object>"
      ]
     },
     "metadata": {},
     "output_type": "display_data"
    },
    {
     "name": "stdout",
     "output_type": "stream",
     "text": [
      "__\n",
      "\n",
      "Score: 3.4270847\n"
     ]
    },
    {
     "data": {
      "text/html": [
       "<strong><u>Institut</u></strong> Pasteur completó la secuencia de los genomas del nuevo coronavirus en diez pacientes uruguayos con Covid-19\n",
       "30 de marzo de 2020 | Ciencia y coronavirus\n",
       "La investigación permitirá saber de dónde provienen las cepas que ingresaron a Uruguay.\n",
       "El <strong><u>Institut</u></strong> Pasteur de Montevideo anunció que completó la secuencia de los primeros genomas de SARS-CoV-2, más conocido como el nuevo coronavirus, en diez pacientes con la enfermedad Covid-19 en Uruguay."
      ],
      "text/plain": [
       "<IPython.core.display.HTML object>"
      ]
     },
     "metadata": {},
     "output_type": "display_data"
    },
    {
     "name": "stdout",
     "output_type": "stream",
     "text": [
      "__\n"
     ]
    },
    {
     "data": {
      "text/html": [
       "<strong><u>Institut</u></strong> Pasteur Mvd\n",
       "@IPMontevideo\n",
       "#AHORA: En @IPMontevideo secuenciamos los primeros genomas completos de #SARS_COV_2 de 10 pacientes con #Covid_19 en Uruguay. El estudio fue liderado por @goyoiraola junto a Pilar Moreno y @gonzamoratorio  usando tecnología @nanopore."
      ],
      "text/plain": [
       "<IPython.core.display.HTML object>"
      ]
     },
     "metadata": {},
     "output_type": "display_data"
    },
    {
     "name": "stdout",
     "output_type": "stream",
     "text": [
      "__\n",
      "\n",
      "Score: 3.3902993\n"
     ]
    },
    {
     "data": {
      "text/html": [
       "Ministerio de Salud incorporó el diagnóstico confirmatorio de Covid-19 al PIAS\n",
       "26 de marzo de 2020 | Coronavirus | Foto: Ernesto Ryan\n",
       "ASSE y los prestadores integrales del SNIS deberán asumir la realización de <strong><u>test</u></strong>."
      ],
      "text/plain": [
       "<IPython.core.display.HTML object>"
      ]
     },
     "metadata": {},
     "output_type": "display_data"
    },
    {
     "name": "stdout",
     "output_type": "stream",
     "text": [
      "__\n"
     ]
    },
    {
     "data": {
      "text/html": [
       "Por último, agrega que “sólo aquellos casos clínicos en que el resultado del <strong><u>test</u></strong> sea positivo serán considerados como caso confirmado Covid-19”.\n",
       "Esta comunicación fue difundida esta mañana por el Sindicato Médico del Uruguay; está firmada por el director general de la Salud, Miguel Asqueta, y por el presidente de la Junta Nacional de Salud, Luis González Machado."
      ],
      "text/plain": [
       "<IPython.core.display.HTML object>"
      ]
     },
     "metadata": {},
     "output_type": "display_data"
    },
    {
     "name": "stdout",
     "output_type": "stream",
     "text": [
      "__\n"
     ]
    },
    {
     "data": {
      "text/html": [
       "Esto parece aclararse ahora con este segundo comunicado. la diaria intentó sin éxito comunicarse con autoridades del MSP para conocer cómo instrumentarán esta solicitud las instituciones que no tienen capacidad por el momento de hacer los <strong><u>test</u></strong> y <strong><u>cuánto</u></strong> puede costar hacerle los estudios a cada diagnóstico presuntivo, algo que no estaba previsto en el plan inicial."
      ],
      "text/plain": [
       "<IPython.core.display.HTML object>"
      ]
     },
     "metadata": {},
     "output_type": "display_data"
    },
    {
     "name": "stdout",
     "output_type": "stream",
     "text": [
      "__\n",
      "\n",
      "Score: 2.6989446\n"
     ]
    },
    {
     "data": {
      "text/html": [
       "Es a partir de esos datos que realizo el siguiente análisis.\n",
       "\n",
       "1) Los casos confirmados\n",
       "Temporalmente, los primeros datos que aparecen por país se refieren a casos de personas a las que se les ha hecho un <strong><u>test</u></strong> epidemiológico y dan positivo para Covid-19, y figuran como casos confirmados. Con el avance de la epidemia, algunos países cambian la estrategia de confirmación de casos infectados, y en algunos casos sólo se aplica el <strong><u>test</u></strong> epidemiológico a ciertos grupos dentro de la población."
      ],
      "text/plain": [
       "<IPython.core.display.HTML object>"
      ]
     },
     "metadata": {},
     "output_type": "display_data"
    },
    {
     "name": "stdout",
     "output_type": "stream",
     "text": [
      "__\n"
     ]
    },
    {
     "data": {
      "text/html": [
       "Sumado a este problema, está la diversidad y confiabilidad de los <strong><u>test</u></strong> en uso; y como analizamos una evolución temporal, también importan los distintos tiempos de obtención de resultados entre los <strong><u>test</u></strong> más confiables (PCR) y los <strong><u>test</u></strong> rápidos. Por tanto, el primer problema que se presenta para el análisis de estos datos se relaciona con el grado de completitud, representatividad y consistencias de las muestras."
      ],
      "text/plain": [
       "<IPython.core.display.HTML object>"
      ]
     },
     "metadata": {},
     "output_type": "display_data"
    },
    {
     "name": "stdout",
     "output_type": "stream",
     "text": [
      "__\n"
     ]
    },
    {
     "data": {
      "text/html": [
       "En los países de nuestra región, es muy temprano, en <strong><u>cuanto</u></strong> al desarrollo de la epidemia, como para evaluar las diferentes estrategias que están siguiendo los distintos países.\n",
       "\n",
       "6) ¿<strong><u>Cuánto</u></strong> tiempo?\n",
       "La proyección de la evolución futura en los casos se puede intentar hacer con los modelos matemáticos antes descriptos, pero los niveles de incertidumbre son muy grandes porque dependen de las acciones que se vayan desarrollando.\n",
       "\n",
       "Algunos resultados a tomar en cuenta son los siguientes."
      ],
      "text/plain": [
       "<IPython.core.display.HTML object>"
      ]
     },
     "metadata": {},
     "output_type": "display_data"
    },
    {
     "name": "stdout",
     "output_type": "stream",
     "text": [
      "__\n",
      "\n",
      "Score: 2.2033873\n"
     ]
    },
    {
     "data": {
      "text/html": [
       "En la conferencia de prensa de este viernes, el secretario de Presidencia, Álvaro Delgado, anunció que se hicieron 451 nuevos <strong><u>test</u></strong> de diagnóstico de coronavirus, de los cuales 415 dieron negativos y 36 positivos, con lo cual Uruguay pasa a tener un total de 274 casos en total. De ellos, 233 están en domicilio, 15 internados en sala, dos en cuidados intermedios y cuatro en CTI.\n",
       "\n",
       "Delgado también fue consultado sobre las propuestas que presentó este viernes el Frente Amplio."
      ],
      "text/plain": [
       "<IPython.core.display.HTML object>"
      ]
     },
     "metadata": {},
     "output_type": "display_data"
    },
    {
     "name": "stdout",
     "output_type": "stream",
     "text": [
      "__\n"
     ]
    },
    {
     "data": {
      "text/html": [
       "En <strong><u>cuanto</u></strong> a lo sanitario, se trabaja para abastecer el sistema de salud para esta etapa y la siguiente, “que seguramente va a ser más aguda, a juzgar por lo que vemos en otros países”. Respecto de lo social, se busca “cubrir a la población más vulnerable”.\n",
       "\n",
       "Con respecto a los aportes de los funcionarios, tal como adelantó el presidente Luis Lacalle Pou el jueves, habrá dos mecanismos diferentes."
      ],
      "text/plain": [
       "<IPython.core.display.HTML object>"
      ]
     },
     "metadata": {},
     "output_type": "display_data"
    },
    {
     "name": "stdout",
     "output_type": "stream",
     "text": [
      "__\n",
      "\n",
      "Score: 2.0553517\n"
     ]
    },
    {
     "data": {
      "text/html": [
       "El trabajo fue posible \"por el enorme esfuerzo de las científicas Cecilia Salazar y Florencia Díaz, del Instituto Pasteur\", que dedicaron todo el fin de semana a poner a punto el protocolo de secuenciación <strong><u>desarrollado</u></strong> por Artic Network, \"usado y validado en todo el mundo\", señalaron desde el Pasteur."
      ],
      "text/plain": [
       "<IPython.core.display.HTML object>"
      ]
     },
     "metadata": {},
     "output_type": "display_data"
    },
    {
     "name": "stdout",
     "output_type": "stream",
     "text": [
      "__\n",
      "\n",
      "Score: 1.7947996\n"
     ]
    },
    {
     "data": {
      "text/html": [
       "Junto con su esposa, Susana Rodríguez Varese, se enfocaron en el aporte de los guaraníes a la cultura del país y publicaron tres obras: Contribución al estudio de la influencia guaraní en la formación de la sociedad uruguaya (1982), El <strong><u>proceso</u></strong> de aculturación de los guaraníes-misioneros en el Uruguay (1988) y Los Guaraníes Misioneros en la Formación de la Sociedad Uruguaya (1988)."
      ],
      "text/plain": [
       "<IPython.core.display.HTML object>"
      ]
     },
     "metadata": {},
     "output_type": "display_data"
    },
    {
     "name": "stdout",
     "output_type": "stream",
     "text": [
      "__\n",
      "\n",
      "Score: 1.2444594\n"
     ]
    },
    {
     "data": {
      "text/html": [
       "En <strong><u>cuanto</u></strong> a las consecuencias del virus, Mujica recordó que este mal llega en un momento en el que hay un gigantesco \"nivel de deuda acumulado en el mundo entero\", algo que es \"consecuencia\" inexorable \"de esta etapa del capitalismo consumista\", que genera \"una civilización de deuda\".\n",
       "\n",
       "Ahora, y con esta pandemia sobre la mesa \"se va a resentir el mercado mundial\", con un desplome de las empresas, las economías y los intercambios."
      ],
      "text/plain": [
       "<IPython.core.display.HTML object>"
      ]
     },
     "metadata": {},
     "output_type": "display_data"
    },
    {
     "name": "stdout",
     "output_type": "stream",
     "text": [
      "__\n",
      "\n",
      "Score: 1.1844817\n"
     ]
    },
    {
     "data": {
      "text/html": [
       "El presidente, Luis Lacalle Pou, informó en conferencia de prensa este lunes que en las últimas 24 horas dieron positivo solo cuatro de los 211 <strong><u>test</u></strong> de diagnóstico de Covid-19 que se aplicaron. De esta forma, llega a 162 el total de casos de coronavirus en Uruguay, de los cuales tres están internados, dos en cuidados moderados y uno en intensivo.\n",
       "Aún así, el mandatario exhortó a los uruguayos a “extremar las medidas” y permanecer en sus casas."
      ],
      "text/plain": [
       "<IPython.core.display.HTML object>"
      ]
     },
     "metadata": {},
     "output_type": "display_data"
    },
    {
     "name": "stdout",
     "output_type": "stream",
     "text": [
      "__\n",
      "\n",
      "Score: 1.0313272\n"
     ]
    },
    {
     "data": {
      "text/html": [
       "Acto seguido, informó que se hicieron 245 <strong><u>test</u></strong> de coronavirus y 21 resultaron positivos, por lo tanto, los casos confirmados de la enfermedad en Uruguay ascienden a 238.\n",
       "Más adelante, el ministro de Salud Pública, Daniel Salinas, detalló que hay 18 personas internadas por coronavirus, de las cuales 12 están en sala común, dos en cuidados intermedios y cuatro en CTI. “Hasta el momento, ningún fallecido”, enfatizó el jerarca."
      ],
      "text/plain": [
       "<IPython.core.display.HTML object>"
      ]
     },
     "metadata": {},
     "output_type": "display_data"
    },
    {
     "name": "stdout",
     "output_type": "stream",
     "text": [
      "__\n"
     ]
    },
    {
     "data": {
      "text/html": [
       "Además, indicó que se hicieron 130 <strong><u>test</u></strong> a trabajadores de la salud, de los que 13 dieron positivos ‒e integran la lista total de casos ‒.\n",
       "El “fondo coronavirus” y cómo se financia\n",
       "Yendo al plato fuerte de la conferencia, Lacalle Pou se refirió a las nuevas medidas impulsadas por el gobierno, entre las que está la creación del “fondo coronavirus” para “seguir haciendo frente a las erogaciones”, y adelantó que “no va a alcanzar” para los gastos que tienen planificados."
      ],
      "text/plain": [
       "<IPython.core.display.HTML object>"
      ]
     },
     "metadata": {},
     "output_type": "display_data"
    },
    {
     "name": "stdout",
     "output_type": "stream",
     "text": [
      "__\n",
      "\n"
     ]
    }
   ],
   "source": [
    "get(3,'¿Cuánto demora el proceso de registro del test desarrollado por Udelar y el Institut Pasteur?')"
   ]
  },
  {
   "cell_type": "code",
   "execution_count": 5,
   "metadata": {
    "scrolled": true
   },
   "outputs": [
    {
     "name": "stdout",
     "output_type": "stream",
     "text": [
      "Score: 19.320383\n"
     ]
    },
    {
     "data": {
      "text/html": [
       "<strong><u>Udelar</u></strong>, <strong><u>Institut</u></strong> Pasteur y MSP firmaron el acuerdo de cooperación que aumenta la capacidad de testeo de Covid-19 a unas 1.000 muestras diarias\n",
       "27 de marzo de 2020 | En Uruguay\n",
       "El acuerdo permite poner en marcha el diagnóstico en varios centros públicos con el método <strong><u>desarrollado</u></strong> por los investigadores, antes de su validación final y de la fabricación de kits, lo que redundará en un inmediato aumento de la capacidad de detección de Covid-19.\n",
       "\n",
       "El Ministro de Salud Pública, Daniel Salinas, el director del <strong><u>Institut</u></strong> Pasteur de Montevideo, Carlos Batthyány, y el rector de la Universidad de la República, Rodrigo Arim, firmaron finalmente el acuerdo que permitirá avanzar en la capacidad de diagnóstico de Covid-19 gracias al desarrollo de investigadoras e investigadoras del Laboratorio de Virología Molecular de la Facultad de Ciencias de la <strong><u>Udelar</u></strong> y del Laboratorio de Evolución y Experimentación de Virus del <strong><u>Institut</u></strong> Pasteur.\n",
       "\n",
       "En el acuerdo, se reconoce que ambos laboratorios “ajustaron un procedimiento para detectar SARS-CoV-2 en muestras clínicas humanas, de acuerdo a estándares internacionales y con menor costo que reactivos disponibles comercialmente, con resultados exitosos a nivel de ensayos de laboratorio”. También se señala que “el uso de este <strong><u>test</u></strong> diagnóstico <strong><u>desarrollado</u></strong> a nivel nacional permitirá no depender completamente de la compra de kits desde el exterior”.\n",
       "\n",
       "Dado el interés del Ministerio de Salud Pública (MSP) “en el uso del procedimiento de detección mencionado” y en “el desarrollo de un kit diagnóstico para el estudio del agente causal de la enfermedad COovid-19”, y dado que “la <strong><u>Udelar</u></strong> y el IP Montevideo están dispuestos a realizar todos los esfuerzos necesarios para desarrollar, validar y registrar el mencionado kit” es que se firma el acuerdo de las condiciones para dicha colaboración.\n",
       "\n",
       "En el documento se reconoce que “el procedimiento de diagnóstico fue <strong><u>desarrollado</u></strong> por <strong><u>Udelar</u></strong> y el IP Montevideo” y describe que tiene dos grandes pasos: “1) Extracción de ARN a partir de las muestras de pacientes y 2) Transcripción reversa y amplificación de genes virales blancos en tiempo real”.\n",
       "\n",
       "También se establece que “en tanto se obtenga el <strong><u>registro</u></strong> del kit, el <strong><u>Institut</u></strong> Pasteur y la <strong><u>Udelar</u></strong> se comprometen a suministrar el Procedimiento de diagnóstico para su uso a los laboratorios clínicos del Hospital de Clínicas y el Laboratorio de Virología Molecular - Centro Universitario Regional Litoral Norte - sede Salto de la <strong><u>Udelar</u></strong>; Hospital Maciel y Hospital Pasteur, a efectos de que los mismos realicen los ensayos de diagnóstico de Covid-19 en muestras de la población uruguaya” y también a realizarlo.\n",
       "\n",
       "El texto, además, deja constancia de que la <strong><u>Udelar</u></strong> y el <strong><u>Institut</u></strong> Pasteur destinaron 70.000 dólares “para la compra de los insumos necesarios para el inicio de las actividades en el marco de este acuerdo” y para la etapa de inicio de los <strong><u>test</u></strong> en los centros antes mencionados -marcando el compromiso de la comunidad científica y académica ante la pandemia-.\n",
       "\n",
       "Por su parte, el MSP se compromete a “articular entre el Laboratorio Central del MSP y la <strong><u>Udelar</u></strong> - IP Montevideo para validar el Procedimiento de diagnóstico de Covid-19 así como las evaluaciones necesarias hasta su <strong><u>registro</u></strong> y/o autorización”, “autorizar transitoriamente la utilización del Procedimiento de diagnóstico en los laboratorios mencionados hasta tanto se obtenga el <strong><u>registro</u></strong> del kit” y a “autorizar al Laboratorio de Virología Molecular de la sede Salto de la <strong><u>Udelar</u></strong> para realizar los ensayos de diagnóstico de Covid-19 en muestras de la población uruguaya”.\n",
       "\n",
       "Con la firma de este acuerdo, la <strong><u>Udelar</u></strong> y el <strong><u>Institut</u></strong> Pasteur hacen la trasferencia del <strong><u>test</u></strong> que desarrollaron y podrá entonces realizarse en las instituciones mencionadas, aumentando así, antes de esperar a que se termine el <strong><u>proceso</u></strong> de <strong><u>registro</u></strong> del procedimiento, la capacidad de detección de casos de Covid-19 en el país. Para ello, se han organizado turnos de estudiantes de posgrado e investigadores jóvenes de la Facultad de Ciencias y del <strong><u>Institut</u></strong> Pasteur que permitirán procesar en el país aproximadamente unas 1.000 muestras diarias al sumarse las realizadas en el <strong><u>Institut</u></strong> Pasteur, el laboratorio de Salto y el Hospital de Clínicas de la <strong><u>Udelar</u></strong> y los hospitales Maciel y Pasteur."
      ],
      "text/plain": [
       "<IPython.core.display.HTML object>"
      ]
     },
     "metadata": {},
     "output_type": "display_data"
    },
    {
     "name": "stdout",
     "output_type": "stream",
     "text": [
      "__\n",
      "\n",
      "Score: 3.4270847\n"
     ]
    },
    {
     "data": {
      "text/html": [
       "<strong><u>Institut</u></strong> Pasteur completó la secuencia de los genomas del nuevo coronavirus en diez pacientes uruguayos con Covid-19\n",
       "30 de marzo de 2020 | Ciencia y coronavirus\n",
       "La investigación permitirá saber de dónde provienen las cepas que ingresaron a Uruguay.\n",
       "El <strong><u>Institut</u></strong> Pasteur de Montevideo anunció que completó la secuencia de los primeros genomas de SARS-CoV-2, más conocido como el nuevo coronavirus, en diez pacientes con la enfermedad Covid-19 en Uruguay. Los científicos uruguayos lograron determinar la secuencia en menos de 24 horas, publicó el instituto en su cuenta oficial de Twitter.\n",
       "\n",
       "\n",
       "<strong><u>Institut</u></strong> Pasteur Mvd\n",
       "@IPMontevideo\n",
       "#AHORA: En @IPMontevideo secuenciamos los primeros genomas completos de #SARS_COV_2 de 10 pacientes con #Covid_19 en Uruguay. El estudio fue liderado por @goyoiraola junto a Pilar Moreno y @gonzamoratorio  usando tecnología @nanopore. En este #Hilo te contamos por qué es útil:\n",
       "\n",
       "Video insertado\n",
       "2.420\n",
       "19:14 - 29 mar. 2020\n",
       "Información y privacidad de Twitter Ads\n",
       "1.248 personas están hablando de esto\n",
       "En su perfil de la red social, el instituto explicó que el análisis de los genomas del virus permitirá “saber de dónde provienen las cepas que ingresaron a Uruguay”, “cuándo llegaron”, “si hay diferentes variantes” del nuevo coronavirus en el país y otros aspectos.\n",
       "Se espera que esta investigación aporte en la gestión del cierre de fronteras y permita discernir el tipo de variante del virus. Hasta hoy se conocen tres de esas variantes (V, G y S); “cuando se sepa el efecto de cada una en la salud (por ejemplo, si alguna causa infecciones más severas), el análisis ayudaría a gestionar la atención sanitaria”.\n",
       "\n",
       "Además, en el “momento de ingreso a Uruguay, ayuda a determinar si efectivamente entró cuando aparecieron los primeros casos o ya estaba antes; conocer los tiempos epidemiológicos es fundamental para ver si las medidas de control se tomaron a tiempo, por ejemplo”, plantea el instituto. En ese sentido, los científicos destacan el hecho de que los genomas se hayan secuenciado en menos de 24 horas “gracias a tecnología de vanguardia” que “permite obtener información del comportamiento epidemiológico casi en tiempo real durante el transcurso de una epidemia”."
      ],
      "text/plain": [
       "<IPython.core.display.HTML object>"
      ]
     },
     "metadata": {},
     "output_type": "display_data"
    },
    {
     "name": "stdout",
     "output_type": "stream",
     "text": [
      "__\n",
      "\n",
      "Score: 3.3902993\n"
     ]
    },
    {
     "data": {
      "text/html": [
       "Ministerio de Salud incorporó el diagnóstico confirmatorio de Covid-19 al PIAS\n",
       "26 de marzo de 2020 | Coronavirus | Foto: Ernesto Ryan\n",
       "ASSE y los prestadores integrales del SNIS deberán asumir la realización de <strong><u>test</u></strong>.\n",
       "El Ministerio de Salud Pública (MSP) resolvió ayer incluir el <strong><u>test</u></strong> diagnóstico de Covid-19 en el Plan Integral de Atención a la Salud (más conocido por su sigla, PIAS), que dispone las prestaciones obligatorias que tienen que dar las instituciones que forman parte del Sistema Nacional Integrado de Salud. Los estudios diagnósticos que deberán dar los prestadores de salud son por la técnica de PCR (reacción en cadena de la polimerasa), que es la misma que utiliza el laboratorio del MSP.\n",
       "De acuerdo a la comunicación que envió el MSP a las direcciones técnicas de los prestadores del SNIS, las instituciones deberán asumir la realización de estos estudios “que sean indicados por médico tratante y autorizados por la Dirección Técnica, en aquellos pacientes con diagnóstico clínico presuntivo fundado de Covid-19”.\n",
       "El texto aclara que se considera “diagnóstico presuntivo” a un “paciente con fiebre y síntomas respiratorios agudos, sin otra causa evidente que lo justifique, haya tenido o no contacto con caso confirmado de Covid-19 y/o retornado de zona de circulación comunitaria del virus; o paciente con Infección Respiratoria Aguda Grave (IRAG)”.\n",
       "Por último, agrega que “sólo aquellos casos clínicos en que el resultado del <strong><u>test</u></strong> sea positivo serán considerados como caso confirmado Covid-19”.\n",
       "Esta comunicación fue difundida esta mañana por el Sindicato Médico del Uruguay; está firmada por el director general de la Salud, Miguel Asqueta, y por el presidente de la Junta Nacional de Salud, Luis González Machado.\n",
       "El martes se conoció que el MSP había enviado a las instituciones de salud un comunicado de la Dirección de Epidemiología en el que decía que el Departamento de Laboratorios de Salud Pública dejaría de hacer los <strong><u>test</u></strong> diagnósticos de Covid-19 a las personas que, aun teniendo síntomas de la enfermedad y sospechas de haber tenido contacto con personas con Covid-19, no revistieran gravedad.\n",
       "De acuerdo a este texto, la decisión se fundamenta en que está demostrado que el virus ya tiene una circulación comunitaria, es decir, que está más allá de los brotes iniciales; tanto el plan de respuesta del gobierno actual como del anterior preveía limitar los diagnósticos cuando hubiera circulación comunitaria a los casos más graves, por un tema de capacidad del procesamiento de muestras -se entiende que el virus ya circula ampliamente- y porque en la gran mayoría de los casos el tratamiento para Covid-19 es el mismo que para una gripe.\n",
       "Esa comunicación decía que el laboratorio del MSP continuaría haciendo los diagnósticos de personas con IRAG y del personal de salud, bomberos, policías y militares, además de los estudios de infecciones respiratorias registrados en seis centros centinela.\n",
       "En la conferencia de prensa del martes de noche, el ministro de Salud, Daniel Salinas, negó que se restringieran los estudios a los casos más leves, y aseguró que se harían más estudios.\n",
       "Ayer, antes de que se emitiera esta comunicación, la diaria supo que varias instituciones de salud no sabían cómo proceder porque hasta el momento sólo habían recibido la comunicación del lunes. Esto parece aclararse ahora con este segundo comunicado. la diaria intentó sin éxito comunicarse con autoridades del MSP para conocer cómo instrumentarán esta solicitud las instituciones que no tienen capacidad por el momento de hacer los <strong><u>test</u></strong> y <strong><u>cuánto</u></strong> puede costar hacerle los estudios a cada diagnóstico presuntivo, algo que no estaba previsto en el plan inicial."
      ],
      "text/plain": [
       "<IPython.core.display.HTML object>"
      ]
     },
     "metadata": {},
     "output_type": "display_data"
    },
    {
     "name": "stdout",
     "output_type": "stream",
     "text": [
      "__\n",
      "\n",
      "Score: 2.6989446\n"
     ]
    },
    {
     "data": {
      "text/html": [
       "¿Que nos permiten decir los datos actuales de la Covid-19 sobre lo que nos espera?\n",
       "28 de marzo de 2020 | Escribe: Gonzalo Tancredi en Comunidad científica\n",
       "Ciencia en primera persona es un espacio abierto para que científicos y científicas reflexionen sobre el mundo y sus particularidades. Los esperamos en ciencia@ladiaria.com.uy.\n",
       "\n",
       "Primero, una advertencia. Quien escribe estas notas no es epidemiólogo, infectólogo o siquiera un bioestadístico, sino un investigador en Astronomía, con experiencia en el tratamiento y modelización de datos de diverso tipo. Tengo un profuso trabajo y estudio de catástrofes globales, especialmente de origen astronómico, pero no experiencia en el análisis de pandemias. Desde esa perspectiva he querido hacer una contribución que intenta dar visualización a datos disponibles en la red, para poner en evidencia las diferentes tendencias en la evolución de la Covid-19 y utilizar mi experiencia para extraer algo de ellas.\n",
       "\n",
       "La epidemia de la Covid-19 comienza a desarrollarse en la ciudad de Wuhan, capital de la provincia de Hubei, China, sobre fines de diciembre de 2019. La primera aparición pública ocurre el 31 de ese mes, cuando funcionarios de salud chinos informaron a la Organización Mundial de la Salud (OMS) sobre un grupo de 41 pacientes con una misteriosa neumonía. La mayoría de los pacientes están conectados al mercado mayorista de mariscos de Huanan. De ahí en más, comenzó una acelerada serie de sucesos: el 7 de enero las autoridades chinas identifican un nuevo tipo de coronavirus (al que luego se denomina SARS-CoV-2); el 11 de enero se registra la primera muerte en Wuhan; el 13 de enero comienza la dispersión de la epidemia a nivel mundial con el primer caso de coronavirus fuera de China, en Tailandia; y el 2 de febrero la primera muerte fuera de China, en Filipinas. El 23 de enero las autoridades chinas adoptan una estricta cuarentena en la ciudad de Wuhan, que se extiende en los días siguientes a toda la provincia de Hubei. El 11 de febrero la OMS anuncia que se ha designado a la nueva epidemia coronavirus como Covid-19. El 19 y 21 de febrero se reportan los primeros casos de Covid-19 en Irán e Italia, respectivamente.\n",
       "\n",
       "Según la base de datos de la OMS, desde enero al día de hoy se han publicado más de 2.500 artículos científicos relativos al coronavirus. Varios organismos están recopilando datos estadísticos de la evolución global de casos confirmados de contagio y de muertes asociadas a la Covid-19. Uno de los sitios web más completos y visualmente más amigable es el que proporciona el Center for Systems Science and Engineering de la Johns Hopkins University. Se proporciona una información actualizada del número de casos de contagios confirmados, número de muertes y de pacientes recuperados, en el mundo y por país. Hay un mapa de “calor” mundial, con círculos de diverso tamaño según el número de casos confirmados por país. Además, se proporciona un link con los datos que se usan para la confección de las tablas y mapas, donde aparece el detalle día a día desde el 22 de enero de 2020. Es a partir de esos datos que realizo el siguiente análisis.\n",
       "\n",
       "1) Los casos confirmados\n",
       "Temporalmente, los primeros datos que aparecen por país se refieren a casos de personas a las que se les ha hecho un <strong><u>test</u></strong> epidemiológico y dan positivo para Covid-19, y figuran como casos confirmados. Con el avance de la epidemia, algunos países cambian la estrategia de confirmación de casos infectados, y en algunos casos sólo se aplica el <strong><u>test</u></strong> epidemiológico a ciertos grupos dentro de la población. Sumado a este problema, está la diversidad y confiabilidad de los <strong><u>test</u></strong> en uso; y como analizamos una evolución temporal, también importan los distintos tiempos de obtención de resultados entre los <strong><u>test</u></strong> más confiables (PCR) y los <strong><u>test</u></strong> rápidos. Por tanto, el primer problema que se presenta para el análisis de estos datos se relaciona con el grado de completitud, representatividad y consistencias de las muestras. El caso positivo aparece luego de testear un mayor número de potenciales casos, ya sea de gente que presenta síntomas compatibles, o una muestra más global. Pero es sabido que el número de casos confirmados es siempre menor al número de casos totales de personas efectivamente contagiadas. No obstante, ante la falta de otras bases de datos más confiables, haremos un análisis estadístico de las series temporales antes mencionadas, que cuentan con la más completa y actualizada base de datos.\n",
       "\n",
       "Para la fecha del análisis (26 de marzo) se contabilizaban en el mundo más de medio millón de casos confirmados (510.108) en 174 países, con las salvedades que se comentaban en el párrafo anterior. Se presenta un análisis de la evolución temporal de los casos confirmados para un conjunto seleccionado de países. Se optó por analizar por separado el caso de la provincia de Hubei y no incluir el caso de China en su conjunto, ya que, como se muestra más abajo, la evolución que tuvo la epidemia en esa región fue bien distinta a la del resto del país. Además, para el caso de Hubei se incluyeron datos anteriores al 22 de enero (datos iniciales).\n",
       "\n",
       "La evolución temporal se muestra en la figura 2, donde se grafica el número cumulativo de casos desde el inicio de la epidemia y el número de casos por día (suavizados con una ventana de siete días) en función del tiempo (desde el 1° de enero). Nótese que es un gráfico logarítmico en el eje y. En términos matemáticos, el número de casos por día se puede considerar como la derivada del número cumulativo de casos. Todos los casos muestran un comportamiento aproximadamente lineal al inicio de la epidemia local en el gráfico semilogarítmico; lo que denota un aumento del número de casos de tipo exponencial (N=a exp (-st); donde N es el número cumulativo de casos, a es una constante, t es el tiempo y s es el factor exponencial). Un comportamiento exponencial también se puede interpretar como una duplicación en el número total de casos registrados cada un cierto número de días (ese número de días T se puede calcular como T=ln 2/s, logaritmo neperiano). Lo que nos permiten ver estos datos y gráficos es que el comportamiento exponencial generalmente se mantiene en los primeros diez a 20 días desde la identificación de los primeros casos, mientras que el factor exponencial implica una duplicación de casos cada entre dos y 3,5 días (s tiene un valor entre 0,2 y 0,4).\n",
       "\n",
       "FIGURA 2. a) Número cumulativo de casos confirmados desde el 1° de enero. b) Número de casos\n",
       "confirmados por día, suavizados con una ventana de siete días. Escala logarítmica en el eje y.\n",
       "FIGURA 2. a) Número cumulativo de casos confirmados desde el 1° de enero. b) Número de casos confirmados por día, suavizados con una ventana de siete días. Escala logarítmica en el eje y.\n",
       "Para los países donde la epidemia ha avanzado más, la curva tiende a aplanarse luego de la primera fase exponencial. El gráfico del número de casos confirmados por día muestra una primera fase incremental, y en los casos más evolucionados, se alcanza un pico, para luego comenzar a disminuir. Esto es lo que se observa claramente para el caso de Hubei, y en cierta forma para Corea del Sur. Pero nótese que en el caso de Corea del Sur, si bien se observa el aplanamiento, no se continúa la tendencia de caída del número de casos por día más allá del día 70. Esto marca un enlentecimiento en la propagación de la epidemia en Corea del Sur, pero no su total anulación. Para el caso de Irán, se observa una clara separación del comportamiento exponencial y una tendencia a alcanzar el pico en el número de casos por día. Italia tiene una incipiente separación del comportamiento exponencial en los últimos días, pero está lejos aún de tender a un achatamiento. El resto de los países europeos todavía continúa en la fase exponencial.\n",
       "\n",
       "En los países latinoamericanos la epidemia comenzó a desarrollarse unos 15 días después que en el sur de Europa (principios de marzo). Todos los países en fase exponencial presentan una duplicación de casos entre dos y 3,5 días.\n",
       "\n",
       "La fracción de casos confirmados con relación a la población total respectiva presenta grandes variaciones según cada país, como se observa en la figura 3. Las fracciones más altas (del orden de un caso confirmado cada 1.000 habitantes) se alcanzan en Hubei e Italia, con la salvedad de que en Italia esa fracción seguramente será más alta. Se seleccionaron algunos casos para mostrar realidades diversas. Por un lado están los casos con altas fracciones como Hubei, Italia y España. Irán y Corea del Sur se encuentran en una situación intermedia, y en vistas de las tendencias de los últimos días, no es esperable que haya un aumento considerable. Alemania tuvo un inicio en la propagación de la epidemia casi simultáneo con España, con un número similar total de casos en el presente, pero con una fracción de población menor. En América Latina, los casos más comprometidos son los de Chile, Uruguay y Ecuador, con una fracción de casos confirmados respecto de su población que es cuatro o cinco veces superior que la de Argentina, Brasil o Perú. No obstante, este resultado se debe tomar con cautela por el problema de completitud y representatividad de las muestras.\n",
       "\n",
       "FIGURA 3. a) Fracción de casos confirmados con relación a la población total al 27 de marzo.\n",
       "b) Selección de algunos casos. Escala logarítmica en el eje y\n",
       "FIGURA 3. a) Fracción de casos confirmados con relación a la población total al 27 de marzo. b) Selección de algunos casos. Escala logarítmica en el eje y\n",
       "El caso de Uruguay merece un detalle especial, por nuestro interés particular, pero también por su peculiaridad. Uruguay tuvo un aumento abrupto del número de casos confirmados en los cinco primeros días, con una pendiente muy superior respecto del resto de los países. La causa de este fenómeno está asociada al gran número de contagios generado a partir del casamiento ocurrido el 6 de marzo. Este efecto, al que podemos denominar “efecto Carmela”, ya que la portadora inicial fue Carmela Hontou, tuvo como consecuencia una fracción de casos confirmados respecto de la población total excepcionalmente alta para la región, lo que implica partir de un piso más alto para la propagación local. Si bien no son públicas las cifras de casos confirmados a partir de este caso, se ha manejado en algunos reportes de prensa que más de 50 casos están asociados directamente a este vector, un número mucho mayor que la tasa promedio de contagio de entre dos y tres personas infectadas por cada portador estimada por la OMS. Luego de esta fase inicial, el ritmo de contagios en Uruguay ha disminuido a una tasa de duplicación cada cerca de cuatro a cinco días.\n",
       "\n",
       "Otro dato relevante es una comparación entre la fracción de casos confirmados con respecto a la población entre los países de América del Sur y de África, donde típicamente este parámetro es diez veces superior en los países de nuestra región frente a los países africanos. La llegada más tardía de la epidemia a África respecto de América del Sur está asociada a la mayor conexión de nuestra región con los países europeos más afectados (Italia y España).\n",
       "\n",
       "2) Las muertes\n",
       "A continuación se analizan las series temporales del número de muertes, que se muestran en la figura 4. Considerando el mecanismo de recolección de reportes, los datos referidos al número de muertes deberían contar con un más alto nivel de completitud. El principal cuestionamiento puede ser la validez de asociar la muerte a un caso de Covid-19 o a otra causa preexistente, como fue el caso de una mujer uruguaya de 82 años fallecida el 19 de marzo, positiva de Covid-19, pero con un cáncer avanzado. Es esperable que este tipo de casos inciertos sea muy menor, por lo que el número de muertes es una estimación más confiable para analizar la evolución temporal de la propagación de la pandemia.\n",
       "\n",
       "Para la fecha del análisis (26 de marzo) se contabilizaban en todo el mundo casi 23.000 muertes asociadas a la Covid-19 (22.993) en 102 países.\n",
       "\n",
       "El análisis de las muertes permite sacar conclusiones similares a las expuestas para los casos confirmados. Las pendientes de la fase exponencial inicial son similares, con una duplicación de casos entre dos y tres días. Hubei y Corea del Sur presentan un achatamiento de la curva, pero si bien en el caso de Hubei el número de muertes por día tiende a cero, en Corea del Sur se ha observado, luego de un aplanamiento, un nuevo incremento en los últimos diez días. Irán parecería estar entrando en una fase de disminución del número de casos por día. Italia comienza una separación de la fase exponencial, pero todavía está lejos de alcanzar un achatamiento. El resto de los países graficados todavía están en la fase exponencial. En América Latina, el número de muertes todavía es muy bajo.\n",
       "\n",
       "FIGURA 4. a) Número cumulativo de muertes desde el 1° de enero. b) Número de muertes por\n",
       "día, suavizados con una ventana de siete días. Escala logarítmica en el eje y.\n",
       "FIGURA 4. a) Número cumulativo de muertes desde el 1° de enero. b) Número de muertes por día, suavizados con una ventana de siete días. Escala logarítmica en el eje y.\n",
       "La fracción de muertes sobre la población de cada país se muestra en la figura 5. Los países con fracciones más altas son los mismos que para los casos confirmados. Pero resulta llamativa la baja fracción de muertes de países como Corea del Sur y Alemania, que contaban con altas fracciones de casos confirmados. Este resultado queda más patente si comparamos el número de muertes versus número de casos confirmados para algunos países. Italia se encuentra próximo a la relación de una muerte por cada diez casos confirmados, mientras que España, Irán y Hubei se encuentran un poco por debajo. Otros países como Estados Unidos, Corea del Sur y Alemania están más próximos a una relación de una muerte por cada 100 casos confirmados, o sea un factor cerca de diez veces menor que los países anteriores.\n",
       "\n",
       "Argentina y Brasil tienen valores de muertes sobre casos confirmados que son intermedios con respecto a los anteriores; mientras que en Uruguay y Chile los valores están por debajo de los valores más bajos de Alemania y Corea del Sur. Uruguay cuenta con 228 casos confirmados y ninguna muerte a la fecha, lo que da una tasa inferior a una muerte cada 200 casos, y Chile tiene 1.306 casos confirmados y cuatro muertes (tasa inferior a una muerte cada 300 confirmados).\n",
       "\n",
       "FIGURA 5. a) Fracción de muertes con relación a la población total al 26 de marzo. Escala\n",
       "logarítmica en el eje y. b) Número de muertes versus número de casos confirmados. La\n",
       "línea punteada superior corresponde a una relación de una muerte por cada diez casos\n",
       "confirmados, mientras que la inferior a una cada 100. Escala logarítmica en ambos ejes.\n",
       "FIGURA 5. a) Fracción de muertes con relación a la población total al 26 de marzo. Escala logarítmica en el eje y. b) Número de muertes versus número de casos confirmados. La línea punteada superior corresponde a una relación de una muerte por cada diez casos confirmados, mientras que la inferior a una cada 100. Escala logarítmica en ambos ejes.\n",
       "3) El caso de China\n",
       "Para hacer un primer análisis sobre las estrategias para combatir la propagación del virus en un grupo social, es relevante considerar el caso de China y sus diferentes provincias. La epidemia comienza en la provincia de Hubei, ubicada en la zona central de China. En la figura 6 se muestran las fracciones de casos confirmados y muertes con relación a la población para cada provincia china hasta el 26 de marzo. Es llamativa la enorme diferencia de valores entre las provincias chinas. Los valores para Hubei son más de un orden de magnitud superior que los del resto de las provincias chinas.\n",
       "\n",
       "FIGURA 6. a) Fracción de casos confirmados en relación con la población para cada provincia\n",
       "china al 27 de marzo. b) Fracción de muertes. Escala logarítmica en el eje y.\n",
       "FIGURA 6. a) Fracción de casos confirmados en relación con la población para cada provincia china al 27 de marzo. b) Fracción de muertes. Escala logarítmica en el eje y.\n",
       "Como se señaló, las autoridades chinas iniciaron el 23 de enero una estricta cuarentena, primero en la capital Wuhan, y luego extendida a toda la provincia de Hubei. Recién en estos últimos días se están levantando paulatinamente estas medidas. La extensión de la cuarentena por más de 50 días logró que el número de nuevos casos confirmados y muertes se redujera casi a cero. Estos números muestran la efectividad que tuvo esta medida para detener la propagación del virus en el resto del territorio chino, pero sus costos sociales y económicos son difíciles de conocer.\n",
       "\n",
       "4) La modelización (esta sección es más técnica, si prefiere pase a la siguiente)\n",
       "En la modelización de la propagación de enfermedades infecciosas se han usado modelos matemáticos que consideran la interacción entre individuos de una cierta población. Uno de los modelos más usados fue el <strong><u>desarrollado</u></strong> por Kermack y McKendrick (1927), que divide la población en compartimentos: individuos susceptibles (S), infectados (I) y recuperados (R), por lo que se conoce como modelo SIR. Se establecen relaciones entre las variaciones de los diferentes compartimentos y se hace evolucionar el sistema variando diferentes parámetros. Estos parámetros se pueden ajustar con los datos disponibles y hacer una proyección de la evolución futura esperada.\n",
       "\n",
       "Aquí hemos optado por trabajar directamente con las series temporales y ajustar las series más completas a funciones conocidas de uso en estudios poblacionales, como la función logística o su versión generalizada. La figura 7 muestra la expresión de la función logística generalizada.\n",
       "\n",
       "FIGURA 7. Expresión de la función logística generalizada. y es el número cumulativo de casos, t es el tiempo, a, s, t0 y d son parámetros. En el inicio de la evolución la función logística se asemeja a un crecimiento exponencial hasta aproximadamente el tiempo t0 , y luego comienza el achatamiento hasta alcanzar el valor asintótico de casos igual a a.\n",
       "FIGURA 7. Expresión de la función logística generalizada. y es el número cumulativo de casos, t es el tiempo, a, s, t0 y d son parámetros. En el inicio de la evolución la función logística se asemeja a un crecimiento exponencial hasta aproximadamente el tiempo t0 , y luego comienza el achatamiento hasta alcanzar el valor asintótico de casos igual a a.\n",
       "El único caso que nos permite hacer un buen ajuste a esta función logística generalizada, ya que prácticamente completa todas las etapas de la evolución, es el caso de Hubei. En la figura 8 se muestra un ajuste de la función logística generalizada al número cumulativo de muertes, y la derivada del ajuste junta el número de casos por día. De este ajuste se extraen los valores para los cuatro parámetros de la función (a, s, t0 , d).\n",
       "\n",
       "5) Las estrategias\n",
       "Se pueden delinear varias estrategias que han seguido los países para el combate a la propagación del virus. En primera instancia tenemos la férrea cuarentena en Hubei por casi dos meses que logró controlar la primera oleada. Las consecuencias sociales y económicas de las restricciones draconianas sobre la libertad de expresión y el movimiento de personas aplicadas por las autoridades chinas en Hubei y el resto de China son desconocidas por el hermetismo con que se maneja la información en ese país. Para evitar el desarrollo de una segunda oleada de propagación del virus en territorio chino, sus autoridades están por imponer un estricto cierre de fronteras para extranjeros que quieran ingresar al país.\n",
       "\n",
       "El modelo de combate de Corea del Sur fue diferente y se basa en las siguientes premisas: acción rápida, pruebas generalizadas, rastreo de contactos, aislamiento y vigilancia cercana de los casos infectados, y participación activa de los ciudadanos. Cabe preguntarse si ese modelo es transferible a otras sociedades con menos recursos y comportamientos sociales muy diferentes. No obstante, debemos ser cautos sobre el éxito final de esta estrategia, ya que si bien se enlenteció la curva de propagación, no se ha logrado hacer tender a cero en el número de nuevos contagios y el número de muertes por día sigue en un lento aumento.\n",
       "\n",
       "Los casos de Italia y España son claramente los ejemplos a no seguir, por la reacción tardía y el bajo nivel de cumplimiento de las medidas de aislamiento social hasta etapas muy avanzadas de la propagación. Ello ha hecho que ambos países todavía estén en la fase exponencial luego de 30 días de iniciada la propagación y que tengan sólo leves indicios de achatamiento de las curvas.\n",
       "\n",
       "Alemania es otro de los ejemplos exitosos, no tanto en detener la propagación del virus, ya que se mantiene en la fase exponencial con un nivel intermedio de casos confirmados sobre su población total, sino más bien por el éxito en mantener bajos niveles de mortandad respecto del número de infectados. En los países de nuestra región, es muy temprano, en <strong><u>cuanto</u></strong> al desarrollo de la epidemia, como para evaluar las diferentes estrategias que están siguiendo los distintos países.\n",
       "\n",
       "6) ¿<strong><u>Cuánto</u></strong> tiempo?\n",
       "La proyección de la evolución futura en los casos se puede intentar hacer con los modelos matemáticos antes descriptos, pero los niveles de incertidumbre son muy grandes porque dependen de las acciones que se vayan desarrollando.\n",
       "\n",
       "Algunos resultados a tomar en cuenta son los siguientes. El período de incubación de la Covid-19 tiene un rango de entre dos y 14 días, habiéndose detectado algún caso de hasta 27 días de incubación. El valor medio del período de incubación está entre tres y cinco días. El pico en el número de contagios y de muertes en Hubei se dio a los 40 y 45 días de comenzado el brote respectivamente, cero a los 20 y 25 días de haber decretado la cuarentena estricta. En Corea del Sur el pico se alcanzó a los 15 días del primer caso y luego se logró un aplanamiento. Pero en Italia ya van más de 30 días desde el inicio del brote, y 15 días desde el decreto de cuarentena global, y no se ha alcanzado aún el pico.\n",
       "\n",
       "Si la leve tendencia de apartamiento de la fase exponencial que se observa en Italia se mantiene, y usando los parámetros de la función logística generalizada que se ajustaron al caso de Hubei, se podría estimar que el número de muertes en Italia podría alcanzar un valor final superior a 20.000 (actualmente se han registrado 8.165 muertes). El pico máximo de número de muertes por día se estaría por alcanzar próximamente y no superaría los 800 casos.\n",
       "\n",
       "Para los países de nuestra región es muy prematuro poder hacer una extrapolación, porque todavía estamos en la fase exponencial. Si se siguen las tendencias anteriores, y considerando la aplicación estricta de medidas de aislamiento social que tenuemente se iniciaron en Uruguay el 13 de marzo y llevan menos de dos semanas de aplicación, nos esperan del orden de diez a 20 días más con aumento en el número de casos confirmados por día, y recién entonces se podría esperar que comience un descenso.\n",
       "\n",
       "Para poder continuar en la tendencia descendente se deberían mantener políticas de aislamiento por un tiempo equivalente a varios períodos de incubación. Eso, siempre y cuando no haya un cambio de comportamiento de nuestra sociedad que levante el aislamiento social y facilite la propagación del virus.\n",
       "\n",
       "Un relajamiento de las medidas de aislamiento social al finalizar la semana de Turismo podría resultar prematuro para lograr frenar la propagación local, considerando que para esa fecha habrían transcurridos 31 días desde la aplicación de las primeras medidas. La diversidad de políticas sanitarias en los países limítrofes podría complicar aún más alcanzar el objetivo de controlar la propagación de la epidemia en la región. La evolución en el número de casos confirmados de los próximos días delineará las acciones a seguir.\n",
       "\n",
       "El factor estacional podría afectar la evolución de la propagación del virus, ya que los países del hemisferio sur estamos próximos a entrar en la estación invernal donde hay un aumento de los enfermedades respiratorias. No obstante, la gran incógnita es la evolución futura de la pandemia en las distintas sociedades luego de esta primera oleada.\n",
       "\n",
       "Gonzalo Tancredi es profesor titular del Departamento de Astronomía, Facultad de Ciencias, Universidad de la República. Es investigador grado 5 del PEDECIBA y Nivel II del Sistema Nacional de Investigadores (SNI)."
      ],
      "text/plain": [
       "<IPython.core.display.HTML object>"
      ]
     },
     "metadata": {},
     "output_type": "display_data"
    },
    {
     "name": "stdout",
     "output_type": "stream",
     "text": [
      "__\n",
      "\n",
      "Score: 2.2033873\n"
     ]
    },
    {
     "data": {
      "text/html": [
       "Gobierno estima que recaudará seis millones de dólares mensuales por rebaja de públicos; postergaron anuncios sobre jubilaciones y Caja Militar\n",
       "27 de marzo de 2020 | Coronavirus | Foto: Ernesto Ryan\n",
       "Este viernes se confirmaron 36 nuevos casos de coronavirus en Uruguay, llegando a un total de 274 positivos.\n",
       "En la conferencia de prensa de este viernes, el secretario de Presidencia, Álvaro Delgado, anunció que se hicieron 451 nuevos <strong><u>test</u></strong> de diagnóstico de coronavirus, de los cuales 415 dieron negativos y 36 positivos, con lo cual Uruguay pasa a tener un total de 274 casos en total. De ellos, 233 están en domicilio, 15 internados en sala, dos en cuidados intermedios y cuatro en CTI.\n",
       "\n",
       "Delgado también fue consultado sobre las propuestas que presentó este viernes el Frente Amplio. “Obviamente se van a analizar, todas las propuestas son bienvenidas, todas se van a analizar”, respondió, antes de señalar que “además de propuestas al gobierno también hay una serie de instituciones, sobre todo privadas, que están organizándose en diferentes colectivos para colaborar”.\n",
       "\n",
       "Escala de descuentos para los funcionarios\n",
       "Salario nominal mensual (pesos)\n",
       "\n",
       "Más de 120.000 hasta 130.000: 5%\n",
       "Más de 130.000 hasta 150.000: 10%\n",
       "Más de 150.000 hasta 180.000: 15%\n",
       "Más de 180.000: 20%\n",
       "Las precisiones de Arbeleche\n",
       "La ministra de Economía y Finanzas (MEF), Azucena Arbeleche, brindó anoche precisiones sobre cómo se financiará el recién creado “fondo coronavirus”. Sus ingresos, en principio y sin descartar otros instrumentos, incluirán “las utilidades que vienen de distintas empresas públicas, bancos públicos, como el Banco República y la Corporación Nacional para el Desarrollo”, los desembolsos de préstamos de organismos multilaterales de crédito, “los aportes de los salarios de los funcionarios públicos” ‒a raíz de la rebaja salarial que, reiteró, es “por dos meses y de forma excepcional”‒ y otras partidas, como las de prensa que “los legisladores han resignado”.\n",
       "\n",
       "De ese fondo saldrán los recursos para cubrir “todas las necesidades” que el país enfrente como consecuencia de la Covid-19. En <strong><u>cuanto</u></strong> a lo sanitario, se trabaja para abastecer el sistema de salud para esta etapa y la siguiente, “que seguramente va a ser más aguda, a juzgar por lo que vemos en otros países”. Respecto de lo social, se busca “cubrir a la población más vulnerable”.\n",
       "\n",
       "Con respecto a los aportes de los funcionarios, tal como adelantó el presidente Luis Lacalle Pou el jueves, habrá dos mecanismos diferentes. Por un lado, quienes ocupen cargos políticos electos o designados y cobren más de 80.000 pesos líquidos van a aportar 20% de su salario nominal. Por otro, los trabajadores del sector público que tengan un sueldo líquido por encima de los 80.000 pesos tendrán descuentos escalonados de entre 5% y 20%, según el monto, que serán aplicados a su sueldo nominal. Arbeleche precisó que ni unos ni otros pasarán a cobrar menos de 80.000 pesos en mano.\n",
       "\n",
       "Otras medidas anunciadas por el gobierno\n",
       "El secretario de Presidencia Álvaro Delgado dijo que “en los próximos 15 días Uruguay se juega gran parte de la lucha contra el coronavirus” y llamó a extremar las medidas de precaución.\n",
       "\n",
       "Este fin de semana habrá menos frecuencia de transporte tanto urbano como interdepartamental para reducir el movimiento de las personas dentro del país.\n",
       "Se mantiene el calendario de pagos de jubilaciones y pensiones, se pide a los beneficiarios que vayan en el día y hora que tienen prefijado para cobrar y se va a trabajar en la descentralización para que a los locales de BPS concurra la menor cantidad de jubilados y pensionados posible. En los locales de pago se atenderá con prioridad a los mayores de 65 años, tanto si van a cobrar como si van a hacer otro trámite.\n",
       "Ante una pregunta, la ministra precisó que la medida alcanza a unas 15.000 personas y permitirá recaudar 12 millones de dólares en los dos meses. También aclaró que por el momento no se definió cuál será la rebaja para las jubilaciones y pensiones más altas, ni para la Caja Militar. Eso se anunciará la semana que viene, pero adelantó que los montos afectados serán “bastante más superiores” a los 80.000 pesos.\n",
       "\n",
       "La titular del MEF fue consultada sobre si se implementarán medidas similares para empresarios, pero respondió que el sector privado enfrenta una situación difícil por el parate de la economía ‒mencionó el creciente número de solicitudes de seguro de desempleo‒ y que la rebaja salarial para los funcionarios busca “repartir de forma más equitativa” los costos que la pandemia está generando. También aclaró que no hay ninguna medida descartada.\n",
       "\n",
       "“Desde el Ministerio de Economía y Finanzas, y con el resto del equipo económico, estamos focalizados en que siga funcionando la economía, para que los motores de la economía no se apaguen”, agregó la ministra, antes de recordar algunas de las medidas que el gobierno ya ha tomado.\n",
       "\n",
       "Las canastas alimenticias para los beneficiarios de asignaciones\n",
       "Lacalle Pou había dicho el jueves que se anunciaría “un aumento en las asignaciones familiares, importante”. Sin embargo, el ministro de Desarrollo Social, Pablo Bartol, anunció la entrega de dos canastas alimentarias, en abril y mayo, a las 118.000 familias que reciben la asignación familiar Plan de Equidad (que es para familias en situación de vulnerabilidad socioeconómica y está condicionado a la asistencia a la educación y los controles médicos de los menores a cargo). Además, informó que se abrió una vía de inscripción para los trabajadores informales que no estén registrados en ningún sistema de protección social ‒el 0800 7263 y un formulario web a partir de la semana próxima‒, que también recibirán “esta asistencia alimenticia”.\n",
       "\n",
       "Los próximos anuncios\n",
       "Las autoridades dijeron que se reunieron con las autoridades de Inmujeres y que la próxima semana se presentará un programa para abordar las situaciones de violencia doméstica. “Es un tema que nos preocupa”, dijo Delgado.\n",
       "\n",
       "En los próximos días se darán a conocer medidas para las empresas unipersonales y los monotributistas."
      ],
      "text/plain": [
       "<IPython.core.display.HTML object>"
      ]
     },
     "metadata": {},
     "output_type": "display_data"
    },
    {
     "name": "stdout",
     "output_type": "stream",
     "text": [
      "__\n",
      "\n",
      "Score: 2.0553517\n"
     ]
    },
    {
     "data": {
      "text/html": [
       "BUENAS NUEVAS\n",
       "Instituto Pasteur del Uruguay secuencia genoma completo de SARS COV 2 en pacientes locales\n",
       "El avance, concretado en las últimas horas, permitirá tomar mejores decisiones en la lucha contra la pandemia.\n",
       "30.03.2020 07:41 Lectura: 2'  \n",
       "\n",
       " \n",
       "Buenas nuevas\n",
       "Cecilia Salazar y Florencia Díaz\n",
       "\n",
       "El Instituto Pasteur del Uruguay logró secuenciar los primeros genomas completos de SARS COV 2 de diez pacientes con Covid-19 en Uruguay. El estudio fue liderado por Gregorio Iraola junto a Pilar Moreno y Gonzalo Moratorio, usando tecnología de Oxford Nanopore, según informó la institución a través de Twitter.\n",
       "\n",
       "El trabajo fue posible \"por el enorme esfuerzo de las científicas Cecilia Salazar y Florencia Díaz, del Instituto Pasteur\", que dedicaron todo el fin de semana a poner a punto el protocolo de secuenciación <strong><u>desarrollado</u></strong> por Artic Network, \"usado y validado en todo el mundo\", señalaron desde el Pasteur.\n",
       "\n",
       "El análisis de estos genomas, llevado a cabo por Microbial Genomics Lab, permitirá saber de dónde provienen las cepas que ingresaron a Uruguay, cuándo llegaron y si hay diferentes variantes del coronavirus en el país, entre otras.\n",
       "\n",
       "\"Esto es útil para saber, por ejemplo, cómo gestionar el cierre de fronteras y qué variantes son\". Hoy se conocen 3 variantes (V, G y S) y cuando se sepa el efecto de cada una en la salud (si alguna causa infecciones más severas, por ejemplo.), ayudaría a gestionar la atención sanitaria.\n",
       "\n",
       "Asimismo, saber el momento de ingreso a Uruguay \"ayuda a determinar si efectivamente entró cuando aparecieron los primeros casos o ya estaba antes\". Conocer los tiempos epidemiológicos es fundamental para ver si las medidas de control se tomaron a tiempo, por ejemplo.\n",
       "\n",
       "Por eso, \"también es importante que estos genomas se hayan secuenciado en menos de 24 horas gracias a tecnología de vanguardia\", porque permite obtener información del comportamiento epidemiológico casi en tiempo real durante el transcurso de una epidemia.\n",
       "\n",
       "Para seguir trabajando en esta línea se está gestando un grupo de colaboradores de la Facultad de Ciencias de la Universidad de la República y el Instituto Clemente Estable. que se sumará para incrementar la capacidad de secuenciación y análisis de genomas del nuevo coronavirus."
      ],
      "text/plain": [
       "<IPython.core.display.HTML object>"
      ]
     },
     "metadata": {},
     "output_type": "display_data"
    },
    {
     "name": "stdout",
     "output_type": "stream",
     "text": [
      "__\n",
      "\n",
      "Score: 1.7947996\n"
     ]
    },
    {
     "data": {
      "text/html": [
       "Lo que se sabe hasta ahora de la primera víctima del coronavirus en Uruguay.\n",
       "\n",
       "Los médicos estudian si González Rissotto, quien falleció a los 71 años el sábado, contrajo coronavirus en Colonia, departamento que visitó días antes de ser internado.\n",
       "\n",
       "El exministro de la Corte Electoral y ex ministro de Defensa, Rodolfo González Rissotto, murió el sábado a las 20:10. González Rissotto era un “hombre del Partido Nacional”, según lo definió el sábado el secretario de Presidencia, Álvaro Delgado, y se convirtió en la primera víctima del coronavirus en Uruguay. \n",
       "\n",
       "Tenía 71 años y estaba internado en la Asociación Española. Según informaron a El Observador fuentes médicas, González Rissotto tenía como antecedente una neumonía reciente y también sobrepeso, dos factores que sumados a la edad provocaron que fuera internado en CTI.\n",
       "\n",
       "Si bien las autoridades buscan determinar dónde y cómo se contagió, fuentes del Ministerio de Salud Pública (MSP) señalaron a El Observador que no fue en el famoso casamiento de Carrasco, uno de los focos más grandes de la infección en Montevideo al inicio de la propagación. Tampoco está dentro de las hipótesis un viaje al exterior, ya que si bien el paciente viajó a Brasil, lo hizo antes de que llegara el virus en Suramérica. \n",
       "\n",
       "Las autoridades analizan si pudo contraer el virus en un viaje que hizo a Colonia, días antes de ser internado. \n",
       "\n",
       "González Rissotto era uno de los pacientes en cuidados intensivos, donde permanecen 10 personas portadoras de covid-19, mientras otras 2 están en cuidados intermedios. Estaba vinculado al Partido Nacional, en especial al Herrerismo. También era docente, historiador y especialista en Derecho Electoral.\n",
       "\n",
       "Entre 1990 y 1993 ocupó el cargo de director nacional de Educación, en el gobierno de Luis Alberto Lacalle, y luego fue subsecretario y ministro de Defensa Nacional, para en 1996 pasar a ocupar el cargo de ministro de la Corte Electoral, hasta que se retiró en 2010.\n",
       "\n",
       "Escribió numerosas publicaciones históricas. Junto con su esposa, Susana Rodríguez Varese, se enfocaron en el aporte de los guaraníes a la cultura del país y publicaron tres obras: Contribución al estudio de la influencia guaraní en la formación de la sociedad uruguaya (1982), El <strong><u>proceso</u></strong> de aculturación de los guaraníes-misioneros en el Uruguay (1988) y Los Guaraníes Misioneros en la Formación de la Sociedad Uruguaya (1988). \n",
       "\n",
       "Inesperado\n",
       "Con el aumento sostenido de los casos confirmados, los pacientes de covid-19 que necesitaron ser hospitalizados (con distinto grado de cuidados) también fueron creciendo en los últimos días. Si bien las autoridades tenían claro que en algún momento ocurriría la muerte de alguno de los pacientes, la noticia tomó por sorpresa al gobierno. \n",
       "\n",
       "El sábado, a la misma hora en la que los médicos comunicaban la muerte de González Rissotto, el gobierno brindaba una nueva conferencia de prensa para actualizar la situación epidemiológica e informar sobre nuevas medidas relacionadas a la violencia de género. \n",
       "\n",
       "La conferencia en Torre Ejecutiva terminó, pero pasados unos minutos —poco antes de que los informativos dejaran de estar al aire— el gobierno convocó de urgencia a los medios de comunicación para hacer un anuncio importante, esta vez sin preguntas. \n",
       "\n",
       "Así fue que apareció solo en el salón de la Torre Ejecutiva el secretario de Presidencia, Álvaro Delgado. “Como dijimos siempre vamos a ser transparentes con la información. Mientras estábamos en la conferencia de prensa hace unos minutos, a las 20:10, falleció el primer contagiado por coronavirus en la Asociación Española. 71 años. El profesor, amigo, Rodolfo González Rissotto”, anunció. \n",
       "\n",
       "El mensaje de Delgado continuó con un nuevo exhorto a la población para que se quede en sus casas. “Con más razón, reforzarles a todos el pedido de que se cuiden, que se queden en sus casas”, dijo. \n",
       "\n",
       "Antes de terminar el mensaje, el secretario de Presidencia contó una anécdota sobre González Rissotto. “Hace 10 días nos mandó un mensaje con unas flores bien coloridas y decía: ‘Con estas lindas flores quiero transmitir un mensaje de esperanza recordando que la humanidad ha sabido superar grandísimas pandemias en el pasado. Tengámosle miedo al miedo y solo a ello. Un abrazo’”, leyó Delgado con la voz quebrada.\n",
       "\n",
       "Una vez que el secretario de Presidencia terminó el anuncio, llegaron las primeras condolencias por la muerte de González Rissotto. Uno de los primeros fue el presidente de la República, Luis Lacalle Pou, quien envió un “fuerte abrazo” a la familia y los amigos del exministro de la Corte Electoral, a quien describió como su “amigo” y “consejero”. \n",
       "\n",
       "A Lacalle Pou le siguieron los pésames de varios dirigentes blancos, pero también de otros partidos y del Frente Amplio. \n",
       "\n",
       "El ministro de Educación y Cultura, Pablo Da Silveira, saludó a la viuda, Rodríguez Varese, a través de Twitter. “Descansa en paz, Rodolfo González Rissotto. Y un abrazo grande a Susana. Hoy todos estamos con ella”, escribió. \n",
       "\n",
       "Lo mismo hizo el canciller Ernesto Talvi. “Muy triste noticia. El coronavirus se llevó al primer compatriota aquí en Uruguay. Lamentamos mucho el fallecimiento de Rodolfo González Risotto. Un afectuoso saludo a su familia y amigos. QEPD”, escribió.\n",
       "\n",
       "El senador nacionalista Jorge Gandini escribió el siguiente mensaje: “Una pausa en el trabajo de estos días, para honrar la memoria de Rodolfo González Rissotto. Primer compatriota víctima de esta terrible pandemia, que hasta nos impide acompañarlo a él, a Susana y Leandro. Amigo, compañero, servidor y wilsonista de la primera hora. QEPD Rodolfo”.\n",
       "\n",
       "El expresidente colorado Julio María Sanguinetti, en tanto, recordó su labor como historiador. “Nuestro homenaje al profesor González Rissotto, gran ciudadano y relevante historiador del aporte guaraní a nuestra sociedad”, escribió en Twitter.\n",
       "\n",
       "El intentente de Montevideo, Christian Di Candia, valoró que este sábado fue un día de profundo dolor. “Lamentamos que esta pandemia se haya cobrado la primera víctima en nuestro país. Reflexionemos, extrememos precauciones y cuidémonos más que nunca. A la familia, un fraterno abrazo”, expresó."
      ],
      "text/plain": [
       "<IPython.core.display.HTML object>"
      ]
     },
     "metadata": {},
     "output_type": "display_data"
    },
    {
     "name": "stdout",
     "output_type": "stream",
     "text": [
      "__\n",
      "\n",
      "Score: 1.2444594\n"
     ]
    },
    {
     "data": {
      "text/html": [
       "LOS DE ARRIBA Y LOS DE ABAJO\n",
       "Mujica: “La clase media acomodada hacia arriba tiene que contribuir”\n",
       "El legislador del MPP aseguró que no se trata de “castigar” a ese sector social, pero “no se les puede pedir sacrificio a los pobres”.\n",
       "30.03.2020 14:30 Lectura: 6'  \n",
       "\n",
       " \n",
       "Los de arriba y los de abajo\n",
       "Archivo. Gerardo Carrasco / /Montevideo Portal\n",
       "\n",
       "\n",
       "\n",
       "NOTICIAS\n",
       "Recibilas diariamente en tu email\n",
       "Esta mañana, el expresidente y actual senador José Mujica habló en su espacio periódico en la emisora M24, en el que se refirió a los costos económicos y sociales que supone -y supondrá- la pandemia de COVID-19 que azota a la humanidad.\n",
       "\n",
       "Mujica abrió su columna lamentando que \"por estos días hemos sentido\" a través de los medios una suerte \"gritillo liberal\" en el sentido de \"procrear la libertad en su máxima expresión\", y si bien esto es \"un concepto muy bonito\", alguna de \"la gente que se dice de credo liberal\" en realidad \"parecen liberales de pacotilla\". \"Por un lado dices un concepto plausible, por el otro lado lo niegas\", dijo, criticando a quienes \"son parte de una forma de pensar que en el fondo ni por asomo es liberal\".\n",
       "\n",
       "En <strong><u>cuanto</u></strong> a las consecuencias del virus, Mujica recordó que este mal llega en un momento en el que hay un gigantesco \"nivel de deuda acumulado en el mundo entero\", algo que es \"consecuencia\" inexorable \"de esta etapa del capitalismo consumista\", que genera \"una civilización de deuda\".\n",
       "\n",
       "Ahora, y con esta pandemia sobre la mesa \"se va a resentir el mercado mundial\", con un desplome de las empresas, las economías y los intercambios. Y como \"tanta gente parada es valor que se pierde\", también \"los Estados van a recaudar menos en el momento en que tienen más gastos\", para intentar contener y mitigar los efectos de ese desplome.\n",
       "\n",
       "El legislador frenteamplista relacionó esas perspectivas internacionales con el hecho de que \"en estos días han surgido lógicamente\" en Uruguay \"propuestas de socorro, de ayuda\", siendo \"la mayoría muy dignas\", como la \"del PIT-CNT\", pero aun así \"apenas hablamos de la gente que vive haciendo trabajos de cuentapropista (...) sin ningún tipo de socorro\". Es que en esta situación \"los reclamos sobran\" y \"el propio gobierno nos acaba de confesar\" que \"lo que ha comprometido\" en recursos contantes para enfrentar esta emergencia \"anda por 400 millones de dólares y esta farra recién empezó\". \"Y son gastos sin retorno y que hay que hacerlos\".\n",
       "\n",
       "\n",
       "De ahí que \"nuestra preocupación no era reclamar\" sino establecer \"de dónde se saca, cómo se saca y las consecuencias que pueden tener las distintas variables para lo que viene, y esto es lo más difícil de ver\".\n",
       "\n",
       "Advertisement\n",
       "You can close Ad in 1 s\n",
       "En ese punto, destacó las actitudes solidarias y compasivas de personas, organizaciones sociales y empresas, valorando que \"esto es grandioso desde el punto de vista humano y práctico, pero no nos autoengañemos\" porque \"esto no se remienda con caridad\" sino tomando \"el amargo camino de decisiones de carácter político\" orientadas a que \"los que medianamente tienen un ingreso acomodado, colaboren, sin pedir mucho por cabeza pero pidiéndoles un poco a todas las cabezas que pueden, a todas\", puntualizó.\n",
       "\n",
       "\"De lo contrario\", alertó, \"el costo\" económico-financiero \"de esta enfermedad, más lo que viene después (...) lo va a terminar pagando la masa de asalariados más humildes, los que están en la franja de entre 20 y 40.000 pesos, a lo sumo\", más \"los desocupados y etcétera (...) y no es justo. Si este es un drama de todos, y hablamos de solidaridad, es lo lógico que los hombros más fuertes pongan algo, todos\", recalcó Mujica.\n",
       "\n",
       "De no optarse por esa asunción de compromiso por las personas y sectores más pudientes, \"el gobierno tiene cuatro caminos\" para poder disponer de \"esos recursos\" financieros indispensables para enfrentar esta situación.\n",
       "\n",
       "\"El primer camino que anda flotando, y es obvio, es jugar a la inflación, ajustando los salarios por abajo\", camino abierto de hecho \"antes que se desatara esta crisis\", ya que \"por la movida del dólar\" desde el 1 de marzo \"el promedio de los salarios y jubilaciones perdió el 10, 12%\", anotó.\n",
       "\n",
       "\n",
       "\"Otro camino que tiene\" para seguir el gobierno pasa por \"consumir reservas\" del Banco Central, opción que \"tiene límites\" de disponibilidad actual pero además puede \"crear una ecuación de deuda y disponibilidad efectiva que nos acogote y obligue a pagar intereses cada vez más altos\".\n",
       "\n",
       "\"La otra variable\" consiste en \"endeudarse, endeudarse más, pero solo para cubrir el gasto, y esto sería penoso\", tanto como endeudarse para comer.\n",
       "\n",
       "En este caso, \"la lucha inteligente sería endeudarse para ayudar y rescatar al mundo de la economía y del trabajo cuando amaine esta peste\", debido a que \"va a haber multitud de empresas (...) al borde de la quiebra\" que necesitarán \"crédito blando con bajos intereses\" para recuperarse y \"eso solo lo puede hacer el Estado\". \"Para eso tal vez hay que endeudarse\" y \"la economía generará medios después para solventar la herida financiera\".\n",
       "\n",
       "No obstante, apuntó el senador del Espacio 609, \"todos estos caminos tienen la peculiaridad de que en el fondo van a recaer sobre el poder adquisitivo del salario\", por lo que \"hay que plantearse el amargo camino de dónde se saca, cómo se saca y cómo nos perjudica menos a los sectores más humildes en el mediano plazo. Es por esto que planteé\" hacer \"una gigantesca vaca que incluya a todos; no hablé de salario, hablo de ingreso\".\n",
       "\n",
       "Para generar ese aporte financiero que no golpee aún más a los más vulnerables, \"toda esa clase media acomodada hacia arriba tiene que contribuir, tiene que poner algo, no mucho para castigarla, pero sí a muchos, a todos\" porque \"no se les puede pedir sacrificio a los pobres\".\n",
       "\n",
       "\n",
       "Se trata de que quienes viven más holgadamente y con más recursos \"amainen un poco en sus gastos y le den un respiro a la Nación (...) para que el Estado pueda seguir adelante con esta campaña y redistribuir, y que ese costo no se transforme en más endeudamiento (...) porque lo precisamos a posterior (...) para reflotar la economía y que los trabajadores tengan una oportunidad de trabajo, con un sistema empresarial que va a estar en gran medida destrozado\", como ya se ve en Argentina con despidos masivos de empresas grandes y \"esto es lo que se viene\" aquí. \"Necesitamos un Estado activo que tenga recursos para solventar el esfuerzo que hay que hacer\", resumió al respecto.\n",
       "\n",
       "Luego, Mujca aludió críticamente a las exigencias de ayuda de algunas organizaciones sociales. \"Naturalmente que uno cuando reclama ayuda (...) puede tener enormes razones, pero hay que ubicarse (...) ante los problemas de dónde se saca para gastar, y cuál es el camino\" para ello.\n",
       "\n",
       "No obstante, remarcó, \"no veo otro camino que la solidaridad interna de los brazos fuertes, de los lomos fuertes, un poquito todos\" de aporte en dinero, ya que \"existen vastísimos sectores que les va bien, tienen ingresos importantes y algo pueden aportar. No quiero nombrar quiénes, pero cualquiera que piense un poco se da cuenta\", reflexionó el legislador.\n",
       "\n",
       "\"Es la hora de la solidaridad, porque de lo contrario, el costo será enorme\" y es de Justicia que \"la masa de trabajadores más humildes\" de nuestro país \"no termine solventando esta desgracia que nos ha caído encima\", concluyó el político."
      ],
      "text/plain": [
       "<IPython.core.display.HTML object>"
      ]
     },
     "metadata": {},
     "output_type": "display_data"
    },
    {
     "name": "stdout",
     "output_type": "stream",
     "text": [
      "__\n",
      "\n",
      "Score: 1.1844817\n"
     ]
    },
    {
     "data": {
      "text/html": [
       "Lacalle Pou descartó la implementación de la cuarentena por el momento: “No estamos haciendo política, estamos gobernando”\n",
       "23 de marzo de 2020 | En Uruguay | Foto: Ernesto Ryan\n",
       "El gobierno recurrirá a la presencia policial para aumentar la exhortación a la ciudadanía para que se quede en su casa.\n",
       "El presidente, Luis Lacalle Pou, informó en conferencia de prensa este lunes que en las últimas 24 horas dieron positivo solo cuatro de los 211 <strong><u>test</u></strong> de diagnóstico de Covid-19 que se aplicaron. De esta forma, llega a 162 el total de casos de coronavirus en Uruguay, de los cuales tres están internados, dos en cuidados moderados y uno en intensivo.\n",
       "Aún así, el mandatario exhortó a los uruguayos a “extremar las medidas” y permanecer en sus casas. “Lejos de despreocuparnos, tenemos que profundizar el aislamiento social”, pidió, haciendo hincapié en que si se toma como referencia la situación de otros países, “todavía no ha llegado el momento pico de esta pandemia” en Uruguay. Lacalle Pou informó que sobre el fin de esta semana Uruguay al menos duplicará su capacidad para hacer testeos, que actualmente es de unos 200 casos por día.\n",
       "Lacalle Pou destacó que “el acatamiento” al llamado del gobierno a permanecer en casa “es muy grande”, pese a lo cual mencionó el caso de ferias, plazas e incluso playas en las que se vio a mucha gente durante este fin de semana. Por eso el gobierno va a “intensificar la exhortación al aislamiento social” a través de la presencia policial: “un patrullero en cada feria, en la rambla, en las plazas”, precisó.\n",
       "Leé más sobre esto: Algunas sociedades científicas consideran que las medidas adoptadas ante el coronavirus “son suficientes y adecuadas”\n",
       "Ante la consulta sobre el pedido de cuarentena obligatoria, que fue planteado por el Sindicato Médico del Uruguay y el ex presidente Tabaré Vázquez, el presidente dijo que “cuando un gobierno dicta un acto jurídico lo tiene que hacer cumplir” y se preguntó si quienes promueven esa medida “están dispuestos a llevar detenido a un uruguayo en cualquier lugar del país” que haya salido de su casa a “tratar de hacer el peso”.\n",
       "“Nosotros no estamos haciendo política, no vamos a hacer política, nosotros estamos gobernando”, subrayó Lacalle Pou. “Lo nuestro es en serio. Tentaciones para hacer política, muchas, respuesta, ninguna. Gobierno responsable y cuidar a los uruguayos”, respondió.\n",
       "Más adelante el mandatario dijo que el gobierno sí analiza la posibilidad de un aislamiento obligatorio parcial para los mayores de 65 años, una decisión que se está analizando no solo desde el punto de vista sanitario sino también del económico.\n",
       "Por último, al ser consultado sobre el caceroleo convocado por el PIT-CNT y otras organizaciones sociales para demandarle al gobierno más medidas, sobre todo en materia económica, Lacalle Pou respondió secamente: “Están en todo su derecho, obviamente no lo compartimos. Nosotros estamos trabajando para mejorar la situación del país”."
      ],
      "text/plain": [
       "<IPython.core.display.HTML object>"
      ]
     },
     "metadata": {},
     "output_type": "display_data"
    },
    {
     "name": "stdout",
     "output_type": "stream",
     "text": [
      "__\n",
      "\n",
      "Score: 1.0313272\n"
     ]
    },
    {
     "data": {
      "text/html": [
       "Rebajarán por ley salarios y jubilaciones públicas superiores a 80.000 pesos para financiar el “fondo coronavirus”\n",
       "26 de marzo de 2020 | En Uruguay | Foto: Ernesto Ryan\n",
       "El secretario general de COFE cuestionó la medida: dijo que la solidaridad “no es obligada” y que se deja afuera al “gran capital”\n",
       "“Hoy ha sido un día particularmente intenso y queremos apelar, a través de los medios de comunicación, a bajar un poco la ansiedad”. Fueron las primeras palabras de Luis Lacalle Pou, presidente de la República, este jueves en conferencia de prensa, antes de anunciar nuevas medidas económicas en el marco de la emergencia sanitaria por el coronavirus.\n",
       "El mandatario se refirió a “alguna información que circulaba” sobre una “posible muerte por coronavirus en nuestro país”, y dijo que si bien entiende la “voluntad de tener una primicia”, se debe “generar certidumbre en estos tiempos donde no la hay”. Acto seguido, informó que se hicieron 245 <strong><u>test</u></strong> de coronavirus y 21 resultaron positivos, por lo tanto, los casos confirmados de la enfermedad en Uruguay ascienden a 238.\n",
       "Más adelante, el ministro de Salud Pública, Daniel Salinas, detalló que hay 18 personas internadas por coronavirus, de las cuales 12 están en sala común, dos en cuidados intermedios y cuatro en CTI. “Hasta el momento, ningún fallecido”, enfatizó el jerarca. Además, indicó que se hicieron 130 <strong><u>test</u></strong> a trabajadores de la salud, de los que 13 dieron positivos ‒e integran la lista total de casos ‒.\n",
       "El “fondo coronavirus” y cómo se financia\n",
       "Yendo al plato fuerte de la conferencia, Lacalle Pou se refirió a las nuevas medidas impulsadas por el gobierno, entre las que está la creación del “fondo coronavirus” para “seguir haciendo frente a las erogaciones”, y adelantó que “no va a alcanzar” para los gastos que tienen planificados. “Hemos cambiado el orden de prioridades; hasta el 13 de marzo eran unas, pero cambió todo. En el día de mañana [por el viernes] la ministra de Economía [Azucena Arbeleche] lo va a explicar: el ahorro público sigue siendo una meta, pero hoy pasa a segundo lugar. Continúa siendo una forma de entender el ejercicio del gobierno, pero hoy hay que tomar otro tipo de acciones”, señaló, con la jerarca sentada a su lado.\n",
       "El presidente sostuvo que “una vez más, los vulnerables van a ser los más atendidos”. Por lo tanto, entre las medidas sociales que Pablo Bartol, titular del Ministerio de Desarrollo Social, profundizará hoy en conferencia, está “la extensión de canastas alimenticias para aquellos más vulnerables y un aumento en la Asignaciones Familiares”. Luego explicó que el “fondo coronavirus” se va a nutrir “de las arcas públicas” y también “de ingresos de funcionarios públicos, porque es momento de que todos hagamos un esfuerzo”.\n",
       "“Se va nutrir del 20% que se le va a desconectar al presidente de la República, a los ministros, a los legisladores, a los directores de entes autónomos, para colaborar con el país en este momento de dificultades”, informó Lacalle. Agregó que también se nutrirá de un porcentaje, que irá de 5% a 20%, de los salarios públicos y jubilaciones que superen los 80.000 pesos líquidos.\n",
       "“Estos números los estamos redondeando, por eso mañana [por el viernes] la ministra en la conferencia les va a explicar bien los números exactos. Queremos decirles, con una enorme tranquilad, que sabemos que Uruguay está pasando mal, y que hay un sinnúmero de gente que se ha quedado sin trabajo y que no tiene alimentación. Todos tenemos que empujar del carro, empezando por los gobernantes, por el presidente de la República; no sólo en la dedicación horaria, afectiva, anímica e intelectual, sino también económica”, sostuvo. Acotó que el descuento salarial se hará por los próximos dos meses, “con la posibilidad de extenderlo según siga esta situación económica en nuestro país”.\n",
       " El presidente, Luis Lacalle Pou, durante la conferencia de prensa de este jueves 26 de marzo.\n",
       "El presidente, Luis Lacalle Pou, durante la conferencia de prensa de este jueves 26 de marzo.\n",
       "“No es una medida simpática sino solidaria”\n",
       "Cuando se abrió el espacio de preguntas para la prensa, el presidente ahondó en detalles sobre la medida de reducción salarial. Por ejemplo, dijo que los trabajadores de la salud quedan excluidos, “por razones obvias”, ya que “están en el primer frente de batalla”. Por otro lado, informó que la medida abarcará a los mandos militares, a las jubilaciones militares y a las de los ex presidentes. Dijo que la rebaja “no es una medida simpática sino solidaria”, y que por ende no entrará en “discusión con los sindicatos”, porque no lo hizo “estos días” y no lo va a “hacer ahora”.\n",
       "El presidente explicó que para aplicar esta medida hace falta una ley, que el Ministerio de Economía y Finanzas y Presidencia ya están trabajando para redactar el proyecto, y que “lo ideal” sería terminarlo el fin de semana para poder presentarlo en el Parlamento el lunes o el martes. Detalló que ya conversó sobre la iniciativa con líderes de otros partidos de la coalición, pero no el Frente Amplio (FA), y subrayó que los salarios no se descontarán “para ahorrar, sino para gastar”. “Esto es para la gente, es solidaridad pura”, enfatizó.\n",
       "“La solidaridad no es obligada”\n",
       "A todo esto, Joselo López, secretario general de la Confederación de Organizaciones de Funcionarios del Estado (COFE), dijo a la diaria que las medidas informadas por Lacalle Pou no fueron las que les comunicó este jueves más temprano, cuando junto con otros representantes del gremio se reunieron con el mandatario. Según el sindicalista, Lacalle Pou les dijo que el ahorro para volcar a las medidas por el coronavirus saldría del descuento de “10% de los salarios de 80.000 pesos nominales hacia arriba”. “Después, de tarde, mandó un mensaje en que nos dijo que estaban ajustando eso, que no iba a ser así, y en conferencia informó que iba a ser a partir de los 80.000 pesos líquidos, o sea, de cerca de 120.000 nominales”, sostuvo.\n",
       "Agregó que dentro de COFE tienen “mucha incertidumbre” y entienden que “se debe preservar la negociación colectiva”, algo que no sucede cuando el gobierno “les informa lo que van a hacer”. Además, subrayó que la “solidaridad no es obligada”, por lo tanto, no “se puede plantear esto como un aporte solidario, porque es un impuesto al sueldo para los salarios más altos”. Agregó que con esta medida el gobierno “toma por el camino más corto” y “nuevamente se le impone al salario o al trabajo y no al gran capital”.\n",
       "Agregó que Lacalle Pou dijo que la solidaridad es “entre todos”, pero en realidad esta medida “no es entre todos”. “Los que vamos a aportar somos los trabajadores, los jubilados y, por suerte, los militares; pero el gran capital, que se ha beneficiado con muchas medidas que está tomando el Poder Ejecutivo ahora, no está comprendido en esta medida que tomó el gobierno”, finalizó.\n",
       "Las primeras respuestas desde el FA\n",
       "En una línea similar se manifestaron varios integrantes del FA, que saludaron la solidaridad a la que convocó Lacalle Pou, pero también manifestaron sus discrepancias.\n",
       "“Si es que pague más quien tiene más ¿por qué solidaridad obligada para los trabajadores y colecta voluntaria para todos los demás?”, se preguntó a través de Twitter la diputada del Movimiento de Participación Popular (MPP) Bettiana Díaz.\n",
       "Bettiana Díaz Rey\n",
       "@bettianadiazrey\n",
       " La solidaridad de los trabajadores uruguayos es incuestionable, gracias a ella pudimos remar las peores crisis políticas y económicas de este país.\n",
       "Si es que pague más quien tiene más ¿por qué solidaridad obligada para los trabajadores y colecta voluntaria para todos los demás?\n",
       "52\n",
       "22:34 - 26 mar. 2020\n",
       "Información y privacidad de Twitter Ads\n",
       "29 personas están hablando de esto\n",
       "“Que pongan el hombro también los de mayor patrimonio y los de muy altos ingresos”, indicó por el mismo medio el candidato a la Intendencia de Montevideo Daniel Martínez:\n",
       "Ing. Daniel Martínez\n",
       "✔\n",
       "@Dmartinez_uy\n",
       " Valoramos que el gobierno sea solidario con los más vulnerables. Pero el esfuerzo tenemos que hacerlo todos, no sólo trabajadores y no sólo los públicos.\n",
       "Que pongan el hombro también los de mayor patrimonio y los de muy altos ingresos. \n",
       "Si es solidaridad, es entre todos.\n",
       "5.069\n",
       "22:48 - 26 mar. 2020\n",
       "Información y privacidad de Twitter Ads\n",
       "2.412 personas están hablando de esto\n",
       "Por su parte, el también diputado del MPP Daniel Caggiani también pidió al Ejecutivo “una hoja de ruta” y que las medidas no sean “en cuenta gotas”:\n",
       "Daniel Caggiani\n",
       "@DCaggiani\n",
       " Bienvenida la solidaridad. Más con lo que no tienen ingresos. Las medidas no pueden ser en cuenta gotas, debemos tener una hoja de ruta. Todos debemos aportar para la salida. Los que tienen más que aporten más. Y De los verdaderos ricos y sus riquezas necesitamos más esfuerzo aún\n",
       "73\n",
       "21:36 - 26 mar. 2020\n",
       "Información y privacidad de Twitter Ads\n",
       "35 personas están hablando de esto\n",
       "Mario Bergara recurrió a un hilo para señalar que no se revelaron los detalles que permitan evaluar realmente las medidas y subrayar que “queda en el aire cómo se va a implementar la solidaridad del empresariado y de los sectores más privilegiados” porque “el aporte tiene que ser de todos y todas quienes estamos en condiciones de hacerlo”. Además, tal como lo ha hecho el PIT-CNT, pidió “un marco de diálogo” del gobierno con los partidos políticos y las organizaciones sociales, para dar “una perspectiva de plan” para que las medidas anunciadas hasta ahora no sean “una sumatoria de planteos que a veces aparecen inconexos”.\n",
       "Mario Bergara\n",
       "@Mario_Bergara\n",
       " · 16h\n",
       "En respuesta a @Mario_Bergara\n",
       "Es necesario el esfuerzo de todos para atender las urgencias de un sector importante de la sociedad que es más vulnerable en esta emergencia. Pero el aporte tiene que ser de todos y todas quienes estamos en condiciones de hacerlo.\n",
       "Mario Bergara\n",
       "@Mario_Bergara\n",
       "El Frente Amplio tiende la mano al gobierno para contribuir. Ojalá el gobierno lo entienda de esa manera y reciba las ideas que pueda proponer la mayor fuerza política del país. Lo mismo cabe para lo planteado por diversas organizaciones sociales. Nadie sobre en esta batalla.\n",
       "393\n",
       "22:40 - 26 mar. 2020\n",
       "Información y privacidad de Twitter Ads\n",
       "86 personas están hablando de esto\n",
       "Por otra parte, la candidata a la IM por el FA, Carolina Cosse, opinó en la misma línea y dijo que la coalición de izquierda propuso al gobierno propuestas y es sano que el presidente “deje participar”. “Aislarse no suma”, añadió.\n",
       "Carolina Cosse\n",
       "✔\n",
       "@CosseCarolina\n",
       " La solidaridad no se impone, se construye. El pueblo uruguayo está dispuesto a esto y más, pero si se exigen obligaciones también deben respetarse derechos. El @Frente_Amplio presentó propuestas, es sano que el presidente se siente a hablar  y deje participar. Aislarse no suma.\n",
       "859\n",
       "11:53 - 27 mar. 2020\n",
       "Información y privacidad de Twitter Ads\n",
       "630 personas están hablando de esto"
      ],
      "text/plain": [
       "<IPython.core.display.HTML object>"
      ]
     },
     "metadata": {},
     "output_type": "display_data"
    },
    {
     "name": "stdout",
     "output_type": "stream",
     "text": [
      "__\n",
      "\n"
     ]
    }
   ],
   "source": [
    "get(0,'¿Cuánto demora el proceso de registro del test desarrollado por Udelar y el Institut Pasteur?')"
   ]
  },
  {
   "cell_type": "code",
   "execution_count": 6,
   "metadata": {},
   "outputs": [
    {
     "name": "stdout",
     "output_type": "stream",
     "text": [
      "Score: 7.843624\n"
     ]
    },
    {
     "data": {
      "text/html": [
       "¿Que nos permiten decir los datos actuales de la Covid-19 sobre lo que nos espera?\n",
       "28 de marzo de 2020 | Escribe: Gonzalo Tancredi en Comunidad científica\n",
       "Ciencia en primera persona es un espacio abierto para que científicos y científicas reflexionen sobre el mundo y sus particularidades. Los esperamos en ciencia@ladiaria.com.uy.\n",
       "\n",
       "Primero, una advertencia. Quien escribe estas notas no es epidemiólogo, infectólogo o siquiera un bioestadístico, sino un investigador en Astronomía, con experiencia en el tratamiento y modelización de datos de diverso tipo. Tengo un profuso trabajo y estudio de catástrofes globales, especialmente de origen astronómico, pero no experiencia en el análisis de pandemias. Desde esa perspectiva he querido hacer una contribución que intenta dar visualización a datos disponibles en la red, para poner en evidencia las diferentes tendencias en la evolución de la Covid-19 y utilizar mi experiencia para extraer algo de ellas.\n",
       "\n",
       "La epidemia de la Covid-19 comienza a desarrollarse en la ciudad de Wuhan, capital de la provincia de Hubei, China, sobre fines de diciembre de 2019. La primera aparición pública ocurre el 31 de ese mes, cuando funcionarios de salud chinos informaron a la Organización Mundial de la Salud (OMS) sobre un grupo de 41 pacientes con una misteriosa neumonía. La mayoría de los pacientes están conectados al mercado mayorista de mariscos de Huanan. De ahí en más, comenzó una acelerada serie de sucesos: el 7 de enero las autoridades chinas identifican un nuevo tipo de coronavirus (al que luego se denomina SARS-CoV-2); el 11 de enero se registra la primera muerte en Wuhan; el 13 de enero comienza la dispersión de la epidemia a nivel mundial con el primer caso de coronavirus fuera de China, en Tailandia; y el 2 de febrero la primera muerte fuera de China, en Filipinas. El 23 de enero las autoridades chinas adoptan una estricta cuarentena en la ciudad de Wuhan, que se extiende en los <strong><u>días</u></strong> siguientes a toda la provincia de Hubei. El 11 de febrero la OMS anuncia que se ha designado a la nueva epidemia coronavirus como Covid-19. El 19 y 21 de febrero se reportan los primeros casos de Covid-19 en Irán e Italia, respectivamente.\n",
       "\n",
       "Según la base de datos de la OMS, desde enero al día de hoy se han publicado más de 2.500 artículos científicos relativos al coronavirus. Varios organismos están recopilando datos estadísticos de la evolución global de casos confirmados de contagio y de muertes asociadas a la Covid-19. Uno de los sitios web más completos y visualmente más amigable es el que proporciona el Center for Systems Science and Engineering de la Johns Hopkins University. Se proporciona una información actualizada del número de casos de contagios confirmados, número de muertes y de pacientes recuperados, en el mundo y por país. Hay un mapa de “calor” mundial, con círculos de diverso tamaño según el número de casos confirmados por país. Además, se proporciona un link con los datos que se usan para la confección de las tablas y mapas, donde aparece el detalle día a día desde el 22 de enero de 2020. Es a partir de esos datos que realizo el siguiente análisis.\n",
       "\n",
       "1) Los casos confirmados\n",
       "Temporalmente, los primeros datos que aparecen por país se refieren a casos de personas a las que se les ha hecho un test epidemiológico y dan positivo para Covid-19, y figuran como casos confirmados. Con el avance de la epidemia, algunos países cambian la estrategia de confirmación de casos infectados, y en algunos casos sólo se aplica el test epidemiológico a ciertos grupos dentro de la población. Sumado a este problema, está la diversidad y confiabilidad de los test en uso; y como analizamos una evolución temporal, también importan los distintos tiempos de obtención de resultados entre los test más confiables (PCR) y los test rápidos. Por tanto, el primer problema que se presenta para el análisis de estos datos se relaciona con el grado de completitud, representatividad y consistencias de las muestras. El caso positivo aparece luego de testear un mayor número de potenciales casos, ya sea de gente que presenta síntomas compatibles, o una muestra más global. Pero es sabido que el número de casos confirmados es siempre menor al número de casos totales de personas efectivamente contagiadas. No obstante, ante la falta de otras bases de datos más confiables, haremos un análisis estadístico de las series temporales antes mencionadas, que cuentan con la más completa y actualizada base de datos.\n",
       "\n",
       "Para la fecha del análisis (26 de marzo) se contabilizaban en el mundo más de medio millón de casos confirmados (510.108) en 174 países, con las salvedades que se comentaban en el párrafo anterior. Se presenta un análisis de la evolución temporal de los casos confirmados para un conjunto seleccionado de países. Se optó por analizar por separado el caso de la provincia de Hubei y no incluir el caso de China en su conjunto, ya que, como se muestra más abajo, la evolución que tuvo la epidemia en esa región fue bien distinta a la del resto del país. Además, para el caso de Hubei se incluyeron datos anteriores al 22 de enero (datos iniciales).\n",
       "\n",
       "La evolución temporal se muestra en la figura 2, donde se grafica el número cumulativo de casos desde el inicio de la epidemia y el número de casos por día (suavizados con una ventana de siete <strong><u>días</u></strong>) en función del tiempo (desde el 1° de enero). Nótese que es un gráfico logarítmico en el eje y. En términos matemáticos, el número de casos por día se puede considerar como la derivada del número cumulativo de casos. Todos los casos muestran un comportamiento aproximadamente lineal al inicio de la epidemia local en el gráfico semilogarítmico; lo que denota un aumento del número de casos de tipo exponencial (N=a exp (-st); donde N es el número cumulativo de casos, a es una constante, t es el tiempo y s es el factor exponencial). Un comportamiento exponencial también se puede interpretar como una duplicación en el número total de casos registrados cada un cierto número de <strong><u>días</u></strong> (ese número de <strong><u>días</u></strong> T se puede calcular como T=ln 2/s, logaritmo neperiano). Lo que nos permiten ver estos datos y gráficos es que el comportamiento exponencial generalmente se mantiene en los primeros diez a 20 <strong><u>días</u></strong> desde la identificación de los primeros casos, mientras que el factor exponencial implica una duplicación de casos cada entre dos y 3,5 <strong><u>días</u></strong> (s tiene un valor entre 0,2 y 0,4).\n",
       "\n",
       "FIGURA 2. a) Número cumulativo de casos confirmados desde el 1° de enero. b) Número de casos\n",
       "confirmados por día, suavizados con una ventana de siete <strong><u>días</u></strong>. Escala logarítmica en el eje y.\n",
       "FIGURA 2. a) Número cumulativo de casos confirmados desde el 1° de enero. b) Número de casos confirmados por día, suavizados con una ventana de siete <strong><u>días</u></strong>. Escala logarítmica en el eje y.\n",
       "Para los países donde la epidemia ha avanzado más, la curva tiende a aplanarse luego de la primera fase exponencial. El gráfico del número de casos confirmados por día muestra una primera fase incremental, y en los casos más evolucionados, se alcanza un pico, para luego comenzar a disminuir. Esto es lo que se observa claramente para el caso de Hubei, y en cierta forma para Corea del Sur. Pero nótese que en el caso de Corea del Sur, <strong><u>si</u></strong> bien se observa el aplanamiento, no se continúa la tendencia de caída del número de casos por día más allá del día 70. Esto marca un enlentecimiento en la propagación de la epidemia en Corea del Sur, pero no su total anulación. Para el caso de Irán, se observa una clara separación del comportamiento exponencial y una tendencia a alcanzar el pico en el número de casos por día. Italia tiene una incipiente separación del comportamiento exponencial en los últimos <strong><u>días</u></strong>, pero está lejos aún de tender a un achatamiento. El resto de los países europeos todavía continúa en la fase exponencial.\n",
       "\n",
       "En los países latinoamericanos la epidemia comenzó a desarrollarse unos 15 <strong><u>días</u></strong> <strong><u>después</u></strong> que en el sur de Europa (principios de marzo). Todos los países en fase exponencial presentan una duplicación de casos entre dos y 3,5 <strong><u>días</u></strong>.\n",
       "\n",
       "La fracción de casos confirmados con relación a la población total respectiva presenta grandes variaciones según cada país, como se observa en la figura 3. Las fracciones más altas (del orden de un caso confirmado cada 1.000 habitantes) se alcanzan en Hubei e Italia, con la salvedad de que en Italia esa fracción seguramente será más alta. Se seleccionaron algunos casos para mostrar realidades diversas. Por un lado están los casos con altas fracciones como Hubei, Italia y España. Irán y Corea del Sur se encuentran en una situación intermedia, y en vistas de las tendencias de los últimos <strong><u>días</u></strong>, no es esperable que haya un aumento considerable. Alemania tuvo un inicio en la propagación de la epidemia casi simultáneo con España, con un número similar total de casos en el presente, pero con una fracción de población menor. En América Latina, los casos más comprometidos son los de Chile, Uruguay y Ecuador, con una fracción de casos confirmados respecto de su población que es cuatro o cinco veces superior que la de Argentina, Brasil o Perú. No obstante, este resultado se debe tomar con cautela por el problema de completitud y representatividad de las muestras.\n",
       "\n",
       "FIGURA 3. a) Fracción de casos confirmados con relación a la población total al 27 de marzo.\n",
       "b) Selección de algunos casos. Escala logarítmica en el eje y\n",
       "FIGURA 3. a) Fracción de casos confirmados con relación a la población total al 27 de marzo. b) Selección de algunos casos. Escala logarítmica en el eje y\n",
       "El caso de Uruguay merece un detalle especial, por nuestro interés particular, pero también por su peculiaridad. Uruguay tuvo un aumento abrupto del número de casos confirmados en los cinco primeros <strong><u>días</u></strong>, con una pendiente muy superior respecto del resto de los países. La causa de este fenómeno está asociada al gran número de contagios generado a partir del casamiento ocurrido el 6 de marzo. Este efecto, al que podemos denominar “efecto Carmela”, ya que la portadora inicial fue Carmela Hontou, tuvo como consecuencia una fracción de casos confirmados respecto de la población total excepcionalmente alta para la región, lo que implica partir de un piso más alto para la propagación local. <strong><u>Si</u></strong> bien no son públicas las cifras de casos confirmados a partir de este caso, se ha manejado en algunos reportes de prensa que más de 50 casos están asociados directamente a este vector, un número mucho mayor que la tasa promedio de contagio de entre dos y tres personas infectadas por cada portador estimada por la OMS. Luego de esta fase inicial, el ritmo de contagios en Uruguay ha disminuido a una tasa de duplicación cada cerca de cuatro a cinco <strong><u>días</u></strong>.\n",
       "\n",
       "Otro dato relevante es una comparación entre la fracción de casos confirmados con respecto a la población entre los países de América del Sur y de África, donde típicamente este parámetro es diez veces superior en los países de nuestra región frente a los países africanos. La llegada más tardía de la epidemia a África respecto de América del Sur está asociada a la mayor conexión de nuestra región con los países europeos más afectados (Italia y España).\n",
       "\n",
       "2) Las muertes\n",
       "A continuación se analizan las series temporales del número de muertes, que se muestran en la figura 4. Considerando el mecanismo de recolección de reportes, los datos referidos al número de muertes deberían contar con un más alto nivel de completitud. El principal cuestionamiento puede ser la validez de asociar la muerte a un caso de Covid-19 o a otra causa preexistente, como fue el caso de una mujer uruguaya de 82 años fallecida el 19 de marzo, positiva de Covid-19, pero con un cáncer avanzado. Es esperable que este tipo de casos inciertos sea muy menor, por lo que el número de muertes es una estimación más confiable para analizar la evolución temporal de la propagación de la pandemia.\n",
       "\n",
       "Para la fecha del análisis (26 de marzo) se contabilizaban en todo el mundo casi 23.000 muertes asociadas a la Covid-19 (22.993) en 102 países.\n",
       "\n",
       "El análisis de las muertes permite sacar conclusiones similares a las expuestas para los casos confirmados. Las pendientes de la fase exponencial inicial son similares, con una duplicación de casos entre dos y tres <strong><u>días</u></strong>. Hubei y Corea del Sur presentan un achatamiento de la curva, pero <strong><u>si</u></strong> bien en el caso de Hubei el número de muertes por día tiende a cero, en Corea del Sur se ha observado, luego de un aplanamiento, un nuevo incremento en los últimos diez <strong><u>días</u></strong>. Irán parecería estar entrando en una fase de disminución del número de casos por día. Italia comienza una separación de la fase exponencial, pero todavía está lejos de alcanzar un achatamiento. El resto de los países graficados todavía están en la fase exponencial. En América Latina, el número de muertes todavía es muy bajo.\n",
       "\n",
       "FIGURA 4. a) Número cumulativo de muertes desde el 1° de enero. b) Número de muertes por\n",
       "día, suavizados con una ventana de siete <strong><u>días</u></strong>. Escala logarítmica en el eje y.\n",
       "FIGURA 4. a) Número cumulativo de muertes desde el 1° de enero. b) Número de muertes por día, suavizados con una ventana de siete <strong><u>días</u></strong>. Escala logarítmica en el eje y.\n",
       "La fracción de muertes sobre la población de cada país se muestra en la figura 5. Los países con fracciones más altas son los mismos que para los casos confirmados. Pero resulta llamativa la baja fracción de muertes de países como Corea del Sur y Alemania, que contaban con altas fracciones de casos confirmados. Este resultado queda más patente <strong><u>si</u></strong> comparamos el número de muertes versus número de casos confirmados para algunos países. Italia se encuentra próximo a la relación de una muerte por cada diez casos confirmados, mientras que España, Irán y Hubei se encuentran un poco por debajo. Otros países como Estados Unidos, Corea del Sur y Alemania están más próximos a una relación de una muerte por cada 100 casos confirmados, o sea un factor cerca de diez veces menor que los países anteriores.\n",
       "\n",
       "Argentina y Brasil tienen valores de muertes sobre casos confirmados que son intermedios con respecto a los anteriores; mientras que en Uruguay y Chile los valores están por debajo de los valores más bajos de Alemania y Corea del Sur. Uruguay cuenta con 228 casos confirmados y ninguna muerte a la fecha, lo que da una tasa inferior a una muerte cada 200 casos, y Chile tiene 1.306 casos confirmados y cuatro muertes (tasa inferior a una muerte cada 300 confirmados).\n",
       "\n",
       "FIGURA 5. a) Fracción de muertes con relación a la población total al 26 de marzo. Escala\n",
       "logarítmica en el eje y. b) Número de muertes versus número de casos confirmados. La\n",
       "línea punteada superior corresponde a una relación de una muerte por cada diez casos\n",
       "confirmados, mientras que la inferior a una cada 100. Escala logarítmica en ambos ejes.\n",
       "FIGURA 5. a) Fracción de muertes con relación a la población total al 26 de marzo. Escala logarítmica en el eje y. b) Número de muertes versus número de casos confirmados. La línea punteada superior corresponde a una relación de una muerte por cada diez casos confirmados, mientras que la inferior a una cada 100. Escala logarítmica en ambos ejes.\n",
       "3) El caso de China\n",
       "Para hacer un primer análisis sobre las estrategias para combatir la propagación del virus en un grupo social, es relevante considerar el caso de China y sus diferentes provincias. La epidemia comienza en la provincia de Hubei, ubicada en la zona central de China. En la figura 6 se muestran las fracciones de casos confirmados y muertes con relación a la población para cada provincia china hasta el 26 de marzo. Es llamativa la enorme diferencia de valores entre las provincias chinas. Los valores para Hubei son más de un orden de magnitud superior que los del resto de las provincias chinas.\n",
       "\n",
       "FIGURA 6. a) Fracción de casos confirmados en relación con la población para cada provincia\n",
       "china al 27 de marzo. b) Fracción de muertes. Escala logarítmica en el eje y.\n",
       "FIGURA 6. a) Fracción de casos confirmados en relación con la población para cada provincia china al 27 de marzo. b) Fracción de muertes. Escala logarítmica en el eje y.\n",
       "Como se señaló, las autoridades chinas <strong><u>iniciaron</u></strong> el 23 de enero una estricta cuarentena, primero en la capital Wuhan, y luego extendida a toda la provincia de Hubei. Recién en estos últimos <strong><u>días</u></strong> se están levantando paulatinamente estas <strong><u>medidas</u></strong>. La extensión de la cuarentena por más de 50 <strong><u>días</u></strong> logró que el número de nuevos casos confirmados y muertes se redujera casi a cero. Estos números muestran la efectividad que tuvo esta medida para detener la propagación del virus en el resto del territorio chino, pero sus costos sociales y económicos son difíciles de conocer.\n",
       "\n",
       "4) La modelización (esta sección es más técnica, <strong><u>si</u></strong> prefiere pase a la siguiente)\n",
       "En la modelización de la propagación de enfermedades infecciosas se han usado modelos matemáticos que consideran la interacción entre individuos de una cierta población. Uno de los modelos más usados fue el desarrollado por Kermack y McKendrick (1927), que divide la población en compartimentos: individuos susceptibles (S), infectados (I) y recuperados (R), por lo que se conoce como modelo SIR. Se establecen relaciones entre las variaciones de los diferentes compartimentos y se hace evolucionar el sistema variando diferentes parámetros. Estos parámetros se pueden ajustar con los datos disponibles y hacer una proyección de la evolución futura esperada.\n",
       "\n",
       "Aquí hemos optado por trabajar directamente con las series temporales y ajustar las series más completas a funciones conocidas de uso en estudios poblacionales, como la función logística o su versión generalizada. La figura 7 muestra la expresión de la función logística generalizada.\n",
       "\n",
       "FIGURA 7. Expresión de la función logística generalizada. y es el número cumulativo de casos, t es el tiempo, a, s, t0 y d son parámetros. En el inicio de la evolución la función logística se asemeja a un crecimiento exponencial hasta aproximadamente el tiempo t0 , y luego comienza el achatamiento hasta alcanzar el valor asintótico de casos igual a a.\n",
       "FIGURA 7. Expresión de la función logística generalizada. y es el número cumulativo de casos, t es el tiempo, a, s, t0 y d son parámetros. En el inicio de la evolución la función logística se asemeja a un crecimiento exponencial hasta aproximadamente el tiempo t0 , y luego comienza el achatamiento hasta alcanzar el valor asintótico de casos igual a a.\n",
       "El único caso que nos permite hacer un buen ajuste a esta función logística generalizada, ya que prácticamente completa todas las etapas de la evolución, es el caso de Hubei. En la figura 8 se muestra un ajuste de la función logística generalizada al número cumulativo de muertes, y la derivada del ajuste junta el número de casos por día. De este ajuste se extraen los valores para los cuatro parámetros de la función (a, s, t0 , d).\n",
       "\n",
       "5) Las estrategias\n",
       "Se pueden delinear varias estrategias que han seguido los países para el combate a la propagación del virus. En primera instancia tenemos la férrea cuarentena en Hubei por casi dos meses que logró controlar la primera oleada. Las consecuencias sociales y económicas de las restricciones draconianas sobre la libertad de expresión y el movimiento de personas aplicadas por las autoridades chinas en Hubei y el resto de China son desconocidas por el hermetismo con que se maneja la información en ese país. Para evitar el desarrollo de una segunda oleada de propagación del virus en territorio chino, sus autoridades están por imponer un estricto cierre de fronteras para extranjeros que quieran ingresar al país.\n",
       "\n",
       "El modelo de combate de Corea del Sur fue diferente y se basa en las siguientes premisas: acción rápida, pruebas generalizadas, rastreo de contactos, <strong><u>aislamiento</u></strong> y vigilancia cercana de los casos infectados, y participación activa de los ciudadanos. Cabe preguntarse <strong><u>si</u></strong> ese modelo es transferible a otras sociedades con menos recursos y comportamientos sociales muy diferentes. No obstante, debemos ser cautos sobre el éxito final de esta estrategia, ya que <strong><u>si</u></strong> bien se enlenteció la curva de propagación, no se ha logrado hacer tender a cero en el número de nuevos contagios y el número de muertes por día sigue en un lento aumento.\n",
       "\n",
       "Los casos de Italia y España son claramente los ejemplos a no seguir, por la reacción tardía y el bajo nivel de cumplimiento de las <strong><u>medidas</u></strong> de <strong><u>aislamiento</u></strong> social hasta etapas muy avanzadas de la propagación. Ello ha hecho que ambos países todavía estén en la fase exponencial luego de 30 <strong><u>días</u></strong> de iniciada la propagación y que tengan sólo leves indicios de achatamiento de las curvas.\n",
       "\n",
       "Alemania es otro de los ejemplos exitosos, no tanto en detener la propagación del virus, ya que se mantiene en la fase exponencial con un nivel intermedio de casos confirmados sobre su población total, sino más bien por el éxito en mantener bajos niveles de mortandad respecto del número de infectados. En los países de nuestra región, es muy temprano, en cuanto al desarrollo de la epidemia, como para evaluar las diferentes estrategias que están siguiendo los distintos países.\n",
       "\n",
       "6) ¿Cuánto tiempo?\n",
       "La proyección de la evolución futura en los casos se puede intentar hacer con los modelos matemáticos antes descriptos, pero los niveles de incertidumbre son muy grandes porque dependen de las acciones que se vayan desarrollando.\n",
       "\n",
       "Algunos resultados a tomar en cuenta son los siguientes. El período de incubación de la Covid-19 tiene un rango de entre dos y 14 <strong><u>días</u></strong>, habiéndose detectado algún caso de hasta 27 <strong><u>días</u></strong> de incubación. El valor medio del período de incubación está entre tres y cinco <strong><u>días</u></strong>. El pico en el número de contagios y de muertes en Hubei se dio a los 40 y 45 <strong><u>días</u></strong> de comenzado el brote respectivamente, cero a los 20 y 25 <strong><u>días</u></strong> de haber decretado la cuarentena estricta. En Corea del Sur el pico se alcanzó a los 15 <strong><u>días</u></strong> del primer caso y luego se logró un aplanamiento. Pero en Italia ya van más de 30 <strong><u>días</u></strong> desde el inicio del brote, y 15 <strong><u>días</u></strong> desde el decreto de cuarentena global, y no se ha alcanzado aún el pico.\n",
       "\n",
       "<strong><u>Si</u></strong> la leve tendencia de apartamiento de la fase exponencial que se observa en Italia se mantiene, y usando los parámetros de la función logística generalizada que se ajustaron al caso de Hubei, se podría estimar que el número de muertes en Italia podría alcanzar un valor final superior a 20.000 (actualmente se han registrado 8.165 muertes). El pico máximo de número de muertes por día se estaría por alcanzar próximamente y no superaría los 800 casos.\n",
       "\n",
       "Para los países de nuestra región es muy prematuro poder hacer una extrapolación, porque todavía estamos en la fase exponencial. <strong><u>Si</u></strong> se siguen las tendencias anteriores, y considerando la aplicación estricta de <strong><u>medidas</u></strong> de <strong><u>aislamiento</u></strong> social que tenuemente se <strong><u>iniciaron</u></strong> en Uruguay el 13 de marzo y llevan menos de dos semanas de aplicación, nos esperan del orden de diez a 20 <strong><u>días</u></strong> más con aumento en el número de casos confirmados por día, y recién entonces se podría esperar que comience un descenso.\n",
       "\n",
       "Para poder continuar en la tendencia descendente se deberían mantener políticas de <strong><u>aislamiento</u></strong> por un tiempo equivalente a varios períodos de incubación. Eso, siempre y cuando no haya un cambio de comportamiento de nuestra sociedad que levante el <strong><u>aislamiento</u></strong> social y facilite la propagación del virus.\n",
       "\n",
       "Un relajamiento de las <strong><u>medidas</u></strong> de <strong><u>aislamiento</u></strong> social al finalizar la semana de Turismo podría resultar prematuro para lograr frenar la propagación local, considerando que para esa fecha <strong><u>habrían</u></strong> transcurridos 31 <strong><u>días</u></strong> desde la aplicación de las primeras <strong><u>medidas</u></strong>. La diversidad de políticas sanitarias en los países limítrofes podría complicar aún más alcanzar el objetivo de controlar la propagación de la epidemia en la región. La evolución en el número de casos confirmados de los próximos <strong><u>días</u></strong> delineará las acciones a seguir.\n",
       "\n",
       "El factor estacional podría afectar la evolución de la propagación del virus, ya que los países del hemisferio sur estamos próximos a entrar en la estación invernal donde hay un aumento de los enfermedades respiratorias. No obstante, la gran incógnita es la evolución futura de la pandemia en las distintas sociedades luego de esta primera oleada.\n",
       "\n",
       "Gonzalo Tancredi es profesor titular del Departamento de Astronomía, Facultad de Ciencias, Universidad de la República. Es investigador grado 5 del PEDECIBA y Nivel II del Sistema Nacional de Investigadores (SNI)."
      ],
      "text/plain": [
       "<IPython.core.display.HTML object>"
      ]
     },
     "metadata": {},
     "output_type": "display_data"
    },
    {
     "name": "stdout",
     "output_type": "stream",
     "text": [
      "__\n",
      "\n",
      "Score: 6.102944\n"
     ]
    },
    {
     "data": {
      "text/html": [
       "<strong><u>AISLAMIENTO</u></strong> SOCIAL VIRTUAL\n",
       "Llegó la página FeriasUy y ya no es necesario salir de casa para comprar en la feria\n",
       "La plataforma permite a los clientes contactarse con los feriantes y comprar desde el hogar.\n",
       "30.03.2020 13:46 Lectura: 2'  \n",
       "\n",
       " \n",
       "<strong><u>Aislamiento</u></strong> social virtual\n",
       "Foto: Foco Uy I Gastón Britos\n",
       "\n",
       "\n",
       "NOTICIAS\n",
       "Recibilas diariamente en tu email\n",
       "Una innovadora página web permite desde este lunes comprar en los puestos de la feria del barrio sin necesidad de salir de casa. La iniciativa se llama FeriasUy y buscar ayudar a los feriantes a seguir trabajando y al mismo tiempo evitar que se generen aglomeraciones y aumentar la posibilidad de contagio del coronavirus.\n",
       "\n",
       "\"Arrancamos cuando veíamos fotos de ferias barriales donde veíamos a mucha gente junta y nos preocupaba la posibilidad de que se suspendan las ferias. Entonces empezamos a buscar alguna solución para los feriantes que les de visibilizad y un canal de comercialización\", indicó a Montevideo Portal Ximena Camaño, una de las realizadoras de la plataforma.\n",
       "\n",
       "El equipo que llevó adelante la iniciativa está integrado además por el periodista Sebastian Auyanet, Ignacio Castro y Martín Manzo.\n",
       "\n",
       "Camaño, que trabajaba hasta el mes <strong><u>pasado</u></strong> en la Anii y ahora es consultora independiente, explicó que el equipo junto a la Asociación de Feriantes fueron cargando las ferias de Montevideo y en ellas se ingresan los puestos con sus productos a la venta y contacto. En la web se pueden buscar por calles o por barrio.\n",
       "\n",
       "Gracias a una recomendación de usuarios de Twitter, se les pide también a los feriantes que manden una foto de ellos con el puesto, dado que hay clientes que no conocen los nombres de los comerciantes pero <strong><u>si</u></strong> los reconocen.\n",
       "\n",
       "Actualmente hay ingresados unos 20 puestos, pero conforme pasen las horas y los <strong><u>días</u></strong> seguirán sumándose. Los feriantes pueden comunicarse con los realizadores para enviar su información y ser ingresados a la web.\n",
       "\n",
       "El método de compra es definido por el feriante y el cliente, puede ser abonado en efectivo o tarjeta y entregado por delivery o puede pasarlo a buscar el cliente. Camaño dijo que buscarán agregar una forma de pago virtual, como Mercado Pago. Por último, agregó que le gustaría que este proyecto se replique en otros departamentos y tenga un alcance nacional."
      ],
      "text/plain": [
       "<IPython.core.display.HTML object>"
      ]
     },
     "metadata": {},
     "output_type": "display_data"
    },
    {
     "name": "stdout",
     "output_type": "stream",
     "text": [
      "__\n",
      "\n",
      "Score: 4.1314917\n"
     ]
    },
    {
     "data": {
      "text/html": [
       "Lacalle Pou descartó la implementación de la cuarentena por el momento: “No estamos haciendo política, estamos gobernando”\n",
       "23 de marzo de 2020 | En Uruguay | Foto: Ernesto Ryan\n",
       "El gobierno recurrirá a la presencia policial para aumentar la exhortación a la ciudadanía para que se quede en su casa.\n",
       "El presidente, Luis Lacalle Pou, informó en conferencia de prensa este lunes que en las últimas 24 horas dieron positivo solo cuatro de los 211 test de diagnóstico de Covid-19 que se aplicaron. De esta forma, llega a 162 el total de casos de coronavirus en Uruguay, de los cuales tres están internados, dos en cuidados moderados y uno en intensivo.\n",
       "Aún así, el mandatario exhortó a los uruguayos a “extremar las <strong><u>medidas</u></strong>” y permanecer en sus casas. “Lejos de despreocuparnos, tenemos que profundizar el <strong><u>aislamiento</u></strong> social”, pidió, haciendo hincapié en que <strong><u>si</u></strong> se toma como referencia la situación de otros países, “todavía no ha llegado el momento pico de esta pandemia” en Uruguay. Lacalle Pou informó que sobre el fin de esta semana Uruguay al menos duplicará su capacidad para hacer testeos, que actualmente es de unos 200 casos por día.\n",
       "Lacalle Pou destacó que “el acatamiento” al llamado del gobierno a permanecer en casa “es muy grande”, pese a lo cual mencionó el caso de ferias, plazas e incluso playas en las que se vio a mucha gente durante este fin de semana. Por eso el gobierno va a “intensificar la exhortación al <strong><u>aislamiento</u></strong> social” a través de la presencia policial: “un patrullero en cada feria, en la rambla, en las plazas”, precisó.\n",
       "Leé más sobre esto: Algunas sociedades científicas consideran que las <strong><u>medidas</u></strong> adoptadas ante el coronavirus “son suficientes y adecuadas”\n",
       "Ante la consulta sobre el pedido de cuarentena obligatoria, que fue planteado por el Sindicato Médico del Uruguay y el ex presidente Tabaré Vázquez, el presidente dijo que “cuando un gobierno dicta un acto jurídico lo tiene que hacer cumplir” y se preguntó <strong><u>si</u></strong> quienes promueven esa medida “están dispuestos a llevar detenido a un uruguayo en cualquier lugar del país” que haya salido de su casa a “tratar de hacer el peso”.\n",
       "“Nosotros no estamos haciendo política, no vamos a hacer política, nosotros estamos gobernando”, subrayó Lacalle Pou. “Lo nuestro es en serio. Tentaciones para hacer política, muchas, respuesta, ninguna. Gobierno responsable y cuidar a los uruguayos”, respondió.\n",
       "Más adelante el mandatario dijo que el gobierno <strong><u>sí</u></strong> analiza la posibilidad de un <strong><u>aislamiento</u></strong> obligatorio parcial para los mayores de 65 años, una decisión que se está analizando no solo desde el punto de vista sanitario sino también del económico.\n",
       "Por último, al ser consultado sobre el caceroleo convocado por el PIT-CNT y otras organizaciones sociales para demandarle al gobierno más <strong><u>medidas</u></strong>, sobre todo en materia económica, Lacalle Pou respondió secamente: “Están en todo su derecho, obviamente no lo compartimos. Nosotros estamos trabajando para mejorar la situación del país”."
      ],
      "text/plain": [
       "<IPython.core.display.HTML object>"
      ]
     },
     "metadata": {},
     "output_type": "display_data"
    },
    {
     "name": "stdout",
     "output_type": "stream",
     "text": [
      "__\n",
      "\n",
      "Score: 3.8811946\n"
     ]
    },
    {
     "data": {
      "text/html": [
       "Lo que se sabe hasta ahora de la primera víctima del coronavirus en Uruguay.\n",
       "\n",
       "Los médicos estudian <strong><u>si</u></strong> González Rissotto, quien falleció a los 71 años el sábado, contrajo coronavirus en Colonia, departamento que visitó <strong><u>días</u></strong> antes de ser internado.\n",
       "\n",
       "El exministro de la Corte Electoral y ex ministro de Defensa, Rodolfo González Rissotto, murió el sábado a las 20:10. González Rissotto era un “hombre del Partido Nacional”, según lo definió el sábado el secretario de Presidencia, Álvaro Delgado, y se convirtió en la primera víctima del coronavirus en Uruguay. \n",
       "\n",
       "Tenía 71 años y estaba internado en la Asociación Española. Según informaron a El Observador fuentes médicas, González Rissotto tenía como antecedente una neumonía reciente y también sobrepeso, dos factores que sumados a la edad provocaron que fuera internado en CTI.\n",
       "\n",
       "<strong><u>Si</u></strong> bien las autoridades buscan determinar dónde y cómo se contagió, fuentes del Ministerio de Salud Pública (MSP) señalaron a El Observador que no fue en el famoso casamiento de Carrasco, uno de los focos más grandes de la infección en Montevideo al inicio de la propagación. Tampoco está dentro de las hipótesis un viaje al exterior, ya que <strong><u>si</u></strong> bien el paciente viajó a Brasil, lo hizo antes de que llegara el virus en Suramérica. \n",
       "\n",
       "Las autoridades analizan <strong><u>si</u></strong> pudo contraer el virus en un viaje que hizo a Colonia, <strong><u>días</u></strong> antes de ser internado. \n",
       "\n",
       "González Rissotto era uno de los pacientes en cuidados intensivos, donde permanecen 10 personas portadoras de covid-19, mientras otras 2 están en cuidados intermedios. Estaba vinculado al Partido Nacional, en especial al Herrerismo. También era docente, historiador y especialista en Derecho Electoral.\n",
       "\n",
       "Entre 1990 y 1993 ocupó el cargo de director nacional de Educación, en el gobierno de Luis Alberto Lacalle, y luego fue subsecretario y ministro de Defensa Nacional, para en 1996 pasar a ocupar el cargo de ministro de la Corte Electoral, hasta que se retiró en 2010.\n",
       "\n",
       "Escribió numerosas publicaciones históricas. Junto con su esposa, Susana Rodríguez Varese, se enfocaron en el aporte de los guaraníes a la cultura del país y publicaron tres obras: Contribución al estudio de la influencia guaraní en la formación de la sociedad uruguaya (1982), El proceso de aculturación de los guaraníes-misioneros en el Uruguay (1988) y Los Guaraníes Misioneros en la Formación de la Sociedad Uruguaya (1988). \n",
       "\n",
       "Inesperado\n",
       "Con el aumento sostenido de los casos confirmados, los pacientes de covid-19 que necesitaron ser hospitalizados (con distinto grado de cuidados) también fueron creciendo en los últimos <strong><u>días</u></strong>. <strong><u>Si</u></strong> bien las autoridades tenían claro que en algún momento ocurriría la muerte de alguno de los pacientes, la noticia tomó por sorpresa al gobierno. \n",
       "\n",
       "El sábado, a la misma hora en la que los médicos comunicaban la muerte de González Rissotto, el gobierno brindaba una nueva conferencia de prensa para actualizar la situación epidemiológica e informar sobre nuevas <strong><u>medidas</u></strong> relacionadas a la violencia de género. \n",
       "\n",
       "La conferencia en Torre Ejecutiva terminó, pero pasados unos minutos —poco antes de que los informativos dejaran de estar al aire— el gobierno convocó de urgencia a los medios de comunicación para hacer un anuncio importante, esta vez sin preguntas. \n",
       "\n",
       "Así fue que apareció solo en el salón de la Torre Ejecutiva el secretario de Presidencia, Álvaro Delgado. “Como dijimos siempre vamos a ser transparentes con la información. Mientras estábamos en la conferencia de prensa hace unos minutos, a las 20:10, falleció el primer contagiado por coronavirus en la Asociación Española. 71 años. El profesor, amigo, Rodolfo González Rissotto”, anunció. \n",
       "\n",
       "El mensaje de Delgado continuó con un nuevo exhorto a la población para que se quede en sus casas. “Con más razón, reforzarles a todos el pedido de que se cuiden, que se queden en sus casas”, dijo. \n",
       "\n",
       "Antes de terminar el mensaje, el secretario de Presidencia contó una anécdota sobre González Rissotto. “Hace 10 <strong><u>días</u></strong> nos mandó un mensaje con unas flores bien coloridas y decía: ‘Con estas lindas flores quiero transmitir un mensaje de esperanza recordando que la humanidad ha sabido superar grandísimas pandemias en el <strong><u>pasado</u></strong>. Tengámosle miedo al miedo y solo a ello. Un abrazo’”, leyó Delgado con la voz quebrada.\n",
       "\n",
       "Una vez que el secretario de Presidencia terminó el anuncio, llegaron las primeras condolencias por la muerte de González Rissotto. Uno de los primeros fue el presidente de la República, Luis Lacalle Pou, quien envió un “fuerte abrazo” a la familia y los amigos del exministro de la Corte Electoral, a quien describió como su “amigo” y “consejero”. \n",
       "\n",
       "A Lacalle Pou le siguieron los pésames de varios dirigentes blancos, pero también de otros partidos y del Frente Amplio. \n",
       "\n",
       "El ministro de Educación y Cultura, Pablo Da Silveira, saludó a la viuda, Rodríguez Varese, a través de Twitter. “Descansa en paz, Rodolfo González Rissotto. Y un abrazo grande a Susana. Hoy todos estamos con ella”, escribió. \n",
       "\n",
       "Lo mismo hizo el canciller Ernesto Talvi. “Muy triste noticia. El coronavirus se llevó al primer compatriota aquí en Uruguay. Lamentamos mucho el fallecimiento de Rodolfo González Risotto. Un afectuoso saludo a su familia y amigos. QEPD”, escribió.\n",
       "\n",
       "El senador nacionalista Jorge Gandini escribió el siguiente mensaje: “Una pausa en el trabajo de estos <strong><u>días</u></strong>, para honrar la memoria de Rodolfo González Rissotto. Primer compatriota víctima de esta terrible pandemia, que hasta nos impide acompañarlo a él, a Susana y Leandro. Amigo, compañero, servidor y wilsonista de la primera hora. QEPD Rodolfo”.\n",
       "\n",
       "El expresidente colorado Julio María Sanguinetti, en tanto, recordó su labor como historiador. “Nuestro homenaje al profesor González Rissotto, gran ciudadano y relevante historiador del aporte guaraní a nuestra sociedad”, escribió en Twitter.\n",
       "\n",
       "El intentente de Montevideo, Christian Di Candia, valoró que este sábado fue un día de profundo dolor. “Lamentamos que esta pandemia se haya cobrado la primera víctima en nuestro país. Reflexionemos, extrememos precauciones y cuidémonos más que nunca. A la familia, un fraterno abrazo”, expresó."
      ],
      "text/plain": [
       "<IPython.core.display.HTML object>"
      ]
     },
     "metadata": {},
     "output_type": "display_data"
    },
    {
     "name": "stdout",
     "output_type": "stream",
     "text": [
      "__\n",
      "\n",
      "Score: 3.2873454\n"
     ]
    },
    {
     "data": {
      "text/html": [
       "LOS DE ARRIBA Y LOS DE ABAJO\n",
       "Mujica: “La clase media acomodada hacia arriba tiene que contribuir”\n",
       "El legislador del MPP aseguró que no se trata de “castigar” a ese sector social, pero “no se les puede pedir sacrificio a los pobres”.\n",
       "30.03.2020 14:30 Lectura: 6'  \n",
       "\n",
       " \n",
       "Los de arriba y los de abajo\n",
       "Archivo. Gerardo Carrasco / /Montevideo Portal\n",
       "\n",
       "\n",
       "\n",
       "NOTICIAS\n",
       "Recibilas diariamente en tu email\n",
       "Esta mañana, el expresidente y actual senador José Mujica habló en su espacio periódico en la emisora M24, en el que se refirió a los costos económicos y sociales que supone -y supondrá- la pandemia de COVID-19 que azota a la humanidad.\n",
       "\n",
       "Mujica abrió su columna lamentando que \"por estos <strong><u>días</u></strong> hemos sentido\" a través de los medios una suerte \"gritillo liberal\" en el sentido de \"procrear la libertad en su máxima expresión\", y <strong><u>si</u></strong> bien esto es \"un concepto muy bonito\", alguna de \"la gente que se dice de credo liberal\" en realidad \"parecen liberales de pacotilla\". \"Por un lado dices un concepto plausible, por el otro lado lo niegas\", dijo, criticando a quienes \"son parte de una forma de pensar que en el fondo ni por asomo es liberal\".\n",
       "\n",
       "En cuanto a las consecuencias del virus, Mujica recordó que este mal llega en un momento en el que hay un gigantesco \"nivel de deuda acumulado en el mundo entero\", algo que es \"consecuencia\" inexorable \"de esta etapa del capitalismo consumista\", que genera \"una civilización de deuda\".\n",
       "\n",
       "Ahora, y con esta pandemia sobre la mesa \"se va a resentir el mercado mundial\", con un desplome de las empresas, las economías y los intercambios. Y como \"tanta gente parada es valor que se pierde\", también \"los Estados van a recaudar menos en el momento en que tienen más gastos\", para intentar contener y mitigar los efectos de ese desplome.\n",
       "\n",
       "El legislador frenteamplista relacionó esas perspectivas internacionales con el hecho de que \"en estos <strong><u>días</u></strong> han surgido lógicamente\" en Uruguay \"propuestas de socorro, de ayuda\", siendo \"la mayoría muy dignas\", como la \"del PIT-CNT\", pero aun así \"apenas hablamos de la gente que vive haciendo trabajos de cuentapropista (...) sin ningún tipo de socorro\". Es que en esta situación \"los reclamos sobran\" y \"el propio gobierno nos acaba de confesar\" que \"lo que ha comprometido\" en recursos contantes para enfrentar esta emergencia \"anda por 400 millones de dólares y esta farra recién empezó\". \"Y son gastos sin retorno y que hay que hacerlos\".\n",
       "\n",
       "\n",
       "De ahí que \"nuestra preocupación no era reclamar\" sino establecer \"de dónde se saca, cómo se saca y las consecuencias que pueden tener las distintas variables para lo que viene, y esto es lo más difícil de ver\".\n",
       "\n",
       "Advertisement\n",
       "You can close Ad in 1 s\n",
       "En ese punto, destacó las actitudes solidarias y compasivas de personas, organizaciones sociales y empresas, valorando que \"esto es grandioso desde el punto de vista humano y práctico, pero no nos autoengañemos\" porque \"esto no se remienda con caridad\" sino tomando \"el amargo camino de decisiones de carácter político\" orientadas a que \"los que medianamente tienen un ingreso acomodado, colaboren, sin pedir mucho por cabeza pero pidiéndoles un poco a todas las cabezas que pueden, a todas\", puntualizó.\n",
       "\n",
       "\"De lo contrario\", alertó, \"el costo\" económico-financiero \"de esta enfermedad, más lo que viene <strong><u>después</u></strong> (...) lo va a terminar pagando la masa de asalariados más humildes, los que están en la franja de entre 20 y 40.000 pesos, a lo sumo\", más \"los desocupados y etcétera (...) y no es justo. <strong><u>Si</u></strong> este es un drama de todos, y hablamos de solidaridad, es lo lógico que los hombros más fuertes pongan algo, todos\", recalcó Mujica.\n",
       "\n",
       "De no optarse por esa asunción de compromiso por las personas y sectores más pudientes, \"el gobierno tiene cuatro caminos\" para poder disponer de \"esos recursos\" financieros indispensables para enfrentar esta situación.\n",
       "\n",
       "\"El primer camino que anda flotando, y es obvio, es jugar a la inflación, ajustando los salarios por abajo\", camino abierto de hecho \"antes que se desatara esta crisis\", ya que \"por la movida del dólar\" desde el 1 de marzo \"el promedio de los salarios y jubilaciones perdió el 10, 12%\", anotó.\n",
       "\n",
       "\n",
       "\"Otro camino que tiene\" para seguir el gobierno pasa por \"consumir reservas\" del Banco Central, opción que \"tiene límites\" de disponibilidad actual pero además puede \"crear una ecuación de deuda y disponibilidad efectiva que nos acogote y obligue a pagar intereses cada vez más altos\".\n",
       "\n",
       "\"La otra variable\" consiste en \"endeudarse, endeudarse más, pero solo para cubrir el gasto, y esto sería penoso\", tanto como endeudarse para comer.\n",
       "\n",
       "En este caso, \"la lucha inteligente sería endeudarse para ayudar y rescatar al mundo de la economía y del trabajo cuando amaine esta peste\", debido a que \"va a haber multitud de empresas (...) al borde de la quiebra\" que necesitarán \"crédito blando con bajos intereses\" para recuperarse y \"eso solo lo puede hacer el Estado\". \"Para eso tal vez hay que endeudarse\" y \"la economía generará medios <strong><u>después</u></strong> para solventar la herida financiera\".\n",
       "\n",
       "No obstante, apuntó el senador del Espacio 609, \"todos estos caminos tienen la peculiaridad de que en el fondo van a recaer sobre el poder adquisitivo del salario\", por lo que \"hay que plantearse el amargo camino de dónde se saca, cómo se saca y cómo nos perjudica menos a los sectores más humildes en el mediano plazo. Es por esto que planteé\" hacer \"una gigantesca vaca que incluya a todos; no hablé de salario, hablo de ingreso\".\n",
       "\n",
       "Para generar ese aporte financiero que no golpee aún más a los más vulnerables, \"toda esa clase media acomodada hacia arriba tiene que contribuir, tiene que poner algo, no mucho para castigarla, pero <strong><u>sí</u></strong> a muchos, a todos\" porque \"no se les puede pedir sacrificio a los pobres\".\n",
       "\n",
       "\n",
       "Se trata de que quienes viven más holgadamente y con más recursos \"amainen un poco en sus gastos y le den un respiro a la Nación (...) para que el Estado pueda seguir adelante con esta campaña y redistribuir, y que ese costo no se transforme en más endeudamiento (...) porque lo precisamos a posterior (...) para reflotar la economía y que los trabajadores tengan una oportunidad de trabajo, con un sistema empresarial que va a estar en gran medida destrozado\", como ya se ve en Argentina con despidos masivos de empresas grandes y \"esto es lo que se viene\" aquí. \"Necesitamos un Estado activo que tenga recursos para solventar el esfuerzo que hay que hacer\", resumió al respecto.\n",
       "\n",
       "Luego, Mujca aludió críticamente a las exigencias de ayuda de algunas organizaciones sociales. \"Naturalmente que uno cuando reclama ayuda (...) puede tener enormes razones, pero hay que ubicarse (...) ante los problemas de dónde se saca para gastar, y cuál es el camino\" para ello.\n",
       "\n",
       "No obstante, remarcó, \"no veo otro camino que la solidaridad interna de los brazos fuertes, de los lomos fuertes, un poquito todos\" de aporte en dinero, ya que \"existen vastísimos sectores que les va bien, tienen ingresos importantes y algo pueden aportar. No quiero nombrar quiénes, pero cualquiera que piense un poco se da cuenta\", reflexionó el legislador.\n",
       "\n",
       "\"Es la hora de la solidaridad, porque de lo contrario, el costo será enorme\" y es de Justicia que \"la masa de trabajadores más humildes\" de nuestro país \"no termine solventando esta desgracia que nos ha caído encima\", concluyó el político."
      ],
      "text/plain": [
       "<IPython.core.display.HTML object>"
      ]
     },
     "metadata": {},
     "output_type": "display_data"
    },
    {
     "name": "stdout",
     "output_type": "stream",
     "text": [
      "__\n",
      "\n",
      "Score: 3.233826\n"
     ]
    },
    {
     "data": {
      "text/html": [
       "Fernando Pereira, sobre el cacerolazo: “el apoyo de una parte importante de la sociedad fue impresionante”\n",
       "25 de marzo de 2020 | Negociación colectiva | Foto: Ernesto Ryan\n",
       "El ministro de Trabajo dijo que la medida del PIT-CNT fue “injusta” y “desproporcionada”\n",
       "La Intersocial, integrada por el PIT-CNT y organizaciones sociales, convocó esta noche a un caceroleo en apoyo a la batería de <strong><u>medidas</u></strong> presentadas el <strong><u>pasado</u></strong> lunes para enfrentar la crisis provocada por la llegada del coronavirus al país. La evaluación de las organizaciones convocantes fue altamente positiva. El presidente de la central sindical, Fernando Pereira, comentó a la diaria: “El apoyo a la Intersocial se hizo sentir muy fuerte. Las filmaciones de compañeros en barrios de la capital y en ciudades del interior muestran un respaldo muy importante a la dirección sindical, a las cooperativas de ayuda mutua, a las organizaciones feministas, estudiantiles, de jubilados, ambientalistas, colectivos de feriantes”.\n",
       "Leé más sobre esto: Los casos de coronavirus en Uruguay ascienden a 217\n",
       "Pereira comentó que “sin dudas” una “parte importante” de la sociedad uruguaya respaldó anoche las propuestas del PIT-CNT y reclamó que estas sean estudiadas por el gobierno. “Ahora esperamos que el gobierno las analice y dé respuesta. La gente nos mostró un apoyo formidable, a pesar de todas las barbaridades que se dijeron en estas horas. Nos sentimos emocionados por el apoyo y al mismo tiempo ratificamos que vamos a seguir actuando con responsabilidad y convicción para que el país salga de la mejor manera posible de esta crisis”, añadió. Según la central, esa salida debería ser “en clave de protección social”, priorizando las <strong><u>medidas</u></strong> de apoyo “para los sectores que ya empiezan a quedar más desprotegidos”.\n",
       " Caceroleo en el barrio Sur.\n",
       "Caceroleo en el barrio Sur.\n",
       "Las críticas del gobierno\n",
       "En el Poder Ejecutivo la medida no fue bien recibida. El ministro de Trabajo y Seguridad Social, Pablo Mieres, dijo a la diaria que le parecía “injusta y desproporcionada”, pero acotó que “obviamente tienen todo el derecho de expresarse”. “La comunicación con el PIT-CNT es muy fluida y permanente; no va a cambiar ni ha cambiado por este episodio”, aseguró.\n",
       "Por otra parte, el ministro de Educación y Cultura, Pablo da Silveira, criticó en su cuenta de Twitter la posición de la central sindical. “Hace poco más de un mes, el PIT-CNT homenajeaba a un presidente que no hizo nada para protegernos de la pandemia que se acercaba. Hoy llama a protestar contra un gobierno que deja todo en la cancha y toma buenas <strong><u>medidas</u></strong>. Difícil de entender”, afirmó.\n",
       "Pereira respondió que Da Silveira opinaba sin haber leído el comunicado de la central sindical. “Hemos hecho 25 o 30 entrevistas de prensa, incluso más de lo que nos da el cuerpo y la cabeza, y en todas hemos dicho que no es contra el gobierno y que no discrepamos con las <strong><u>medidas</u></strong> que ha tomado, sino que las consideramos insuficientes para poder llegar, cuando se llegue, a una cuarentena obligatoria”, dijo.\n",
       "Además, el sindicalista dijo que el ministro es libre de opinar lo que quiera, pero “<strong><u>si</u></strong> vio el sistema de salud de 2004 y lo compara con el de 2019, él mismo homenajearía [a Vázquez], porque estamos ante otro sistema de salud”. “Todo el mundo puede expresarse; lo que digo es que tiene un fundamento errado. ¿Faltan cosas por hacer? Claro que <strong><u>sí</u></strong>, pero no obviemos las cosas que se hicieron; <strong><u>si</u></strong> no, entramos en un mundo de necedades en el que nadie reconoce lo que hizo el otro. En el medio de la molestia, Twitter es enemigo de las buenas ideas. Lo mejor es tener el celular lejos <strong><u>si</u></strong> no hay capacidad de contenerse”, aseguró."
      ],
      "text/plain": [
       "<IPython.core.display.HTML object>"
      ]
     },
     "metadata": {},
     "output_type": "display_data"
    },
    {
     "name": "stdout",
     "output_type": "stream",
     "text": [
      "__\n",
      "\n",
      "Score: 2.875367\n"
     ]
    },
    {
     "data": {
      "text/html": [
       "Rebajarán por ley salarios y jubilaciones públicas superiores a 80.000 pesos para financiar el “fondo coronavirus”\n",
       "26 de marzo de 2020 | En Uruguay | Foto: Ernesto Ryan\n",
       "El secretario general de COFE cuestionó la medida: dijo que la solidaridad “no es obligada” y que se deja afuera al “gran capital”\n",
       "“Hoy ha sido un día particularmente intenso y queremos apelar, a través de los medios de comunicación, a bajar un poco la ansiedad”. Fueron las primeras palabras de Luis Lacalle Pou, presidente de la República, este jueves en conferencia de prensa, antes de anunciar nuevas <strong><u>medidas</u></strong> económicas en el marco de la emergencia sanitaria por el coronavirus.\n",
       "El mandatario se refirió a “alguna información que circulaba” sobre una “posible muerte por coronavirus en nuestro país”, y dijo que <strong><u>si</u></strong> bien entiende la “voluntad de tener una primicia”, se debe “generar certidumbre en estos tiempos donde no la hay”. Acto seguido, informó que se hicieron 245 test de coronavirus y 21 resultaron positivos, por lo tanto, los casos confirmados de la enfermedad en Uruguay ascienden a 238.\n",
       "Más adelante, el ministro de Salud Pública, Daniel Salinas, detalló que hay 18 personas internadas por coronavirus, de las cuales 12 están en sala común, dos en cuidados intermedios y cuatro en CTI. “Hasta el momento, ningún fallecido”, enfatizó el jerarca. Además, indicó que se hicieron 130 test a trabajadores de la salud, de los que 13 dieron positivos ‒e integran la lista total de casos ‒.\n",
       "El “fondo coronavirus” y cómo se financia\n",
       "Yendo al plato fuerte de la conferencia, Lacalle Pou se refirió a las nuevas <strong><u>medidas</u></strong> impulsadas por el gobierno, entre las que está la creación del “fondo coronavirus” para “seguir haciendo frente a las erogaciones”, y adelantó que “no va a alcanzar” para los gastos que tienen planificados. “Hemos cambiado el orden de prioridades; hasta el 13 de marzo eran unas, pero cambió todo. En el día de mañana [por el viernes] la ministra de Economía [Azucena Arbeleche] lo va a explicar: el ahorro público sigue siendo una meta, pero hoy pasa a segundo lugar. Continúa siendo una forma de entender el ejercicio del gobierno, pero hoy hay que tomar otro tipo de acciones”, señaló, con la jerarca sentada a su lado.\n",
       "El presidente sostuvo que “una vez más, los vulnerables van a ser los más atendidos”. Por lo tanto, entre las <strong><u>medidas</u></strong> sociales que Pablo Bartol, titular del Ministerio de Desarrollo Social, profundizará hoy en conferencia, está “la extensión de canastas alimenticias para aquellos más vulnerables y un aumento en la Asignaciones Familiares”. Luego explicó que el “fondo coronavirus” se va a nutrir “de las arcas públicas” y también “de ingresos de funcionarios públicos, porque es momento de que todos hagamos un esfuerzo”.\n",
       "“Se va nutrir del 20% que se le va a desconectar al presidente de la República, a los ministros, a los legisladores, a los directores de entes autónomos, para colaborar con el país en este momento de dificultades”, informó Lacalle. Agregó que también se nutrirá de un porcentaje, que irá de 5% a 20%, de los salarios públicos y jubilaciones que superen los 80.000 pesos líquidos.\n",
       "“Estos números los estamos redondeando, por eso mañana [por el viernes] la ministra en la conferencia les va a explicar bien los números exactos. Queremos decirles, con una enorme tranquilad, que sabemos que Uruguay está pasando mal, y que hay un sinnúmero de gente que se ha quedado sin trabajo y que no tiene alimentación. Todos tenemos que empujar del carro, empezando por los gobernantes, por el presidente de la República; no sólo en la dedicación horaria, afectiva, anímica e intelectual, sino también económica”, sostuvo. Acotó que el descuento salarial se hará por los próximos dos meses, “con la posibilidad de extenderlo según siga esta situación económica en nuestro país”.\n",
       " El presidente, Luis Lacalle Pou, durante la conferencia de prensa de este jueves 26 de marzo.\n",
       "El presidente, Luis Lacalle Pou, durante la conferencia de prensa de este jueves 26 de marzo.\n",
       "“No es una medida simpática sino solidaria”\n",
       "Cuando se abrió el espacio de preguntas para la prensa, el presidente ahondó en detalles sobre la medida de reducción salarial. Por ejemplo, dijo que los trabajadores de la salud quedan excluidos, “por razones obvias”, ya que “están en el primer frente de batalla”. Por otro lado, informó que la medida abarcará a los mandos militares, a las jubilaciones militares y a las de los ex presidentes. Dijo que la rebaja “no es una medida simpática sino solidaria”, y que por ende no entrará en “discusión con los sindicatos”, porque no lo hizo “estos <strong><u>días</u></strong>” y no lo va a “hacer ahora”.\n",
       "El presidente explicó que para aplicar esta medida hace falta una ley, que el Ministerio de Economía y Finanzas y Presidencia ya están trabajando para redactar el proyecto, y que “lo ideal” sería terminarlo el fin de semana para poder presentarlo en el Parlamento el lunes o el martes. Detalló que ya conversó sobre la iniciativa con líderes de otros partidos de la coalición, pero no el Frente Amplio (FA), y subrayó que los salarios no se descontarán “para ahorrar, sino para gastar”. “Esto es para la gente, es solidaridad pura”, enfatizó.\n",
       "“La solidaridad no es obligada”\n",
       "A todo esto, Joselo López, secretario general de la Confederación de Organizaciones de Funcionarios del Estado (COFE), dijo a la diaria que las <strong><u>medidas</u></strong> informadas por Lacalle Pou no fueron las que les comunicó este jueves más temprano, cuando junto con otros representantes del gremio se reunieron con el mandatario. Según el sindicalista, Lacalle Pou les dijo que el ahorro para volcar a las <strong><u>medidas</u></strong> por el coronavirus saldría del descuento de “10% de los salarios de 80.000 pesos nominales hacia arriba”. “<strong><u>Después</u></strong>, de tarde, mandó un mensaje en que nos dijo que estaban ajustando eso, que no iba a ser así, y en conferencia informó que iba a ser a partir de los 80.000 pesos líquidos, o sea, de cerca de 120.000 nominales”, sostuvo.\n",
       "Agregó que dentro de COFE tienen “mucha incertidumbre” y entienden que “se debe preservar la negociación colectiva”, algo que no sucede cuando el gobierno “les informa lo que van a hacer”. Además, subrayó que la “solidaridad no es obligada”, por lo tanto, no “se puede plantear esto como un aporte solidario, porque es un impuesto al sueldo para los salarios más altos”. Agregó que con esta medida el gobierno “toma por el camino más corto” y “nuevamente se le impone al salario o al trabajo y no al gran capital”.\n",
       "Agregó que Lacalle Pou dijo que la solidaridad es “entre todos”, pero en realidad esta medida “no es entre todos”. “Los que vamos a aportar somos los trabajadores, los jubilados y, por suerte, los militares; pero el gran capital, que se ha beneficiado con muchas <strong><u>medidas</u></strong> que está tomando el Poder Ejecutivo ahora, no está comprendido en esta medida que tomó el gobierno”, finalizó.\n",
       "Las primeras respuestas desde el FA\n",
       "En una línea similar se manifestaron varios integrantes del FA, que saludaron la solidaridad a la que convocó Lacalle Pou, pero también manifestaron sus discrepancias.\n",
       "“<strong><u>Si</u></strong> es que pague más quien tiene más ¿por qué solidaridad obligada para los trabajadores y colecta voluntaria para todos los demás?”, se preguntó a través de Twitter la diputada del Movimiento de Participación Popular (MPP) Bettiana Díaz.\n",
       "Bettiana Díaz Rey\n",
       "@bettianadiazrey\n",
       " La solidaridad de los trabajadores uruguayos es incuestionable, gracias a ella pudimos remar las peores crisis políticas y económicas de este país.\n",
       "<strong><u>Si</u></strong> es que pague más quien tiene más ¿por qué solidaridad obligada para los trabajadores y colecta voluntaria para todos los demás?\n",
       "52\n",
       "22:34 - 26 mar. 2020\n",
       "Información y privacidad de Twitter Ads\n",
       "29 personas están hablando de esto\n",
       "“Que pongan el hombro también los de mayor patrimonio y los de muy altos ingresos”, indicó por el mismo medio el candidato a la Intendencia de Montevideo Daniel Martínez:\n",
       "Ing. Daniel Martínez\n",
       "✔\n",
       "@Dmartinez_uy\n",
       " Valoramos que el gobierno sea solidario con los más vulnerables. Pero el esfuerzo tenemos que hacerlo todos, no sólo trabajadores y no sólo los públicos.\n",
       "Que pongan el hombro también los de mayor patrimonio y los de muy altos ingresos. \n",
       "<strong><u>Si</u></strong> es solidaridad, es entre todos.\n",
       "5.069\n",
       "22:48 - 26 mar. 2020\n",
       "Información y privacidad de Twitter Ads\n",
       "2.412 personas están hablando de esto\n",
       "Por su parte, el también diputado del MPP Daniel Caggiani también pidió al Ejecutivo “una hoja de ruta” y que las <strong><u>medidas</u></strong> no sean “en cuenta gotas”:\n",
       "Daniel Caggiani\n",
       "@DCaggiani\n",
       " Bienvenida la solidaridad. Más con lo que no tienen ingresos. Las <strong><u>medidas</u></strong> no pueden ser en cuenta gotas, debemos tener una hoja de ruta. Todos debemos aportar para la salida. Los que tienen más que aporten más. Y De los verdaderos ricos y sus riquezas necesitamos más esfuerzo aún\n",
       "73\n",
       "21:36 - 26 mar. 2020\n",
       "Información y privacidad de Twitter Ads\n",
       "35 personas están hablando de esto\n",
       "Mario Bergara recurrió a un hilo para señalar que no se revelaron los detalles que permitan evaluar realmente las <strong><u>medidas</u></strong> y subrayar que “queda en el aire cómo se va a implementar la solidaridad del empresariado y de los sectores más privilegiados” porque “el aporte tiene que ser de todos y todas quienes estamos en condiciones de hacerlo”. Además, tal como lo ha hecho el PIT-CNT, pidió “un marco de diálogo” del gobierno con los partidos políticos y las organizaciones sociales, para dar “una perspectiva de plan” para que las <strong><u>medidas</u></strong> anunciadas hasta ahora no sean “una sumatoria de planteos que a veces aparecen inconexos”.\n",
       "Mario Bergara\n",
       "@Mario_Bergara\n",
       " · 16h\n",
       "En respuesta a @Mario_Bergara\n",
       "Es necesario el esfuerzo de todos para atender las urgencias de un sector importante de la sociedad que es más vulnerable en esta emergencia. Pero el aporte tiene que ser de todos y todas quienes estamos en condiciones de hacerlo.\n",
       "Mario Bergara\n",
       "@Mario_Bergara\n",
       "El Frente Amplio tiende la mano al gobierno para contribuir. Ojalá el gobierno lo entienda de esa manera y reciba las ideas que pueda proponer la mayor fuerza política del país. Lo mismo cabe para lo planteado por diversas organizaciones sociales. Nadie sobre en esta batalla.\n",
       "393\n",
       "22:40 - 26 mar. 2020\n",
       "Información y privacidad de Twitter Ads\n",
       "86 personas están hablando de esto\n",
       "Por otra parte, la candidata a la IM por el FA, Carolina Cosse, opinó en la misma línea y dijo que la coalición de izquierda propuso al gobierno propuestas y es sano que el presidente “deje participar”. “Aislarse no suma”, añadió.\n",
       "Carolina Cosse\n",
       "✔\n",
       "@CosseCarolina\n",
       " La solidaridad no se impone, se construye. El pueblo uruguayo está dispuesto a esto y más, pero <strong><u>si</u></strong> se exigen obligaciones también deben respetarse derechos. El @Frente_Amplio presentó propuestas, es sano que el presidente se siente a hablar  y deje participar. Aislarse no suma.\n",
       "859\n",
       "11:53 - 27 mar. 2020\n",
       "Información y privacidad de Twitter Ads\n",
       "630 personas están hablando de esto"
      ],
      "text/plain": [
       "<IPython.core.display.HTML object>"
      ]
     },
     "metadata": {},
     "output_type": "display_data"
    },
    {
     "name": "stdout",
     "output_type": "stream",
     "text": [
      "__\n",
      "\n",
      "Score: 2.4118094\n"
     ]
    },
    {
     "data": {
      "text/html": [
       "Gobierno estima que recaudará seis millones de dólares mensuales por rebaja de públicos; postergaron anuncios sobre jubilaciones y Caja Militar\n",
       "27 de marzo de 2020 | Coronavirus | Foto: Ernesto Ryan\n",
       "Este viernes se confirmaron 36 nuevos casos de coronavirus en Uruguay, llegando a un total de 274 positivos.\n",
       "En la conferencia de prensa de este viernes, el secretario de Presidencia, Álvaro Delgado, anunció que se hicieron 451 nuevos test de diagnóstico de coronavirus, de los cuales 415 dieron negativos y 36 positivos, con lo cual Uruguay pasa a tener un total de 274 casos en total. De ellos, 233 están en domicilio, 15 internados en sala, dos en cuidados intermedios y cuatro en CTI.\n",
       "\n",
       "Delgado también fue consultado sobre las propuestas que presentó este viernes el Frente Amplio. “Obviamente se van a analizar, todas las propuestas son bienvenidas, todas se van a analizar”, respondió, antes de señalar que “además de propuestas al gobierno también hay una serie de instituciones, sobre todo privadas, que están organizándose en diferentes colectivos para colaborar”.\n",
       "\n",
       "Escala de descuentos para los funcionarios\n",
       "Salario nominal mensual (pesos)\n",
       "\n",
       "Más de 120.000 hasta 130.000: 5%\n",
       "Más de 130.000 hasta 150.000: 10%\n",
       "Más de 150.000 hasta 180.000: 15%\n",
       "Más de 180.000: 20%\n",
       "Las precisiones de Arbeleche\n",
       "La ministra de Economía y Finanzas (MEF), Azucena Arbeleche, brindó anoche precisiones sobre cómo se financiará el recién creado “fondo coronavirus”. Sus ingresos, en principio y sin descartar otros instrumentos, incluirán “las utilidades que vienen de distintas empresas públicas, bancos públicos, como el Banco República y la Corporación Nacional para el Desarrollo”, los desembolsos de préstamos de organismos multilaterales de crédito, “los aportes de los salarios de los funcionarios públicos” ‒a raíz de la rebaja salarial que, reiteró, es “por dos meses y de forma excepcional”‒ y otras partidas, como las de prensa que “los legisladores han resignado”.\n",
       "\n",
       "De ese fondo saldrán los recursos para cubrir “todas las necesidades” que el país enfrente como consecuencia de la Covid-19. En cuanto a lo sanitario, se trabaja para abastecer el sistema de salud para esta etapa y la siguiente, “que seguramente va a ser más aguda, a juzgar por lo que vemos en otros países”. Respecto de lo social, se busca “cubrir a la población más vulnerable”.\n",
       "\n",
       "Con respecto a los aportes de los funcionarios, tal como adelantó el presidente Luis Lacalle Pou el jueves, habrá dos mecanismos diferentes. Por un lado, quienes ocupen cargos políticos electos o designados y cobren más de 80.000 pesos líquidos van a aportar 20% de su salario nominal. Por otro, los trabajadores del sector público que tengan un sueldo líquido por encima de los 80.000 pesos tendrán descuentos escalonados de entre 5% y 20%, según el monto, que serán aplicados a su sueldo nominal. Arbeleche precisó que ni unos ni otros pasarán a cobrar menos de 80.000 pesos en mano.\n",
       "\n",
       "Otras <strong><u>medidas</u></strong> anunciadas por el gobierno\n",
       "El secretario de Presidencia Álvaro Delgado dijo que “en los próximos 15 <strong><u>días</u></strong> Uruguay se juega gran parte de la lucha contra el coronavirus” y llamó a extremar las <strong><u>medidas</u></strong> de precaución.\n",
       "\n",
       "Este fin de semana habrá menos frecuencia de transporte tanto urbano como interdepartamental para reducir el movimiento de las personas dentro del país.\n",
       "Se mantiene el calendario de pagos de jubilaciones y pensiones, se pide a los beneficiarios que vayan en el día y hora que tienen prefijado para cobrar y se va a trabajar en la descentralización para que a los locales de BPS concurra la menor cantidad de jubilados y pensionados posible. En los locales de pago se atenderá con prioridad a los mayores de 65 años, tanto <strong><u>si</u></strong> van a cobrar como <strong><u>si</u></strong> van a hacer otro trámite.\n",
       "Ante una pregunta, la ministra precisó que la medida alcanza a unas 15.000 personas y permitirá recaudar 12 millones de dólares en los dos meses. También aclaró que por el momento no se definió cuál será la rebaja para las jubilaciones y pensiones más altas, ni para la Caja Militar. Eso se anunciará la semana que viene, pero adelantó que los montos afectados serán “bastante más superiores” a los 80.000 pesos.\n",
       "\n",
       "La titular del MEF fue consultada sobre <strong><u>si</u></strong> se implementarán <strong><u>medidas</u></strong> similares para empresarios, pero respondió que el sector privado enfrenta una situación difícil por el parate de la economía ‒mencionó el creciente número de solicitudes de seguro de desempleo‒ y que la rebaja salarial para los funcionarios busca “repartir de forma más equitativa” los costos que la pandemia está generando. También aclaró que no hay ninguna medida descartada.\n",
       "\n",
       "“Desde el Ministerio de Economía y Finanzas, y con el resto del equipo económico, estamos focalizados en que siga funcionando la economía, para que los motores de la economía no se apaguen”, agregó la ministra, antes de recordar algunas de las <strong><u>medidas</u></strong> que el gobierno ya ha tomado.\n",
       "\n",
       "Las canastas alimenticias para los beneficiarios de asignaciones\n",
       "Lacalle Pou había dicho el jueves que se anunciaría “un aumento en las asignaciones familiares, importante”. Sin embargo, el ministro de Desarrollo Social, Pablo Bartol, anunció la entrega de dos canastas alimentarias, en abril y mayo, a las 118.000 familias que reciben la asignación familiar Plan de Equidad (que es para familias en situación de vulnerabilidad socioeconómica y está condicionado a la asistencia a la educación y los controles médicos de los menores a cargo). Además, informó que se abrió una vía de inscripción para los trabajadores informales que no estén registrados en ningún sistema de protección social ‒el 0800 7263 y un formulario web a partir de la semana próxima‒, que también recibirán “esta asistencia alimenticia”.\n",
       "\n",
       "Los próximos anuncios\n",
       "Las autoridades dijeron que se reunieron con las autoridades de Inmujeres y que la próxima semana se presentará un programa para abordar las situaciones de violencia doméstica. “Es un tema que nos preocupa”, dijo Delgado.\n",
       "\n",
       "En los próximos <strong><u>días</u></strong> se darán a conocer <strong><u>medidas</u></strong> para las empresas unipersonales y los monotributistas."
      ],
      "text/plain": [
       "<IPython.core.display.HTML object>"
      ]
     },
     "metadata": {},
     "output_type": "display_data"
    },
    {
     "name": "stdout",
     "output_type": "stream",
     "text": [
      "__\n",
      "\n",
      "Score: 1.6667751\n"
     ]
    },
    {
     "data": {
      "text/html": [
       "ANII lanzó ahora línea concursable para financiar el diseño y producción de respiradores para atender a pacientes con Covid-19\n",
       "23 de marzo de 2020 | Comunidad científica\n",
       "El llamado, en conjunto con el MIEM y Plan Ceibal, financia con hasta seis millones de pesos la fabricación de ventiladores pulmonares mecánicos para atender a 50 pacientes en cuidados intensivos que deberán estar en funcionamiento en mayo.\n",
       "Así como la semana pasada la Agencia Nacional de Investigación e Innovación (ANII) anunció el lanzamiento de “un desafío ANII”, con el objetivo de financiar “el desarrollo y elaboración de un Kit de Diagnóstico del Covid-19” que deberían estar “disponibles y en uso antes de mayo de 2020”, este lunes se emitió el comunicado de un nuevo desafío, esta vez destinado al desarrollo y producción de ventiladores pulmonares mecánicos.\n",
       "Nuevamente, se trata de un llamado relámpago, ya que el plazo para presentarse vence el 31 de marzo, y está dirigido a “empresas y organizaciones que estén radicadas en el país, de forma individual o asociadas a otras organizaciones nacionales o extranjeras como empresas, centros tecnológicos o institutos de investigación públicos o privados”.\n",
       "El desafío “planteado por el MIEM y ANII consiste en el diseño y producción de respiradores para atender a 50 personas”, sostienen, y aclaran que deben ser “de fabricación rápida, completos, en funcionamiento comprobado y avalados por los estándares de las organizaciones médicas correspondientes (por ejemplo, usando impresoras 3D entre otras tecnologías 4.0)”.\n",
       "El objetivo del llamado es claro: “se busca colaborar a la falta de respiradores en los CTI de los centros de salud del país para los pacientes graves afectados por coronavirus”, razón por la cual se comunicarán los resultados el 3 de abril, “para que la producción comience inmediatamente <strong><u>después</u></strong>. De esta forma se busca atender la rápida propagación del virus y el aumento en el número de personas hospitalizadas que requieren este equipamiento”.\n",
       "El lanzamiento del llamado se produjo el mismo día en que circuló en redes sociales como Twitter que “algunos grupos docentes” de la Facultad de Ingeniería de la Universidad de la República estaban “trabajando en el desarrollo de investigaciones, modelos y dispositivos que podrían ayudar en la emergencia sanitaria decretada por el #COVID19”.\n",
       "Julian Oreggioni\n",
       "@joreggioni\n",
       " Vistas las repercusiones de mensajes y convocatorias en redes sociales, la Fing de @Udelaruy informa q algunos grupos de docentes están trabajando en el desarrollo de investigaciones, modelos y dispositivos q podrían ayudar en la emergencia sanitaria decretada por el #COVID19 1/4\n",
       "40\n",
       "12:44 - 23 mar. 2020\n",
       "Información y privacidad de Twitter Ads\n",
       "36 personas están hablando de esto"
      ],
      "text/plain": [
       "<IPython.core.display.HTML object>"
      ]
     },
     "metadata": {},
     "output_type": "display_data"
    },
    {
     "name": "stdout",
     "output_type": "stream",
     "text": [
      "__\n",
      "\n",
      "Score: 1.4902495\n"
     ]
    },
    {
     "data": {
      "text/html": [
       "Instituto Pasteur lidera un estudio genético del coronavirus que permitirá tomar <strong><u>medidas</u></strong> contra su propagación\n",
       "La investigación aportará herramientas clave para conocer cuándo llegó el virus, las cepas que circulan y cómo afectan la salud\n",
       "29 DE MARZO DE 2020 - 19:46\n",
       "Instituto Pasteur lidera un estudio genético del coronavirus que permitirá tomar <strong><u>medidas</u></strong> contra su propagación \n",
       "Un estudio liderado por Gregorio Iraola, Pilar Moreno y Gonzalo Moratorio en el Instituto Pasteur, logró analizar y secuenciar los genomas de diez pacientes con coronavirus (COVID-19) en Uruguay.\n",
       "\n",
       "\n",
       "Según se explicó en el twitter del Instituto Pasteur, esta investigación se llevó a cabo a través de la tecnología Nanopore y permitirá conocer de dónde provienen las cepas que ingresaron a Uruguay y cuando llegó el coronavirus al país.\n",
       "\n",
       "Además permite establecer <strong><u>si</u></strong> hay variantes del virus circulando en el país; hoy en día se conocen tres variantes y cuando se conozca el efecto de las mismas en la salud, se podrá mejorar la atención sanitaria.\n",
       "\n",
       "Desde el Instituto Pasteur explicaron que al determinar cuándo ingresó el virus a Uruguay se puede conocer <strong><u>si</u></strong> efectivamente entró cuando aparecieron los casos o <strong><u>si</u></strong> ya estaba desde antes.\n",
       "\n",
       "A través de este estudio se podrá analizar el comportamiento epidemiológico del virus durante la epidemia, \"conocer los tiempos epidemiológicos es fundamental para ver <strong><u>si</u></strong> las <strong><u>medidas</u></strong> de control se tomaron a tiempo\"."
      ],
      "text/plain": [
       "<IPython.core.display.HTML object>"
      ]
     },
     "metadata": {},
     "output_type": "display_data"
    },
    {
     "name": "stdout",
     "output_type": "stream",
     "text": [
      "__\n",
      "\n"
     ]
    }
   ],
   "source": [
    "get(0,'¿Cuántos días habrían pasado desde que se iniciaron las medidas de aislamiento si se levantan después de Turismo?')"
   ]
  },
  {
   "cell_type": "code",
   "execution_count": null,
   "metadata": {},
   "outputs": [],
   "source": []
  },
  {
   "cell_type": "code",
   "execution_count": null,
   "metadata": {},
   "outputs": [],
   "source": []
  }
 ],
 "metadata": {
  "kernelspec": {
   "display_name": "Python 3",
   "language": "python",
   "name": "python3"
  },
  "language_info": {
   "codemirror_mode": {
    "name": "ipython",
    "version": 3
   },
   "file_extension": ".py",
   "mimetype": "text/x-python",
   "name": "python",
   "nbconvert_exporter": "python",
   "pygments_lexer": "ipython3",
   "version": "3.7.6"
  }
 },
 "nbformat": 4,
 "nbformat_minor": 4
}
